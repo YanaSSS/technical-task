{
 "cells": [
  {
   "cell_type": "code",
   "execution_count": 1,
   "id": "f02c027b",
   "metadata": {},
   "outputs": [],
   "source": [
    "# !pip install tldextract"
   ]
  },
  {
   "cell_type": "code",
   "execution_count": 2,
   "id": "bd5e4989",
   "metadata": {},
   "outputs": [],
   "source": [
    "%matplotlib inline"
   ]
  },
  {
   "cell_type": "markdown",
   "id": "328d4613",
   "metadata": {},
   "source": [
    "Целта на задачата е да покаже твоите познания по deep learning, умението да четеш документация, разбираш алгоритми и работиш с тях.\n",
    "\n",
    "Фокусът на оценяването ще бъде върху цялостния проект, избора на алгоритми, библиотеки и инструменти. Не се очаква крайно работещо решение, по-важно за нас е да видим подхода на работа.\n",
    "\n",
    "Техническата задача: Клъстеризация на документи\n",
    "\n",
    "Прикачено ще намериш JSON файл, който съдържа информация от 300 документа. Целта е да ги клъстеризираш както прецениш.\n",
    "\n",
    "Позволено е използването на всякакви техники за клъстериране. (Подсказка: може да използваш техники като Word2Vec, Word2Word, Word2Document, TF/IDF).\n",
    "\n",
    "Бонус:\n",
    "\n",
    "Да се добавят подходящи заглавия на всяка клъстерирана група документи спрямо съдържанието ѝ.\n",
    "Решението да бъде качено в Git\n",
    " \n",
    "\n",
    "За изпълнена техническата задача ще се приеме, ако бъде изпратена до 26.04.2022г. (вторник) и съдържа решение на техническата задача (не е нужно да е крайно) и документация, в която е обяснено какви подходи са избрани и защо."
   ]
  },
  {
   "cell_type": "code",
   "execution_count": 3,
   "id": "89d0c0ae",
   "metadata": {},
   "outputs": [],
   "source": [
    "import json\n",
    "import numpy as np\n",
    "import pandas as pd\n",
    "from pandas import json_normalize\n",
    "\n",
    "import re\n",
    "import string\n",
    "import tldextract\n",
    "import itertools\n",
    "\n",
    "import seaborn as sns\n",
    "import matplotlib.pyplot as plt\n",
    "\n",
    "pd.options.display.max_colwidth=100\n",
    "pd.set_option('display.max_columns', None)\n",
    "pd.set_option('display.max_rows', None)"
   ]
  },
  {
   "cell_type": "code",
   "execution_count": 4,
   "id": "a402abe3",
   "metadata": {},
   "outputs": [],
   "source": [
    "with open('docs.json', encoding=\"utf8\") as f:\n",
    "    data = json.load(f)\n",
    "# print(data)"
   ]
  },
  {
   "cell_type": "code",
   "execution_count": 5,
   "id": "159e5b24",
   "metadata": {},
   "outputs": [],
   "source": [
    "docs = json_normalize(data['hits']['hits'])"
   ]
  },
  {
   "cell_type": "code",
   "execution_count": 6,
   "id": "9bfde99c",
   "metadata": {},
   "outputs": [
    {
     "data": {
      "text/plain": [
       "(300, 42)"
      ]
     },
     "execution_count": 6,
     "metadata": {},
     "output_type": "execute_result"
    }
   ],
   "source": [
    "docs.shape"
   ]
  },
  {
   "cell_type": "code",
   "execution_count": 7,
   "id": "ac72352a",
   "metadata": {},
   "outputs": [],
   "source": [
    "# docs.info()"
   ]
  },
  {
   "cell_type": "code",
   "execution_count": 8,
   "id": "1aa7bd72",
   "metadata": {},
   "outputs": [],
   "source": [
    "docs.columns = docs.columns.str.replace(r'_source.', '', regex=False)"
   ]
  },
  {
   "cell_type": "markdown",
   "id": "3d2e82c4",
   "metadata": {},
   "source": [
    "1. Rename columns - remove source in front it kills me - done\n",
    "2. Data clean - why I am going to remove some columns - too many nulls, no way to interpolate\n",
    "3. Change column types - for dates\n",
    "4. Determine category columns\n",
    "5. Possible clusters linked to the number of media types where the texts come from and or article type\n",
    "6. Choose alghorithms: Word2Vec, Word2Word, Word2Document, TF/IDF other\n",
    "7. Add documentation with explanations about my approach\n",
    "8. Name clusters\n",
    "9. Upload in Github"
   ]
  },
  {
   "cell_type": "code",
   "execution_count": 9,
   "id": "3a2cf57d",
   "metadata": {},
   "outputs": [],
   "source": [
    "docs.rename(columns=(\n",
    "    {\n",
    "        '_index': 'index',\n",
    "        '_type': 'type',\n",
    "        '_id': 'id',\n",
    "        '_score': 'score',\n",
    "        'mediaitemid': 'media_item_id', \n",
    "        'summaryid': 'summary_id',\n",
    "        'programid': 'program_id',\n",
    "        'commentatorid': 'commentator_id',\n",
    "        'datecreated': 'date_created',\n",
    "        'airdate': 'air_date',\n",
    "        'searchabletext': 'searchable_text',\n",
    "        'fulltext': 'full_text',\n",
    "        'programname': 'program_name',\n",
    "        'sourcename': 'source_name',\n",
    "        'mediatype': 'media_type',\n",
    "        'articletype': 'article_type',\n",
    "        'sourcesystem': 'source_system',\n",
    "        'entityname': 'entity_name',\n",
    "        'mediaoutletlogo': 'media_outlet_logo',\n",
    "        'mediatypeid': 'media_type_id',\n",
    "        'companyname': 'company_name',\n",
    "        'deliverysetname': 'delivery_set_name',\n",
    "        'briefname': 'brief_name',\n",
    "        'prospectkeyword': 'prospect_keyword',\n",
    "        '@version': 'version',\n",
    "        '@timestamp': 'time_stamp'\n",
    "    }\n",
    "), inplace=True)"
   ]
  },
  {
   "cell_type": "code",
   "execution_count": 10,
   "id": "cb8b3116",
   "metadata": {},
   "outputs": [
    {
     "name": "stdout",
     "output_type": "stream",
     "text": [
      "<class 'pandas.core.frame.DataFrame'>\n",
      "RangeIndex: 300 entries, 0 to 299\n",
      "Data columns (total 42 columns):\n",
      " #   Column             Non-Null Count  Dtype  \n",
      "---  ------             --------------  -----  \n",
      " 0   index              300 non-null    object \n",
      " 1   type               300 non-null    object \n",
      " 2   id                 300 non-null    object \n",
      " 3   score              300 non-null    int64  \n",
      " 4   media_item_id      300 non-null    int64  \n",
      " 5   summary_id         300 non-null    object \n",
      " 6   program_id         300 non-null    int64  \n",
      " 7   commentator_id     300 non-null    int64  \n",
      " 8   headline           300 non-null    object \n",
      " 9   date_created       300 non-null    object \n",
      " 10  air_date           300 non-null    object \n",
      " 11  searchable_text    300 non-null    object \n",
      " 12  abstract           300 non-null    object \n",
      " 13  full_text          158 non-null    object \n",
      " 14  program_name       300 non-null    object \n",
      " 15  source_name        300 non-null    object \n",
      " 16  media_type         300 non-null    object \n",
      " 17  commentator        300 non-null    object \n",
      " 18  article_type       284 non-null    object \n",
      " 19  source_system      300 non-null    object \n",
      " 20  state              300 non-null    object \n",
      " 21  country            300 non-null    object \n",
      " 22  entity_name        186 non-null    object \n",
      " 23  socialuserid       12 non-null     float64\n",
      " 24  twitterfollowers   16 non-null     float64\n",
      " 25  twitterfollowing   16 non-null     float64\n",
      " 26  twitterposts       16 non-null     float64\n",
      " 27  buzzresultid       16 non-null     object \n",
      " 28  username           12 non-null     object \n",
      " 29  displayname        12 non-null     object \n",
      " 30  profileurl         12 non-null     object \n",
      " 31  picturefolder      0 non-null      object \n",
      " 32  picturecount       0 non-null      object \n",
      " 33  hyperlink          300 non-null    object \n",
      " 34  media_outlet_logo  179 non-null    object \n",
      " 35  media_type_id      300 non-null    int64  \n",
      " 36  company_name       300 non-null    object \n",
      " 37  delivery_set_name  300 non-null    object \n",
      " 38  brief_name         300 non-null    object \n",
      " 39  prospect_keyword   298 non-null    object \n",
      " 40  version            300 non-null    object \n",
      " 41  time_stamp         300 non-null    object \n",
      "dtypes: float64(4), int64(5), object(33)\n",
      "memory usage: 98.6+ KB\n"
     ]
    }
   ],
   "source": [
    "docs.info()"
   ]
  },
  {
   "cell_type": "markdown",
   "id": "afe7383a",
   "metadata": {},
   "source": [
    "The task is to cluster documents. \n",
    "First things first, There are several columns where over 90 percent of the values are null - columns 23 to 32. We cannot remove null rows or perform data imputation. These columns will be removed. \n",
    "\n",
    "The following columns we need to explore before we decide their future: 13, 18, 22, 34, 39"
   ]
  },
  {
   "cell_type": "code",
   "execution_count": 11,
   "id": "b4af5694",
   "metadata": {},
   "outputs": [],
   "source": [
    "docs.drop(\n",
    "    [\n",
    "        'socialuserid', \n",
    "        'twitterfollowers', \n",
    "        'twitterfollowing', \n",
    "        'twitterposts', \n",
    "        'buzzresultid', \n",
    "        'username', \n",
    "        'displayname',\n",
    "        'profileurl', \n",
    "        'picturefolder',\n",
    "        'picturecount',\n",
    "    ], axis=1, inplace=True)"
   ]
  },
  {
   "cell_type": "code",
   "execution_count": 12,
   "id": "7570643a",
   "metadata": {},
   "outputs": [
    {
     "data": {
      "text/plain": [
       "index                  0\n",
       "type                   0\n",
       "id                     0\n",
       "score                  0\n",
       "media_item_id          0\n",
       "summary_id             0\n",
       "program_id             0\n",
       "commentator_id         0\n",
       "headline               0\n",
       "date_created           0\n",
       "air_date               0\n",
       "searchable_text        0\n",
       "abstract               0\n",
       "full_text            142\n",
       "program_name           0\n",
       "source_name            0\n",
       "media_type             0\n",
       "commentator            0\n",
       "article_type          16\n",
       "source_system          0\n",
       "state                  0\n",
       "country                0\n",
       "entity_name          114\n",
       "hyperlink              0\n",
       "media_outlet_logo    121\n",
       "media_type_id          0\n",
       "company_name           0\n",
       "delivery_set_name      0\n",
       "brief_name             0\n",
       "prospect_keyword       2\n",
       "version                0\n",
       "time_stamp             0\n",
       "dtype: int64"
      ]
     },
     "execution_count": 12,
     "metadata": {},
     "output_type": "execute_result"
    }
   ],
   "source": [
    "# docs.info()\n",
    "docs.isnull().sum()"
   ]
  },
  {
   "cell_type": "code",
   "execution_count": 13,
   "id": "0d0dbb19",
   "metadata": {},
   "outputs": [
    {
     "data": {
      "text/html": [
       "<div>\n",
       "<style scoped>\n",
       "    .dataframe tbody tr th:only-of-type {\n",
       "        vertical-align: middle;\n",
       "    }\n",
       "\n",
       "    .dataframe tbody tr th {\n",
       "        vertical-align: top;\n",
       "    }\n",
       "\n",
       "    .dataframe thead th {\n",
       "        text-align: right;\n",
       "    }\n",
       "</style>\n",
       "<table border=\"1\" class=\"dataframe\">\n",
       "  <thead>\n",
       "    <tr style=\"text-align: right;\">\n",
       "      <th></th>\n",
       "      <th>index</th>\n",
       "      <th>type</th>\n",
       "      <th>id</th>\n",
       "      <th>score</th>\n",
       "      <th>media_item_id</th>\n",
       "      <th>summary_id</th>\n",
       "      <th>program_id</th>\n",
       "      <th>commentator_id</th>\n",
       "      <th>headline</th>\n",
       "      <th>date_created</th>\n",
       "      <th>air_date</th>\n",
       "      <th>searchable_text</th>\n",
       "      <th>abstract</th>\n",
       "      <th>full_text</th>\n",
       "      <th>program_name</th>\n",
       "      <th>source_name</th>\n",
       "      <th>media_type</th>\n",
       "      <th>commentator</th>\n",
       "      <th>article_type</th>\n",
       "      <th>source_system</th>\n",
       "      <th>state</th>\n",
       "      <th>country</th>\n",
       "      <th>entity_name</th>\n",
       "      <th>hyperlink</th>\n",
       "      <th>media_outlet_logo</th>\n",
       "      <th>media_type_id</th>\n",
       "      <th>company_name</th>\n",
       "      <th>delivery_set_name</th>\n",
       "      <th>brief_name</th>\n",
       "      <th>prospect_keyword</th>\n",
       "      <th>version</th>\n",
       "      <th>time_stamp</th>\n",
       "    </tr>\n",
       "  </thead>\n",
       "  <tbody>\n",
       "    <tr>\n",
       "      <th>0</th>\n",
       "      <td>demo1</td>\n",
       "      <td>logs</td>\n",
       "      <td>AVf1MzEjpI2L3kY8EWkf</td>\n",
       "      <td>1</td>\n",
       "      <td>232128474</td>\n",
       "      <td>649151843</td>\n",
       "      <td>79006</td>\n",
       "      <td>6925</td>\n",
       "      <td>Taiwan's budget carrier V Air to cease operations</td>\n",
       "      <td>2016-08-29T17:45:10.873Z</td>\n",
       "      <td>2016-09-01T00:00:00.000Z</td>\n",
       "      <td>&lt;root&gt;&lt;item&gt;&lt;id xml:lang=\"en-US\"&gt;649151843&lt;/id&gt;&lt;head xml:lang=\"en-US\"&gt;Taiwan's budget carrier V ...</td>\n",
       "      <td>Taiwanese regional budget carrierV Air will go out of business in October after less than two ye...</td>\n",
       "      <td>\\r\\n    Taiwanese regional budget carrierV Air will go out of business in October after less tha...</td>\n",
       "      <td>General News</td>\n",
       "      <td>Asian Aviation</td>\n",
       "      <td>Magazine</td>\n",
       "      <td>None</td>\n",
       "      <td>News Item</td>\n",
       "      <td>Press</td>\n",
       "      <td>National</td>\n",
       "      <td>Australia</td>\n",
       "      <td>Asian Aviation</td>\n",
       "      <td></td>\n",
       "      <td>None</td>\n",
       "      <td>15</td>\n",
       "      <td>Etihad Airways</td>\n",
       "      <td>My133 3</td>\n",
       "      <td>Competitors Press</td>\n",
       "      <td>Airways,announced,business,capital,industry,launched,plan,planned,route,routes,service,staff,tak...</td>\n",
       "      <td>1</td>\n",
       "      <td>2016-10-24T05:39:14.405Z</td>\n",
       "    </tr>\n",
       "    <tr>\n",
       "      <th>1</th>\n",
       "      <td>demo1</td>\n",
       "      <td>logs</td>\n",
       "      <td>AVf1MzEjpI2L3kY8EWkg</td>\n",
       "      <td>1</td>\n",
       "      <td>232130228</td>\n",
       "      <td>649157337</td>\n",
       "      <td>79006</td>\n",
       "      <td>645731</td>\n",
       "      <td>China high on AirAsia wishlist</td>\n",
       "      <td>2016-08-29T18:06:10.700Z</td>\n",
       "      <td>2016-09-01T00:00:00.000Z</td>\n",
       "      <td>&lt;root&gt;&lt;item&gt;&lt;id xml:lang=\"en-US\"&gt;649157337&lt;/id&gt;&lt;head xml:lang=\"en-US\"&gt;China high on AirAsia wish...</td>\n",
       "      <td>AAV European contributor Ian Goold explains why paying for dinner sometimes pays off in business...</td>\n",
       "      <td>\\r\\n    AAV European contributor Ian Goold explains why paying for dinner sometimes pays off in ...</td>\n",
       "      <td>General News</td>\n",
       "      <td>Asian Aviation</td>\n",
       "      <td>Magazine</td>\n",
       "      <td>Lan Goold</td>\n",
       "      <td>News Item</td>\n",
       "      <td>Press</td>\n",
       "      <td>National</td>\n",
       "      <td>Australia</td>\n",
       "      <td>Asian Aviation</td>\n",
       "      <td></td>\n",
       "      <td>None</td>\n",
       "      <td>15</td>\n",
       "      <td>Qantas Airways Ltd</td>\n",
       "      <td>My133 3</td>\n",
       "      <td>Jetstar - Press</td>\n",
       "      <td>Femandes,Fernandes,Tony</td>\n",
       "      <td>1</td>\n",
       "      <td>2016-10-24T05:39:14.439Z</td>\n",
       "    </tr>\n",
       "  </tbody>\n",
       "</table>\n",
       "</div>"
      ],
      "text/plain": [
       "   index  type                    id  score  media_item_id summary_id  \\\n",
       "0  demo1  logs  AVf1MzEjpI2L3kY8EWkf      1      232128474  649151843   \n",
       "1  demo1  logs  AVf1MzEjpI2L3kY8EWkg      1      232130228  649157337   \n",
       "\n",
       "   program_id  commentator_id  \\\n",
       "0       79006            6925   \n",
       "1       79006          645731   \n",
       "\n",
       "                                            headline  \\\n",
       "0  Taiwan's budget carrier V Air to cease operations   \n",
       "1                     China high on AirAsia wishlist   \n",
       "\n",
       "               date_created                  air_date  \\\n",
       "0  2016-08-29T17:45:10.873Z  2016-09-01T00:00:00.000Z   \n",
       "1  2016-08-29T18:06:10.700Z  2016-09-01T00:00:00.000Z   \n",
       "\n",
       "                                                                                       searchable_text  \\\n",
       "0  <root><item><id xml:lang=\"en-US\">649151843</id><head xml:lang=\"en-US\">Taiwan's budget carrier V ...   \n",
       "1  <root><item><id xml:lang=\"en-US\">649157337</id><head xml:lang=\"en-US\">China high on AirAsia wish...   \n",
       "\n",
       "                                                                                              abstract  \\\n",
       "0  Taiwanese regional budget carrierV Air will go out of business in October after less than two ye...   \n",
       "1  AAV European contributor Ian Goold explains why paying for dinner sometimes pays off in business...   \n",
       "\n",
       "                                                                                             full_text  \\\n",
       "0  \\r\\n    Taiwanese regional budget carrierV Air will go out of business in October after less tha...   \n",
       "1  \\r\\n    AAV European contributor Ian Goold explains why paying for dinner sometimes pays off in ...   \n",
       "\n",
       "   program_name     source_name media_type commentator article_type  \\\n",
       "0  General News  Asian Aviation   Magazine        None    News Item   \n",
       "1  General News  Asian Aviation   Magazine   Lan Goold    News Item   \n",
       "\n",
       "  source_system     state    country     entity_name hyperlink  \\\n",
       "0         Press  National  Australia  Asian Aviation             \n",
       "1         Press  National  Australia  Asian Aviation             \n",
       "\n",
       "  media_outlet_logo  media_type_id        company_name delivery_set_name  \\\n",
       "0              None             15      Etihad Airways           My133 3   \n",
       "1              None             15  Qantas Airways Ltd           My133 3   \n",
       "\n",
       "          brief_name  \\\n",
       "0  Competitors Press   \n",
       "1    Jetstar - Press   \n",
       "\n",
       "                                                                                      prospect_keyword  \\\n",
       "0  Airways,announced,business,capital,industry,launched,plan,planned,route,routes,service,staff,tak...   \n",
       "1                                                                              Femandes,Fernandes,Tony   \n",
       "\n",
       "  version                time_stamp  \n",
       "0       1  2016-10-24T05:39:14.405Z  \n",
       "1       1  2016-10-24T05:39:14.439Z  "
      ]
     },
     "execution_count": 13,
     "metadata": {},
     "output_type": "execute_result"
    }
   ],
   "source": [
    "docs.head(2)"
   ]
  },
  {
   "cell_type": "code",
   "execution_count": 14,
   "id": "b757bf1c",
   "metadata": {},
   "outputs": [
    {
     "name": "stdout",
     "output_type": "stream",
     "text": [
      "['demo1']\n",
      "['logs']\n",
      "[1]\n",
      "['1']\n"
     ]
    }
   ],
   "source": [
    "print(docs['index'].unique())\n",
    "print(docs['type'].unique())\n",
    "print(docs['score'].unique())\n",
    "print(docs['version'].unique())"
   ]
  },
  {
   "cell_type": "code",
   "execution_count": 15,
   "id": "bfd39796",
   "metadata": {},
   "outputs": [
    {
     "data": {
      "text/html": [
       "<div>\n",
       "<style scoped>\n",
       "    .dataframe tbody tr th:only-of-type {\n",
       "        vertical-align: middle;\n",
       "    }\n",
       "\n",
       "    .dataframe tbody tr th {\n",
       "        vertical-align: top;\n",
       "    }\n",
       "\n",
       "    .dataframe thead th {\n",
       "        text-align: right;\n",
       "    }\n",
       "</style>\n",
       "<table border=\"1\" class=\"dataframe\">\n",
       "  <thead>\n",
       "    <tr style=\"text-align: right;\">\n",
       "      <th></th>\n",
       "      <th>index</th>\n",
       "      <th>type</th>\n",
       "      <th>id</th>\n",
       "      <th>score</th>\n",
       "      <th>media_item_id</th>\n",
       "      <th>summary_id</th>\n",
       "      <th>program_id</th>\n",
       "      <th>commentator_id</th>\n",
       "      <th>headline</th>\n",
       "      <th>date_created</th>\n",
       "      <th>air_date</th>\n",
       "      <th>searchable_text</th>\n",
       "      <th>abstract</th>\n",
       "      <th>full_text</th>\n",
       "      <th>program_name</th>\n",
       "      <th>source_name</th>\n",
       "      <th>media_type</th>\n",
       "      <th>commentator</th>\n",
       "      <th>article_type</th>\n",
       "      <th>source_system</th>\n",
       "      <th>state</th>\n",
       "      <th>country</th>\n",
       "      <th>entity_name</th>\n",
       "      <th>hyperlink</th>\n",
       "      <th>media_outlet_logo</th>\n",
       "      <th>media_type_id</th>\n",
       "      <th>company_name</th>\n",
       "      <th>delivery_set_name</th>\n",
       "      <th>brief_name</th>\n",
       "      <th>prospect_keyword</th>\n",
       "      <th>version</th>\n",
       "      <th>time_stamp</th>\n",
       "    </tr>\n",
       "  </thead>\n",
       "  <tbody>\n",
       "    <tr>\n",
       "      <th>195</th>\n",
       "      <td>demo1</td>\n",
       "      <td>logs</td>\n",
       "      <td>AVf1M2q7pI2L3kY8EXDb</td>\n",
       "      <td>1</td>\n",
       "      <td>232987222</td>\n",
       "      <td>652775603</td>\n",
       "      <td>115331</td>\n",
       "      <td>10702</td>\n",
       "      <td>TravelDEALS</td>\n",
       "      <td>2016-09-06T10:54:11.123Z</td>\n",
       "      <td>2016-09-06T00:00:00.000Z</td>\n",
       "      <td>&lt;root&gt;&lt;item&gt;&lt;id xml:lang=\"en-US\"&gt;652775603&lt;/id&gt;&lt;head xml:lang=\"en-US\"&gt;TravelDEALS&lt;/head&gt;&lt;abs xml...</td>\n",
       "      <td>NULL</td>\n",
       "      <td>\\r\\n    j^-jtravelDEALS\\r\\n\\r\\n    Win a car! Planning your next holiday? Visit the three-day AS...</td>\n",
       "      <td>Arts &amp; Entertainment</td>\n",
       "      <td>The Straits Times</td>\n",
       "      <td>Newspaper</td>\n",
       "      <td>No author available</td>\n",
       "      <td>News Item</td>\n",
       "      <td>Press</td>\n",
       "      <td>SIN</td>\n",
       "      <td>Singapore</td>\n",
       "      <td>The Straits Times</td>\n",
       "      <td></td>\n",
       "      <td>logo_11341.jpg</td>\n",
       "      <td>6</td>\n",
       "      <td>Qantas Airways Ltd</td>\n",
       "      <td>My133 3</td>\n",
       "      <td>T: SEA Monitoring</td>\n",
       "      <td>None</td>\n",
       "      <td>1</td>\n",
       "      <td>2016-10-24T05:39:29.828Z</td>\n",
       "    </tr>\n",
       "    <tr>\n",
       "      <th>230</th>\n",
       "      <td>demo1</td>\n",
       "      <td>logs</td>\n",
       "      <td>AVf1M3g2pI2L3kY8EXMc</td>\n",
       "      <td>1</td>\n",
       "      <td>233119718</td>\n",
       "      <td>653312350</td>\n",
       "      <td>116522</td>\n",
       "      <td>6925</td>\n",
       "      <td>Trade Set To Benefit From EK Changes</td>\n",
       "      <td>2016-09-07T09:45:11.017Z</td>\n",
       "      <td>2016-09-06T00:00:00.000Z</td>\n",
       "      <td>&lt;root&gt;&lt;item&gt;&lt;id xml:lang=\"en-US\"&gt;653312350&lt;/id&gt;&lt;head xml:lang=\"en-US\"&gt;Trade Set To Benefit From ...</td>\n",
       "      <td>The main retail chains have welcomed EK's plans to start flying A380 services to Christchurch, a...</td>\n",
       "      <td>\\r\\n    The main retail chains have welcomed EK's plans to start flying A380 services to Christc...</td>\n",
       "      <td>General News</td>\n",
       "      <td>Travel Today</td>\n",
       "      <td>Magazine</td>\n",
       "      <td>None</td>\n",
       "      <td>News Item</td>\n",
       "      <td>Press</td>\n",
       "      <td>NZ</td>\n",
       "      <td>New Zealand</td>\n",
       "      <td>None</td>\n",
       "      <td></td>\n",
       "      <td>None</td>\n",
       "      <td>15</td>\n",
       "      <td>Qantas Airways Ltd</td>\n",
       "      <td>My133 3</td>\n",
       "      <td>A: Qantas</td>\n",
       "      <td>None</td>\n",
       "      <td>1</td>\n",
       "      <td>2016-10-24T05:39:32.879Z</td>\n",
       "    </tr>\n",
       "  </tbody>\n",
       "</table>\n",
       "</div>"
      ],
      "text/plain": [
       "     index  type                    id  score  media_item_id summary_id  \\\n",
       "195  demo1  logs  AVf1M2q7pI2L3kY8EXDb      1      232987222  652775603   \n",
       "230  demo1  logs  AVf1M3g2pI2L3kY8EXMc      1      233119718  653312350   \n",
       "\n",
       "     program_id  commentator_id                              headline  \\\n",
       "195      115331           10702                           TravelDEALS   \n",
       "230      116522            6925  Trade Set To Benefit From EK Changes   \n",
       "\n",
       "                 date_created                  air_date  \\\n",
       "195  2016-09-06T10:54:11.123Z  2016-09-06T00:00:00.000Z   \n",
       "230  2016-09-07T09:45:11.017Z  2016-09-06T00:00:00.000Z   \n",
       "\n",
       "                                                                                         searchable_text  \\\n",
       "195  <root><item><id xml:lang=\"en-US\">652775603</id><head xml:lang=\"en-US\">TravelDEALS</head><abs xml...   \n",
       "230  <root><item><id xml:lang=\"en-US\">653312350</id><head xml:lang=\"en-US\">Trade Set To Benefit From ...   \n",
       "\n",
       "                                                                                                abstract  \\\n",
       "195                                                                                                 NULL   \n",
       "230  The main retail chains have welcomed EK's plans to start flying A380 services to Christchurch, a...   \n",
       "\n",
       "                                                                                               full_text  \\\n",
       "195  \\r\\n    j^-jtravelDEALS\\r\\n\\r\\n    Win a car! Planning your next holiday? Visit the three-day AS...   \n",
       "230  \\r\\n    The main retail chains have welcomed EK's plans to start flying A380 services to Christc...   \n",
       "\n",
       "             program_name        source_name media_type          commentator  \\\n",
       "195  Arts & Entertainment  The Straits Times  Newspaper  No author available   \n",
       "230          General News       Travel Today   Magazine                 None   \n",
       "\n",
       "    article_type source_system state      country        entity_name  \\\n",
       "195    News Item         Press   SIN    Singapore  The Straits Times   \n",
       "230    News Item         Press    NZ  New Zealand               None   \n",
       "\n",
       "    hyperlink media_outlet_logo  media_type_id        company_name  \\\n",
       "195              logo_11341.jpg              6  Qantas Airways Ltd   \n",
       "230                        None             15  Qantas Airways Ltd   \n",
       "\n",
       "    delivery_set_name         brief_name prospect_keyword version  \\\n",
       "195           My133 3  T: SEA Monitoring             None       1   \n",
       "230           My133 3          A: Qantas             None       1   \n",
       "\n",
       "                   time_stamp  \n",
       "195  2016-10-24T05:39:29.828Z  \n",
       "230  2016-10-24T05:39:32.879Z  "
      ]
     },
     "execution_count": 15,
     "metadata": {},
     "output_type": "execute_result"
    }
   ],
   "source": [
    "docs[docs['prospect_keyword'].isna()]"
   ]
  },
  {
   "cell_type": "markdown",
   "id": "d281d7bf",
   "metadata": {},
   "source": [
    "We will drop these columns: index, type, score, and version since they contain a single value which cannot be used to group the data.\n",
    "\n",
    "media_outlet_logo column will not be used since it contains jpg filenames that do not give useful information for grouping the articles. If we had the picture files that would give us the opportunity to think of a way to incorporate computer vision techniques to help cluster documents.\n",
    "\n",
    "The date columns: date_created, air_date, time_stamp are also irrelevant to the task. \n",
    "\n",
    "The columns full_text and entity_name could be useful but again, there are more than one third and more than half of the data missing. Since it is not a numerical data we cannot impute mean or duplicate values. We cannot afford to drop the rows either. since we will be left with very little data to work with.\n",
    "\n",
    "There are only two rows with missing data in prospect_keyword column, so we can drop these rows.\n",
    "\n",
    "As for article_type we need to explore the possibility to add value based on simillarity with other columns."
   ]
  },
  {
   "cell_type": "code",
   "execution_count": 16,
   "id": "0051de88",
   "metadata": {},
   "outputs": [],
   "source": [
    "docs.drop(\n",
    "    [\n",
    "        'index', \n",
    "        'type', \n",
    "        'score', \n",
    "        'version', \n",
    "        'media_outlet_logo', \n",
    "        'date_created', \n",
    "        'air_date',\n",
    "        'time_stamp',\n",
    "        'entity_name',\n",
    "        'full_text',\n",
    "    ], axis=1, inplace=True)"
   ]
  },
  {
   "cell_type": "code",
   "execution_count": 17,
   "id": "b97ecc72",
   "metadata": {},
   "outputs": [],
   "source": [
    "docs = docs[docs['prospect_keyword'].notna()]"
   ]
  },
  {
   "cell_type": "code",
   "execution_count": 18,
   "id": "60a80cc5",
   "metadata": {},
   "outputs": [
    {
     "name": "stdout",
     "output_type": "stream",
     "text": [
      "<class 'pandas.core.frame.DataFrame'>\n",
      "Int64Index: 298 entries, 0 to 299\n",
      "Data columns (total 22 columns):\n",
      " #   Column             Non-Null Count  Dtype \n",
      "---  ------             --------------  ----- \n",
      " 0   id                 298 non-null    object\n",
      " 1   media_item_id      298 non-null    int64 \n",
      " 2   summary_id         298 non-null    object\n",
      " 3   program_id         298 non-null    int64 \n",
      " 4   commentator_id     298 non-null    int64 \n",
      " 5   headline           298 non-null    object\n",
      " 6   searchable_text    298 non-null    object\n",
      " 7   abstract           298 non-null    object\n",
      " 8   program_name       298 non-null    object\n",
      " 9   source_name        298 non-null    object\n",
      " 10  media_type         298 non-null    object\n",
      " 11  commentator        298 non-null    object\n",
      " 12  article_type       282 non-null    object\n",
      " 13  source_system      298 non-null    object\n",
      " 14  state              298 non-null    object\n",
      " 15  country            298 non-null    object\n",
      " 16  hyperlink          298 non-null    object\n",
      " 17  media_type_id      298 non-null    int64 \n",
      " 18  company_name       298 non-null    object\n",
      " 19  delivery_set_name  298 non-null    object\n",
      " 20  brief_name         298 non-null    object\n",
      " 21  prospect_keyword   298 non-null    object\n",
      "dtypes: int64(4), object(18)\n",
      "memory usage: 53.5+ KB\n"
     ]
    }
   ],
   "source": [
    "docs.info()"
   ]
  },
  {
   "cell_type": "code",
   "execution_count": 19,
   "id": "2f62230f",
   "metadata": {},
   "outputs": [],
   "source": [
    "grouped = pd.DataFrame({'count': docs.groupby(['article_type', 'media_type', 'company_name'], dropna=False).size()}).reset_index()"
   ]
  },
  {
   "cell_type": "code",
   "execution_count": 20,
   "id": "540d143e",
   "metadata": {},
   "outputs": [
    {
     "data": {
      "text/html": [
       "<div>\n",
       "<style scoped>\n",
       "    .dataframe tbody tr th:only-of-type {\n",
       "        vertical-align: middle;\n",
       "    }\n",
       "\n",
       "    .dataframe tbody tr th {\n",
       "        vertical-align: top;\n",
       "    }\n",
       "\n",
       "    .dataframe thead th {\n",
       "        text-align: right;\n",
       "    }\n",
       "</style>\n",
       "<table border=\"1\" class=\"dataframe\">\n",
       "  <thead>\n",
       "    <tr style=\"text-align: right;\">\n",
       "      <th></th>\n",
       "      <th>article_type</th>\n",
       "      <th>media_type</th>\n",
       "      <th>company_name</th>\n",
       "      <th>count</th>\n",
       "    </tr>\n",
       "  </thead>\n",
       "  <tbody>\n",
       "    <tr>\n",
       "      <th>0</th>\n",
       "      <td>Internet Item</td>\n",
       "      <td>Internet</td>\n",
       "      <td>Bankwest</td>\n",
       "      <td>1</td>\n",
       "    </tr>\n",
       "    <tr>\n",
       "      <th>1</th>\n",
       "      <td>Internet Item</td>\n",
       "      <td>Internet</td>\n",
       "      <td>Etihad Airways</td>\n",
       "      <td>36</td>\n",
       "    </tr>\n",
       "    <tr>\n",
       "      <th>2</th>\n",
       "      <td>Internet Item</td>\n",
       "      <td>Internet</td>\n",
       "      <td>Qantas Airways Ltd</td>\n",
       "      <td>67</td>\n",
       "    </tr>\n",
       "    <tr>\n",
       "      <th>3</th>\n",
       "      <td>Internet Item</td>\n",
       "      <td>Internet</td>\n",
       "      <td>Volvo Car Australia Pty Ltd</td>\n",
       "      <td>20</td>\n",
       "    </tr>\n",
       "    <tr>\n",
       "      <th>4</th>\n",
       "      <td>Internet Item</td>\n",
       "      <td>Internet</td>\n",
       "      <td>Volvo Commercial Vehicles Pty Ltd</td>\n",
       "      <td>2</td>\n",
       "    </tr>\n",
       "    <tr>\n",
       "      <th>5</th>\n",
       "      <td>Letter</td>\n",
       "      <td>Newspaper</td>\n",
       "      <td>Bankwest</td>\n",
       "      <td>1</td>\n",
       "    </tr>\n",
       "    <tr>\n",
       "      <th>6</th>\n",
       "      <td>Letter</td>\n",
       "      <td>Newspaper</td>\n",
       "      <td>Etihad Airways</td>\n",
       "      <td>1</td>\n",
       "    </tr>\n",
       "    <tr>\n",
       "      <th>7</th>\n",
       "      <td>Letter</td>\n",
       "      <td>Newspaper</td>\n",
       "      <td>Qantas Airways Ltd</td>\n",
       "      <td>3</td>\n",
       "    </tr>\n",
       "    <tr>\n",
       "      <th>8</th>\n",
       "      <td>News Item</td>\n",
       "      <td>Magazine</td>\n",
       "      <td>Etihad Airways</td>\n",
       "      <td>15</td>\n",
       "    </tr>\n",
       "    <tr>\n",
       "      <th>9</th>\n",
       "      <td>News Item</td>\n",
       "      <td>Magazine</td>\n",
       "      <td>Qantas Airways Ltd</td>\n",
       "      <td>9</td>\n",
       "    </tr>\n",
       "    <tr>\n",
       "      <th>10</th>\n",
       "      <td>News Item</td>\n",
       "      <td>Magazine</td>\n",
       "      <td>Volvo Car Australia Pty Ltd</td>\n",
       "      <td>3</td>\n",
       "    </tr>\n",
       "    <tr>\n",
       "      <th>11</th>\n",
       "      <td>News Item</td>\n",
       "      <td>Newspaper</td>\n",
       "      <td>Bankwest</td>\n",
       "      <td>32</td>\n",
       "    </tr>\n",
       "    <tr>\n",
       "      <th>12</th>\n",
       "      <td>News Item</td>\n",
       "      <td>Newspaper</td>\n",
       "      <td>Etihad Airways</td>\n",
       "      <td>22</td>\n",
       "    </tr>\n",
       "    <tr>\n",
       "      <th>13</th>\n",
       "      <td>News Item</td>\n",
       "      <td>Newspaper</td>\n",
       "      <td>Qantas Airways Ltd</td>\n",
       "      <td>69</td>\n",
       "    </tr>\n",
       "    <tr>\n",
       "      <th>14</th>\n",
       "      <td>News Item</td>\n",
       "      <td>Newspaper</td>\n",
       "      <td>Volvo Car Australia Pty Ltd</td>\n",
       "      <td>1</td>\n",
       "    </tr>\n",
       "    <tr>\n",
       "      <th>15</th>\n",
       "      <td>NaN</td>\n",
       "      <td>Blog</td>\n",
       "      <td>Etihad Airways</td>\n",
       "      <td>1</td>\n",
       "    </tr>\n",
       "    <tr>\n",
       "      <th>16</th>\n",
       "      <td>NaN</td>\n",
       "      <td>Blog</td>\n",
       "      <td>Qantas Airways Ltd</td>\n",
       "      <td>3</td>\n",
       "    </tr>\n",
       "    <tr>\n",
       "      <th>17</th>\n",
       "      <td>NaN</td>\n",
       "      <td>Blog</td>\n",
       "      <td>Volvo Car Australia Pty Ltd</td>\n",
       "      <td>1</td>\n",
       "    </tr>\n",
       "    <tr>\n",
       "      <th>18</th>\n",
       "      <td>NaN</td>\n",
       "      <td>Images and Video</td>\n",
       "      <td>Bankwest</td>\n",
       "      <td>1</td>\n",
       "    </tr>\n",
       "    <tr>\n",
       "      <th>19</th>\n",
       "      <td>NaN</td>\n",
       "      <td>Social Network</td>\n",
       "      <td>Bankwest</td>\n",
       "      <td>7</td>\n",
       "    </tr>\n",
       "    <tr>\n",
       "      <th>20</th>\n",
       "      <td>NaN</td>\n",
       "      <td>Social Network</td>\n",
       "      <td>Qantas Airways Ltd</td>\n",
       "      <td>3</td>\n",
       "    </tr>\n",
       "  </tbody>\n",
       "</table>\n",
       "</div>"
      ],
      "text/plain": [
       "     article_type        media_type                       company_name  count\n",
       "0   Internet Item          Internet                           Bankwest      1\n",
       "1   Internet Item          Internet                     Etihad Airways     36\n",
       "2   Internet Item          Internet                 Qantas Airways Ltd     67\n",
       "3   Internet Item          Internet        Volvo Car Australia Pty Ltd     20\n",
       "4   Internet Item          Internet  Volvo Commercial Vehicles Pty Ltd      2\n",
       "5          Letter         Newspaper                           Bankwest      1\n",
       "6          Letter         Newspaper                     Etihad Airways      1\n",
       "7          Letter         Newspaper                 Qantas Airways Ltd      3\n",
       "8       News Item          Magazine                     Etihad Airways     15\n",
       "9       News Item          Magazine                 Qantas Airways Ltd      9\n",
       "10      News Item          Magazine        Volvo Car Australia Pty Ltd      3\n",
       "11      News Item         Newspaper                           Bankwest     32\n",
       "12      News Item         Newspaper                     Etihad Airways     22\n",
       "13      News Item         Newspaper                 Qantas Airways Ltd     69\n",
       "14      News Item         Newspaper        Volvo Car Australia Pty Ltd      1\n",
       "15            NaN              Blog                     Etihad Airways      1\n",
       "16            NaN              Blog                 Qantas Airways Ltd      3\n",
       "17            NaN              Blog        Volvo Car Australia Pty Ltd      1\n",
       "18            NaN  Images and Video                           Bankwest      1\n",
       "19            NaN    Social Network                           Bankwest      7\n",
       "20            NaN    Social Network                 Qantas Airways Ltd      3"
      ]
     },
     "execution_count": 20,
     "metadata": {},
     "output_type": "execute_result"
    }
   ],
   "source": [
    "# The records with Nan values in article_type include media type records such as Blog and Social Network. \n",
    "# I can either name the article_type Social Media or go to the more general which is Internet Item. \n",
    "# As seen below the record with a media_type='Images and Video' comes from Instagram\n",
    "\n",
    "grouped"
   ]
  },
  {
   "cell_type": "code",
   "execution_count": 21,
   "id": "ff6c208d",
   "metadata": {},
   "outputs": [
    {
     "data": {
      "text/html": [
       "<div>\n",
       "<style scoped>\n",
       "    .dataframe tbody tr th:only-of-type {\n",
       "        vertical-align: middle;\n",
       "    }\n",
       "\n",
       "    .dataframe tbody tr th {\n",
       "        vertical-align: top;\n",
       "    }\n",
       "\n",
       "    .dataframe thead th {\n",
       "        text-align: right;\n",
       "    }\n",
       "</style>\n",
       "<table border=\"1\" class=\"dataframe\">\n",
       "  <thead>\n",
       "    <tr style=\"text-align: right;\">\n",
       "      <th></th>\n",
       "      <th>id</th>\n",
       "      <th>media_item_id</th>\n",
       "      <th>summary_id</th>\n",
       "      <th>program_id</th>\n",
       "      <th>commentator_id</th>\n",
       "      <th>headline</th>\n",
       "      <th>searchable_text</th>\n",
       "      <th>abstract</th>\n",
       "      <th>program_name</th>\n",
       "      <th>source_name</th>\n",
       "      <th>media_type</th>\n",
       "      <th>commentator</th>\n",
       "      <th>article_type</th>\n",
       "      <th>source_system</th>\n",
       "      <th>state</th>\n",
       "      <th>country</th>\n",
       "      <th>hyperlink</th>\n",
       "      <th>media_type_id</th>\n",
       "      <th>company_name</th>\n",
       "      <th>delivery_set_name</th>\n",
       "      <th>brief_name</th>\n",
       "      <th>prospect_keyword</th>\n",
       "    </tr>\n",
       "  </thead>\n",
       "  <tbody>\n",
       "    <tr>\n",
       "      <th>274</th>\n",
       "      <td>AVf1M4HGpI2L3kY8EXPV</td>\n",
       "      <td>233199690</td>\n",
       "      <td>653549116</td>\n",
       "      <td>322837</td>\n",
       "      <td>10034676</td>\n",
       "      <td>Jess and Cam at the BankWest Leading Intergenerational Change Lunch. An event to inspire the lea...</td>\n",
       "      <td>&lt;root&gt;&lt;item&gt;&lt;id xml:lang=\"en-US\"&gt;653549116&lt;/id&gt;&lt;head xml:lang=\"en-US\"&gt;Jess and Cam at the BankWe...</td>\n",
       "      <td>Jess and Cam at the BankWest Leading Intergenerational Change Lunch. An event to inspire the lea...</td>\n",
       "      <td>Other</td>\n",
       "      <td>Instagram</td>\n",
       "      <td>Images and Video</td>\n",
       "      <td>sproutadl</td>\n",
       "      <td>None</td>\n",
       "      <td>Internet</td>\n",
       "      <td>National</td>\n",
       "      <td>Australia</td>\n",
       "      <td>https://www.instagram.com/p/BKDJcO-htRs/</td>\n",
       "      <td>14</td>\n",
       "      <td>Bankwest</td>\n",
       "      <td>My133 3</td>\n",
       "      <td>Bankwest - Social</td>\n",
       "      <td>#bankwest,BankWest</td>\n",
       "    </tr>\n",
       "  </tbody>\n",
       "</table>\n",
       "</div>"
      ],
      "text/plain": [
       "                       id  media_item_id summary_id  program_id  \\\n",
       "274  AVf1M4HGpI2L3kY8EXPV      233199690  653549116      322837   \n",
       "\n",
       "     commentator_id  \\\n",
       "274        10034676   \n",
       "\n",
       "                                                                                                headline  \\\n",
       "274  Jess and Cam at the BankWest Leading Intergenerational Change Lunch. An event to inspire the lea...   \n",
       "\n",
       "                                                                                         searchable_text  \\\n",
       "274  <root><item><id xml:lang=\"en-US\">653549116</id><head xml:lang=\"en-US\">Jess and Cam at the BankWe...   \n",
       "\n",
       "                                                                                                abstract  \\\n",
       "274  Jess and Cam at the BankWest Leading Intergenerational Change Lunch. An event to inspire the lea...   \n",
       "\n",
       "    program_name source_name        media_type commentator article_type  \\\n",
       "274        Other   Instagram  Images and Video   sproutadl         None   \n",
       "\n",
       "    source_system     state    country  \\\n",
       "274      Internet  National  Australia   \n",
       "\n",
       "                                    hyperlink  media_type_id company_name  \\\n",
       "274  https://www.instagram.com/p/BKDJcO-htRs/             14     Bankwest   \n",
       "\n",
       "    delivery_set_name         brief_name    prospect_keyword  \n",
       "274           My133 3  Bankwest - Social  #bankwest,BankWest  "
      ]
     },
     "execution_count": 21,
     "metadata": {},
     "output_type": "execute_result"
    }
   ],
   "source": [
    "docs[docs['media_type']=='Images and Video']"
   ]
  },
  {
   "cell_type": "code",
   "execution_count": 22,
   "id": "a25c87c4",
   "metadata": {},
   "outputs": [],
   "source": [
    "docs['article_type'].fillna('Social Media', inplace=True)"
   ]
  },
  {
   "cell_type": "code",
   "execution_count": 23,
   "id": "0b089e60",
   "metadata": {},
   "outputs": [],
   "source": [
    "# extract link names in \n",
    "docs['link_title'] = docs['hyperlink'].apply(lambda x: tldextract.extract(x).domain)"
   ]
  },
  {
   "cell_type": "code",
   "execution_count": 24,
   "id": "c7582e5b",
   "metadata": {},
   "outputs": [
    {
     "data": {
      "text/plain": [
       "array(['', 'pointhacks', 'supercars', 'caradvice', 'goauto',\n",
       "       'thenational', 'ausbt', 'theguardian', 'bandt', 'isentialink',\n",
       "       'news', 'nbr', 'travelweekly', 'travelandtourworld', 'gxpress',\n",
       "       'redlandcitybulletin', 'signedevents', 'bernama', 'bestadsontv',\n",
       "       'luxuryholidaybargains', 'ibtimes', 'the-retiree', 'thestar',\n",
       "       'twitter', 'theage', 'abc', 'sbs', 'smh', 'mynewshub',\n",
       "       'canberratimes', 'wazzuppilipinas', 'campaignbrief', 'autoguide',\n",
       "       'eurosport', 'performancedrive', 'nzherald', 'okezone', 'salient',\n",
       "       'behindthewheel', 'executivestyle', 'cricket', 'arnnet', 'emsnow',\n",
       "       'hrdaily', 'yourlifechoices', 'voxy', 'centreforaviation',\n",
       "       'businesseventsnews', 'afp', 'yahoo', 'flightglobal', 'ipotnews',\n",
       "       'mb', '4-traders', 'antaranews', 'gulf-times', 'newshub',\n",
       "       'eventfinda', 'talkvietnam', 'dtinews', 'prwire', 'kotaku',\n",
       "       'kidspot', 'energymatters', 'viw', 'australasianlawyer',\n",
       "       'ehotelier', 'bloomberg', 'dailymail', 'theartofbusinesstravel',\n",
       "       'drivespark', 'australianaviation', 'thailand-business-news',\n",
       "       'morningstar', 'whichcar', 'instagram', 'msn', 'azomining',\n",
       "       'businessinsider', 'traveldailymedia'], dtype=object)"
      ]
     },
     "execution_count": 24,
     "metadata": {},
     "output_type": "execute_result"
    }
   ],
   "source": [
    "docs['link_title'].unique()"
   ]
  },
  {
   "cell_type": "code",
   "execution_count": 25,
   "id": "7c55c2ce",
   "metadata": {},
   "outputs": [],
   "source": [
    "# https://www.analyticsvidhya.com/blog/2020/04/beginners-guide-exploratory-data-analysis-text-data/\n",
    "# text to lowercase\n",
    "docs['abstract_cleaned']=docs['abstract'].apply(lambda x: x.lower())"
   ]
  },
  {
   "cell_type": "code",
   "execution_count": 26,
   "id": "4d843405",
   "metadata": {},
   "outputs": [],
   "source": [
    "# remove digists\n",
    "docs['abstract_cleaned']=docs['abstract_cleaned'].apply(lambda x: re.sub('\\w*\\d\\w*','', x))"
   ]
  },
  {
   "cell_type": "code",
   "execution_count": 27,
   "id": "d3fba372",
   "metadata": {},
   "outputs": [],
   "source": [
    "# remove punctuation\n",
    "docs['abstract_cleaned']=docs['abstract_cleaned'].apply(lambda x: re.sub('[%s]' % re.escape(string.punctuation), '', x))"
   ]
  },
  {
   "cell_type": "code",
   "execution_count": 28,
   "id": "357c45bf",
   "metadata": {},
   "outputs": [],
   "source": [
    "# remove extra spaces\n",
    "docs['abstract_cleaned']=docs['abstract_cleaned'].apply(lambda x: re.sub(' +',' ',x))"
   ]
  },
  {
   "cell_type": "code",
   "execution_count": 29,
   "id": "0f7ee21b",
   "metadata": {},
   "outputs": [
    {
     "data": {
      "text/html": [
       "<div>\n",
       "<style scoped>\n",
       "    .dataframe tbody tr th:only-of-type {\n",
       "        vertical-align: middle;\n",
       "    }\n",
       "\n",
       "    .dataframe tbody tr th {\n",
       "        vertical-align: top;\n",
       "    }\n",
       "\n",
       "    .dataframe thead th {\n",
       "        text-align: right;\n",
       "    }\n",
       "</style>\n",
       "<table border=\"1\" class=\"dataframe\">\n",
       "  <thead>\n",
       "    <tr style=\"text-align: right;\">\n",
       "      <th></th>\n",
       "      <th>abstract</th>\n",
       "      <th>abstract_cleaned</th>\n",
       "    </tr>\n",
       "  </thead>\n",
       "  <tbody>\n",
       "    <tr>\n",
       "      <th>0</th>\n",
       "      <td>Taiwanese regional budget carrierV Air will go out of business in October after less than two ye...</td>\n",
       "      <td>taiwanese regional budget carrierv air will go out of business in october after less than two ye...</td>\n",
       "    </tr>\n",
       "    <tr>\n",
       "      <th>1</th>\n",
       "      <td>AAV European contributor Ian Goold explains why paying for dinner sometimes pays off in business...</td>\n",
       "      <td>aav european contributor ian goold explains why paying for dinner sometimes pays off in business...</td>\n",
       "    </tr>\n",
       "    <tr>\n",
       "      <th>2</th>\n",
       "      <td>Research in the US has found that automatic braking systems on cars reduced crashes by 39 per ce...</td>\n",
       "      <td>research in the us has found that automatic braking systems on cars reduced crashes by per cent ...</td>\n",
       "    </tr>\n",
       "    <tr>\n",
       "      <th>3</th>\n",
       "      <td>Virgin Australia has confirmed that it will launch in-flight WiFi on its domestic and internatio...</td>\n",
       "      <td>virgin australia has confirmed that it will launch inflight wifi on its domestic and internation...</td>\n",
       "    </tr>\n",
       "    <tr>\n",
       "      <th>4</th>\n",
       "      <td>It may just be the people I follow on Instagram, but it seems like everyone is going to Puglia i...</td>\n",
       "      <td>it may just be the people i follow on instagram but it seems like everyone is going to puglia in...</td>\n",
       "    </tr>\n",
       "  </tbody>\n",
       "</table>\n",
       "</div>"
      ],
      "text/plain": [
       "                                                                                              abstract  \\\n",
       "0  Taiwanese regional budget carrierV Air will go out of business in October after less than two ye...   \n",
       "1  AAV European contributor Ian Goold explains why paying for dinner sometimes pays off in business...   \n",
       "2  Research in the US has found that automatic braking systems on cars reduced crashes by 39 per ce...   \n",
       "3  Virgin Australia has confirmed that it will launch in-flight WiFi on its domestic and internatio...   \n",
       "4  It may just be the people I follow on Instagram, but it seems like everyone is going to Puglia i...   \n",
       "\n",
       "                                                                                      abstract_cleaned  \n",
       "0  taiwanese regional budget carrierv air will go out of business in october after less than two ye...  \n",
       "1  aav european contributor ian goold explains why paying for dinner sometimes pays off in business...  \n",
       "2  research in the us has found that automatic braking systems on cars reduced crashes by per cent ...  \n",
       "3  virgin australia has confirmed that it will launch inflight wifi on its domestic and internation...  \n",
       "4  it may just be the people i follow on instagram but it seems like everyone is going to puglia in...  "
      ]
     },
     "execution_count": 29,
     "metadata": {},
     "output_type": "execute_result"
    }
   ],
   "source": [
    "docs[['abstract', 'abstract_cleaned']].head()"
   ]
  },
  {
   "cell_type": "code",
   "execution_count": 30,
   "id": "19067a1e",
   "metadata": {},
   "outputs": [
    {
     "name": "stdout",
     "output_type": "stream",
     "text": [
      "Abstract 1:\n",
      " BOARDROOM SHOPPING centre owner Stockland says chairman Graham Bradley will retire at the group's annual meeting in October, after serving in the position for 11 years.\n",
      "Abstract 2:\n",
      " Air New Zealand's seven Boeing Dreamliner planes are fitted with the same type of engine as about 50 that have been grounded in Japan. Cracks and corrosion were found in the Rolls-Royce Trent 1000 engines in All Nippon Airways' Dreamliners, forcing them all to be grounded last week.\n"
     ]
    }
   ],
   "source": [
    "for index,text in enumerate(docs['abstract'][10:12]):\n",
    "    print('Abstract %d:\\n'%(index+1),text)"
   ]
  },
  {
   "cell_type": "code",
   "execution_count": 31,
   "id": "2ab2b054",
   "metadata": {},
   "outputs": [
    {
     "name": "stdout",
     "output_type": "stream",
     "text": [
      "Abstract 1:\n",
      " boardroom shopping centre owner stockland says chairman graham bradley will retire at the groups annual meeting in october after serving in the position for years\n",
      "Abstract 2:\n",
      " air new zealands seven boeing dreamliner planes are fitted with the same type of engine as about that have been grounded in japan cracks and corrosion were found in the rollsroyce trent engines in all nippon airways dreamliners forcing them all to be grounded last week\n"
     ]
    }
   ],
   "source": [
    "for index,text in enumerate(docs['abstract_cleaned'][10:12]):\n",
    "    print('Abstract %d:\\n'%(index+1),text)"
   ]
  },
  {
   "cell_type": "code",
   "execution_count": 32,
   "id": "b3a53e7b",
   "metadata": {},
   "outputs": [
    {
     "name": "stdout",
     "output_type": "stream",
     "text": [
      "<class 'pandas.core.frame.DataFrame'>\n",
      "Int64Index: 298 entries, 0 to 299\n",
      "Data columns (total 24 columns):\n",
      " #   Column             Non-Null Count  Dtype \n",
      "---  ------             --------------  ----- \n",
      " 0   id                 298 non-null    object\n",
      " 1   media_item_id      298 non-null    int64 \n",
      " 2   summary_id         298 non-null    object\n",
      " 3   program_id         298 non-null    int64 \n",
      " 4   commentator_id     298 non-null    int64 \n",
      " 5   headline           298 non-null    object\n",
      " 6   searchable_text    298 non-null    object\n",
      " 7   abstract           298 non-null    object\n",
      " 8   program_name       298 non-null    object\n",
      " 9   source_name        298 non-null    object\n",
      " 10  media_type         298 non-null    object\n",
      " 11  commentator        298 non-null    object\n",
      " 12  article_type       298 non-null    object\n",
      " 13  source_system      298 non-null    object\n",
      " 14  state              298 non-null    object\n",
      " 15  country            298 non-null    object\n",
      " 16  hyperlink          298 non-null    object\n",
      " 17  media_type_id      298 non-null    int64 \n",
      " 18  company_name       298 non-null    object\n",
      " 19  delivery_set_name  298 non-null    object\n",
      " 20  brief_name         298 non-null    object\n",
      " 21  prospect_keyword   298 non-null    object\n",
      " 22  link_title         298 non-null    object\n",
      " 23  abstract_cleaned   298 non-null    object\n",
      "dtypes: int64(4), object(20)\n",
      "memory usage: 58.2+ KB\n"
     ]
    }
   ],
   "source": [
    "docs.info()"
   ]
  },
  {
   "cell_type": "code",
   "execution_count": 33,
   "id": "9d9e9f05",
   "metadata": {},
   "outputs": [
    {
     "data": {
      "text/plain": [
       "array(['Magazine', 'Newspaper', 'Blog', 'Internet', 'Social Network',\n",
       "       'Images and Video'], dtype=object)"
      ]
     },
     "execution_count": 33,
     "metadata": {},
     "output_type": "execute_result"
    }
   ],
   "source": [
    "docs['media_type'].unique()"
   ]
  },
  {
   "cell_type": "code",
   "execution_count": 34,
   "id": "9e7dbd77",
   "metadata": {},
   "outputs": [],
   "source": [
    "article_types = pd.DataFrame()\n",
    "article_types['count'] = docs.groupby('article_type')['id'].count()"
   ]
  },
  {
   "cell_type": "code",
   "execution_count": 35,
   "id": "7d75ec85",
   "metadata": {},
   "outputs": [
    {
     "data": {
      "text/html": [
       "<div>\n",
       "<style scoped>\n",
       "    .dataframe tbody tr th:only-of-type {\n",
       "        vertical-align: middle;\n",
       "    }\n",
       "\n",
       "    .dataframe tbody tr th {\n",
       "        vertical-align: top;\n",
       "    }\n",
       "\n",
       "    .dataframe thead th {\n",
       "        text-align: right;\n",
       "    }\n",
       "</style>\n",
       "<table border=\"1\" class=\"dataframe\">\n",
       "  <thead>\n",
       "    <tr style=\"text-align: right;\">\n",
       "      <th></th>\n",
       "      <th>count</th>\n",
       "    </tr>\n",
       "    <tr>\n",
       "      <th>article_type</th>\n",
       "      <th></th>\n",
       "    </tr>\n",
       "  </thead>\n",
       "  <tbody>\n",
       "    <tr>\n",
       "      <th>Internet Item</th>\n",
       "      <td>126</td>\n",
       "    </tr>\n",
       "    <tr>\n",
       "      <th>Letter</th>\n",
       "      <td>5</td>\n",
       "    </tr>\n",
       "    <tr>\n",
       "      <th>News Item</th>\n",
       "      <td>151</td>\n",
       "    </tr>\n",
       "    <tr>\n",
       "      <th>Social Media</th>\n",
       "      <td>16</td>\n",
       "    </tr>\n",
       "  </tbody>\n",
       "</table>\n",
       "</div>"
      ],
      "text/plain": [
       "               count\n",
       "article_type        \n",
       "Internet Item    126\n",
       "Letter             5\n",
       "News Item        151\n",
       "Social Media      16"
      ]
     },
     "execution_count": 35,
     "metadata": {},
     "output_type": "execute_result"
    }
   ],
   "source": [
    "article_types.head()"
   ]
  },
  {
   "cell_type": "code",
   "execution_count": 36,
   "id": "d195707f",
   "metadata": {},
   "outputs": [
    {
     "data": {
      "text/plain": [
       "<BarContainer object of 4 artists>"
      ]
     },
     "execution_count": 36,
     "metadata": {},
     "output_type": "execute_result"
    },
    {
     "data": {
      "image/png": "[encoded data removed]",
      "text/plain": [
       "<Figure size 720x288 with 1 Axes>"
      ]
     },
     "metadata": {
      "needs_background": "light"
     },
     "output_type": "display_data"
    }
   ],
   "source": [
    "fig = plt.figure(figsize=(10, 4))\n",
    "plt.style.use('fivethirtyeight')\n",
    "ax = fig.add_axes([0,0,1,1])\n",
    "plt.title('Article Types')\n",
    "ax.bar(article_types.index, article_types['count'], color='teal')"
   ]
  },
  {
   "cell_type": "code",
   "execution_count": 37,
   "id": "a8272fa3",
   "metadata": {},
   "outputs": [
    {
     "data": {
      "text/html": [
       "<div>\n",
       "<style scoped>\n",
       "    .dataframe tbody tr th:only-of-type {\n",
       "        vertical-align: middle;\n",
       "    }\n",
       "\n",
       "    .dataframe tbody tr th {\n",
       "        vertical-align: top;\n",
       "    }\n",
       "\n",
       "    .dataframe thead th {\n",
       "        text-align: right;\n",
       "    }\n",
       "</style>\n",
       "<table border=\"1\" class=\"dataframe\">\n",
       "  <thead>\n",
       "    <tr style=\"text-align: right;\">\n",
       "      <th></th>\n",
       "      <th>count</th>\n",
       "    </tr>\n",
       "    <tr>\n",
       "      <th>media_type</th>\n",
       "      <th></th>\n",
       "    </tr>\n",
       "  </thead>\n",
       "  <tbody>\n",
       "    <tr>\n",
       "      <th>Blog</th>\n",
       "      <td>5</td>\n",
       "    </tr>\n",
       "    <tr>\n",
       "      <th>Images and Video</th>\n",
       "      <td>1</td>\n",
       "    </tr>\n",
       "    <tr>\n",
       "      <th>Internet</th>\n",
       "      <td>126</td>\n",
       "    </tr>\n",
       "    <tr>\n",
       "      <th>Magazine</th>\n",
       "      <td>27</td>\n",
       "    </tr>\n",
       "    <tr>\n",
       "      <th>Newspaper</th>\n",
       "      <td>129</td>\n",
       "    </tr>\n",
       "  </tbody>\n",
       "</table>\n",
       "</div>"
      ],
      "text/plain": [
       "                  count\n",
       "media_type             \n",
       "Blog                  5\n",
       "Images and Video      1\n",
       "Internet            126\n",
       "Magazine             27\n",
       "Newspaper           129"
      ]
     },
     "execution_count": 37,
     "metadata": {},
     "output_type": "execute_result"
    }
   ],
   "source": [
    "media_types = pd.DataFrame()\n",
    "media_types['count'] = docs.groupby('media_type')['id'].count()\n",
    "media_types.head()"
   ]
  },
  {
   "cell_type": "code",
   "execution_count": 38,
   "id": "222300cb",
   "metadata": {},
   "outputs": [
    {
     "data": {
      "text/plain": [
       "<BarContainer object of 6 artists>"
      ]
     },
     "execution_count": 38,
     "metadata": {},
     "output_type": "execute_result"
    },
    {
     "data": {
      "image/png": "[encoded data removed]",
      "text/plain": [
       "<Figure size 720x288 with 1 Axes>"
      ]
     },
     "metadata": {},
     "output_type": "display_data"
    }
   ],
   "source": [
    "fig = plt.figure(figsize=(10, 4))\n",
    "plt.style.use('fivethirtyeight')\n",
    "ax = fig.add_axes([0,0,1,1])\n",
    "plt.title('Media Types')\n",
    "ax.bar(media_types.index, media_types['count'], color='teal')"
   ]
  },
  {
   "cell_type": "markdown",
   "id": "8d91c12a",
   "metadata": {},
   "source": [
    "We can cluster either by article type, by media type or prospect keywords. The number of articles differs highly among different categories."
   ]
  },
  {
   "cell_type": "code",
   "execution_count": null,
   "id": "7813e4c1",
   "metadata": {},
   "outputs": [],
   "source": []
  },
  {
   "cell_type": "code",
   "execution_count": null,
   "id": "32573c45",
   "metadata": {},
   "outputs": [],
   "source": []
  },
  {
   "cell_type": "code",
   "execution_count": null,
   "id": "59e0fe69",
   "metadata": {},
   "outputs": [],
   "source": []
  },
  {
   "cell_type": "code",
   "execution_count": null,
   "id": "88e0fdbc",
   "metadata": {},
   "outputs": [],
   "source": []
  },
  {
   "cell_type": "code",
   "execution_count": null,
   "id": "d838468e",
   "metadata": {},
   "outputs": [],
   "source": []
  }
 ],
 "metadata": {
  "kernelspec": {
   "display_name": "Python 3",
   "language": "python",
   "name": "python3"
  },
  "language_info": {
   "codemirror_mode": {
    "name": "ipython",
    "version": 3
   },
   "file_extension": ".py",
   "mimetype": "text/x-python",
   "name": "python",
   "nbconvert_exporter": "python",
   "pygments_lexer": "ipython3",
   "version": "3.8.8"
  }
 },
 "nbformat": 4,
 "nbformat_minor": 5
}
