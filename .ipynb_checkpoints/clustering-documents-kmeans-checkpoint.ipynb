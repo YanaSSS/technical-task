{
 "cells": [
  {
   "cell_type": "markdown",
   "id": "3d2e82c4",
   "metadata": {},
   "source": [
    "1. Rename columns - remove source in front it kills me - **done**\n",
    "2. Data clean - why I am going to remove some columns - too many nulls, no way to interpolate\n",
    "3. Change column types - for dates - **not needed**, columns are removed \n",
    "4. Determine category columns\n",
    "5. Possible clusters linked to the number of media types where the texts come from and or article type\n",
    "6. Choose alghorithms: Word2Vec, Word2Word, Word2Document, TF/IDF other\n",
    "7. Add documentation with explanations about my approach\n",
    "8. Name clusters\n",
    "9. Upload in Github - **done**\n",
    "\n",
    "Useful links:\n",
    "- https://towardsdatascience.com/simplify-your-dataset-cleaning-with-pandas-75951b23568e\n",
    "- http://brandonrose.org/clustering\n",
    "- https://radimrehurek.com/gensim/models/word2vec.html\n",
    "- https://towardsdatascience.com/a-friendly-introduction-to-text-clustering-fa996bcefd04\n",
    "- https://link.springer.com/chapter/10.1007/978-3-030-45439-5_1\n",
    "- https://dylancastillo.co/nlp-snippets-cluster-documents-using-word2vec/\n",
    "- https://towardsdatascience.com/creating-word-embeddings-coding-the-word2vec-algorithm-in-python-using-deep-learning-b337d0ba17a8\n",
    "- https://www.kaggle.com/code/arashnic/eda-and-clustering/notebook\n",
    "- https://www.analyticsvidhya.com/blog/2020/04/beginners-guide-exploratory-data-analysis-text-data/"
   ]
  },
  {
   "cell_type": "markdown",
   "id": "66b43cfb",
   "metadata": {},
   "source": [
    "- Remove this cell\n",
    "- Remove useless links \n",
    "- Make git repo public"
   ]
  },
  {
   "cell_type": "code",
   "execution_count": 1,
   "id": "f02c027b",
   "metadata": {},
   "outputs": [],
   "source": [
    "# !pip install tldextract"
   ]
  },
  {
   "cell_type": "code",
   "execution_count": 2,
   "id": "3d5f3b85",
   "metadata": {},
   "outputs": [],
   "source": [
    "# !pip install kmodes"
   ]
  },
  {
   "cell_type": "code",
   "execution_count": 3,
   "id": "64cb8b3f",
   "metadata": {},
   "outputs": [],
   "source": [
    "# !pip install gensim"
   ]
  },
  {
   "cell_type": "code",
   "execution_count": 4,
   "id": "bd5e4989",
   "metadata": {},
   "outputs": [],
   "source": [
    "%matplotlib inline"
   ]
  },
  {
   "cell_type": "code",
   "execution_count": 5,
   "id": "89d0c0ae",
   "metadata": {},
   "outputs": [],
   "source": [
    "# don't forget to add explanations for libraries: https://dylancastillo.co/nlp-snippets-cluster-documents-using-word2vec/ \n",
    "# - also here see the function for data cleaning - good idea and what have I missed so far.\n",
    "\n",
    "# define random seed to make the code deterministically reproducible\n",
    "import os\n",
    "import random\n",
    "\n",
    "# open json files\n",
    "import json\n",
    "\n",
    "# read the data\n",
    "import pandas as pd\n",
    "from pandas import json_normalize\n",
    "\n",
    "# linear algebra utilities\n",
    "import numpy as np\n",
    "\n",
    "# data clean\n",
    "import re\n",
    "import string\n",
    "\n",
    "# clean and tokenizing data\n",
    "from nltk import word_tokenize\n",
    "from nltk.corpus import stopwords\n",
    "\n",
    "#to break down words into their roots\n",
    "from nltk.stem.snowball import SnowballStemmer \n",
    "\n",
    "# extract domain name\n",
    "import tldextract\n",
    "\n",
    "# train a word embodding using Word2Vec class\n",
    "from gensim.models import Word2Vec\n",
    "\n",
    "# visualizations\n",
    "import seaborn as sns\n",
    "import matplotlib.pyplot as plt\n",
    "\n",
    "# clustering libraries\n",
    "from kmodes.kmodes import KModes\n",
    "\n",
    "pd.options.display.max_colwidth=500\n",
    "pd.set_option('display.max_columns', None)\n",
    "pd.set_option('display.max_rows', None)\n",
    "\n",
    "# define SEED and set it as random using numpy, random, and the PYTHONHASHSEED environment variable\n",
    "# to make code reproducible across systems\n",
    "SEED = 42\n",
    "random.seed(SEED)\n",
    "os.environ[\"PYTHONHASHSEED\"] = str(SEED)\n",
    "np.random.seed(SEED)\n",
    "\n",
    "\n",
    "# sklearn gives you an easy interface to the clustering model, MiniBatchKMeans, \n",
    "# and the metrics to evaluate the quality of its results, silhouette_samples and silhouette_score."
   ]
  },
  {
   "cell_type": "code",
   "execution_count": 6,
   "id": "a402abe3",
   "metadata": {},
   "outputs": [],
   "source": [
    "with open('docs.json', encoding=\"utf8\") as f:\n",
    "    data = json.load(f)\n",
    "# print(data)"
   ]
  },
  {
   "cell_type": "code",
   "execution_count": 7,
   "id": "159e5b24",
   "metadata": {},
   "outputs": [],
   "source": [
    "docs = json_normalize(data['hits']['hits'])"
   ]
  },
  {
   "cell_type": "markdown",
   "id": "9406cfdc",
   "metadata": {},
   "source": [
    "## Data exploration and tudying"
   ]
  },
  {
   "cell_type": "code",
   "execution_count": 8,
   "id": "9bfde99c",
   "metadata": {},
   "outputs": [
    {
     "data": {
      "text/plain": [
       "(300, 42)"
      ]
     },
     "execution_count": 8,
     "metadata": {},
     "output_type": "execute_result"
    }
   ],
   "source": [
    "docs.shape"
   ]
  },
  {
   "cell_type": "code",
   "execution_count": 9,
   "id": "ac72352a",
   "metadata": {},
   "outputs": [
    {
     "name": "stdout",
     "output_type": "stream",
     "text": [
      "<class 'pandas.core.frame.DataFrame'>\n",
      "RangeIndex: 300 entries, 0 to 299\n",
      "Data columns (total 42 columns):\n",
      " #   Column                    Non-Null Count  Dtype  \n",
      "---  ------                    --------------  -----  \n",
      " 0   _index                    300 non-null    object \n",
      " 1   _type                     300 non-null    object \n",
      " 2   _id                       300 non-null    object \n",
      " 3   _score                    300 non-null    int64  \n",
      " 4   _source.mediaitemid       300 non-null    int64  \n",
      " 5   _source.summaryid         300 non-null    object \n",
      " 6   _source.programid         300 non-null    int64  \n",
      " 7   _source.commentatorid     300 non-null    int64  \n",
      " 8   _source.headline          300 non-null    object \n",
      " 9   _source.datecreated       300 non-null    object \n",
      " 10  _source.airdate           300 non-null    object \n",
      " 11  _source.searchabletext    300 non-null    object \n",
      " 12  _source.abstract          300 non-null    object \n",
      " 13  _source.fulltext          158 non-null    object \n",
      " 14  _source.programname       300 non-null    object \n",
      " 15  _source.sourcename        300 non-null    object \n",
      " 16  _source.mediatype         300 non-null    object \n",
      " 17  _source.commentator       300 non-null    object \n",
      " 18  _source.articletype       284 non-null    object \n",
      " 19  _source.sourcesystem      300 non-null    object \n",
      " 20  _source.state             300 non-null    object \n",
      " 21  _source.country           300 non-null    object \n",
      " 22  _source.entityname        186 non-null    object \n",
      " 23  _source.socialuserid      12 non-null     float64\n",
      " 24  _source.twitterfollowers  16 non-null     float64\n",
      " 25  _source.twitterfollowing  16 non-null     float64\n",
      " 26  _source.twitterposts      16 non-null     float64\n",
      " 27  _source.buzzresultid      16 non-null     object \n",
      " 28  _source.username          12 non-null     object \n",
      " 29  _source.displayname       12 non-null     object \n",
      " 30  _source.profileurl        12 non-null     object \n",
      " 31  _source.picturefolder     0 non-null      object \n",
      " 32  _source.picturecount      0 non-null      object \n",
      " 33  _source.hyperlink         300 non-null    object \n",
      " 34  _source.mediaoutletlogo   179 non-null    object \n",
      " 35  _source.mediatypeid       300 non-null    int64  \n",
      " 36  _source.companyname       300 non-null    object \n",
      " 37  _source.deliverysetname   300 non-null    object \n",
      " 38  _source.briefname         300 non-null    object \n",
      " 39  _source.prospectkeyword   298 non-null    object \n",
      " 40  _source.@version          300 non-null    object \n",
      " 41  _source.@timestamp        300 non-null    object \n",
      "dtypes: float64(4), int64(5), object(33)\n",
      "memory usage: 98.6+ KB\n"
     ]
    }
   ],
   "source": [
    "docs.info()"
   ]
  },
  {
   "cell_type": "code",
   "execution_count": 10,
   "id": "be28391c",
   "metadata": {},
   "outputs": [
    {
     "data": {
      "text/html": [
       "<div>\n",
       "<style scoped>\n",
       "    .dataframe tbody tr th:only-of-type {\n",
       "        vertical-align: middle;\n",
       "    }\n",
       "\n",
       "    .dataframe tbody tr th {\n",
       "        vertical-align: top;\n",
       "    }\n",
       "\n",
       "    .dataframe thead th {\n",
       "        text-align: right;\n",
       "    }\n",
       "</style>\n",
       "<table border=\"1\" class=\"dataframe\">\n",
       "  <thead>\n",
       "    <tr style=\"text-align: right;\">\n",
       "      <th></th>\n",
       "      <th>_index</th>\n",
       "      <th>_type</th>\n",
       "      <th>_id</th>\n",
       "      <th>_score</th>\n",
       "      <th>_source.mediaitemid</th>\n",
       "      <th>_source.summaryid</th>\n",
       "      <th>_source.programid</th>\n",
       "      <th>_source.commentatorid</th>\n",
       "      <th>_source.headline</th>\n",
       "      <th>_source.datecreated</th>\n",
       "      <th>_source.airdate</th>\n",
       "      <th>_source.searchabletext</th>\n",
       "      <th>_source.abstract</th>\n",
       "      <th>_source.fulltext</th>\n",
       "      <th>_source.programname</th>\n",
       "      <th>_source.sourcename</th>\n",
       "      <th>_source.mediatype</th>\n",
       "      <th>_source.commentator</th>\n",
       "      <th>_source.articletype</th>\n",
       "      <th>_source.sourcesystem</th>\n",
       "      <th>_source.state</th>\n",
       "      <th>_source.country</th>\n",
       "      <th>_source.entityname</th>\n",
       "      <th>_source.socialuserid</th>\n",
       "      <th>_source.twitterfollowers</th>\n",
       "      <th>_source.twitterfollowing</th>\n",
       "      <th>_source.twitterposts</th>\n",
       "      <th>_source.buzzresultid</th>\n",
       "      <th>_source.username</th>\n",
       "      <th>_source.displayname</th>\n",
       "      <th>_source.profileurl</th>\n",
       "      <th>_source.picturefolder</th>\n",
       "      <th>_source.picturecount</th>\n",
       "      <th>_source.hyperlink</th>\n",
       "      <th>_source.mediaoutletlogo</th>\n",
       "      <th>_source.mediatypeid</th>\n",
       "      <th>_source.companyname</th>\n",
       "      <th>_source.deliverysetname</th>\n",
       "      <th>_source.briefname</th>\n",
       "      <th>_source.prospectkeyword</th>\n",
       "      <th>_source.@version</th>\n",
       "      <th>_source.@timestamp</th>\n",
       "    </tr>\n",
       "  </thead>\n",
       "  <tbody>\n",
       "    <tr>\n",
       "      <th>0</th>\n",
       "      <td>demo1</td>\n",
       "      <td>logs</td>\n",
       "      <td>AVf1MzEjpI2L3kY8EWkf</td>\n",
       "      <td>1</td>\n",
       "      <td>232128474</td>\n",
       "      <td>649151843</td>\n",
       "      <td>79006</td>\n",
       "      <td>6925</td>\n",
       "      <td>Taiwan's budget carrier V Air to cease operations</td>\n",
       "      <td>2016-08-29T17:45:10.873Z</td>\n",
       "      <td>2016-09-01T00:00:00.000Z</td>\n",
       "      <td>&lt;root&gt;&lt;item&gt;&lt;id xml:lang=\"en-US\"&gt;649151843&lt;/id&gt;&lt;head xml:lang=\"en-US\"&gt;Taiwan's budget carrier V Air to cease operations&lt;/head&gt;&lt;abs xml:lang=\"en-US\"&gt;Taiwanese regional budget carrierV Air will go out of business in October after less than two years of operation because of competition and low passenger loads, pointing to saturation in its homeland's discount aviation market, airline officials and analysts said. V Air's parent company TransAsia Airways said on 9 August it would stop all routes ...</td>\n",
       "      <td>Taiwanese regional budget carrierV Air will go out of business in October after less than two years of operation because of competition and low passenger loads, pointing to saturation in its homeland's discount aviation market, airline officials and analysts said. V Air's parent company TransAsia Airways said on 9 August it would stop all routes by the discount carrier that launched in December 2014 as Taiwan's first locally owned budget airline, TransAsia will pick up two of V Air's seven r...</td>\n",
       "      <td>\\r\\n    Taiwanese regional budget carrierV Air will go out of business in October after less than two years of operation because of competition and low passenger loads, pointing to saturation in its homeland's discount aviation market, airline officials and analysts said.\\r\\n\\r\\n    V Air's parent company TransAsia Airways said on 9 August it would stop all routes by the discount carrier that launched in December 2014 as Taiwan's first locally owned budget airline, TransAsia will pick up two...</td>\n",
       "      <td>General News</td>\n",
       "      <td>Asian Aviation</td>\n",
       "      <td>Magazine</td>\n",
       "      <td>None</td>\n",
       "      <td>News Item</td>\n",
       "      <td>Press</td>\n",
       "      <td>National</td>\n",
       "      <td>Australia</td>\n",
       "      <td>Asian Aviation</td>\n",
       "      <td>NaN</td>\n",
       "      <td>NaN</td>\n",
       "      <td>NaN</td>\n",
       "      <td>NaN</td>\n",
       "      <td>None</td>\n",
       "      <td>None</td>\n",
       "      <td>None</td>\n",
       "      <td>None</td>\n",
       "      <td>None</td>\n",
       "      <td>None</td>\n",
       "      <td></td>\n",
       "      <td>None</td>\n",
       "      <td>15</td>\n",
       "      <td>Etihad Airways</td>\n",
       "      <td>My133 3</td>\n",
       "      <td>Competitors Press</td>\n",
       "      <td>Airways,announced,business,capital,industry,launched,plan,planned,route,routes,service,staff,take over,Tigerair,venture</td>\n",
       "      <td>1</td>\n",
       "      <td>2016-10-24T05:39:14.405Z</td>\n",
       "    </tr>\n",
       "    <tr>\n",
       "      <th>1</th>\n",
       "      <td>demo1</td>\n",
       "      <td>logs</td>\n",
       "      <td>AVf1MzEjpI2L3kY8EWkg</td>\n",
       "      <td>1</td>\n",
       "      <td>232130228</td>\n",
       "      <td>649157337</td>\n",
       "      <td>79006</td>\n",
       "      <td>645731</td>\n",
       "      <td>China high on AirAsia wishlist</td>\n",
       "      <td>2016-08-29T18:06:10.700Z</td>\n",
       "      <td>2016-09-01T00:00:00.000Z</td>\n",
       "      <td>&lt;root&gt;&lt;item&gt;&lt;id xml:lang=\"en-US\"&gt;649157337&lt;/id&gt;&lt;head xml:lang=\"en-US\"&gt;China high on AirAsia wishlist&lt;/head&gt;&lt;abs xml:lang=\"en-US\"&gt;AAV European contributor Ian Goold explains why paying for dinner sometimes pays off in business. WHEN AIRASIA GROUP CHIEF EXECUTIVE Tony Femandes paid for a meal with Airbus chief operating officer for customers, John Leahy, in an Iranian restaurant in London last year, he was making a shrewd investment, It was the beginning of talks that led to the Malaysian low-...</td>\n",
       "      <td>AAV European contributor Ian Goold explains why paying for dinner sometimes pays off in business. WHEN AIRASIA GROUP CHIEF EXECUTIVE Tony Femandes paid for a meal with Airbus chief operating officer for customers, John Leahy, in an Iranian restaurant in London last year, he was making a shrewd investment, It was the beginning of talks that led to the Malaysian low-cost carrier (LCC) confirming an order at July's Farnborough International for 100 Airbus A321neos for delivery from 2019, With t...</td>\n",
       "      <td>\\r\\n    AAV European contributor Ian Goold explains why paying for dinner sometimes pays off in business.\\r\\n\\r\\n    WHEN AIRASIA GROUP CHIEF EXECUTIVE Tony Femandes paid for a meal with Airbus chief operating officer for customers, John Leahy, in an Iranian restaurant in London last year, he was making a shrewd investment, It was the beginning of talks that led to the Malaysian low-cost carrier (LCC) confirming an order at July's Farnborough International for 100 Airbus A321neos for deliver...</td>\n",
       "      <td>General News</td>\n",
       "      <td>Asian Aviation</td>\n",
       "      <td>Magazine</td>\n",
       "      <td>Lan Goold</td>\n",
       "      <td>News Item</td>\n",
       "      <td>Press</td>\n",
       "      <td>National</td>\n",
       "      <td>Australia</td>\n",
       "      <td>Asian Aviation</td>\n",
       "      <td>NaN</td>\n",
       "      <td>NaN</td>\n",
       "      <td>NaN</td>\n",
       "      <td>NaN</td>\n",
       "      <td>None</td>\n",
       "      <td>None</td>\n",
       "      <td>None</td>\n",
       "      <td>None</td>\n",
       "      <td>None</td>\n",
       "      <td>None</td>\n",
       "      <td></td>\n",
       "      <td>None</td>\n",
       "      <td>15</td>\n",
       "      <td>Qantas Airways Ltd</td>\n",
       "      <td>My133 3</td>\n",
       "      <td>Jetstar - Press</td>\n",
       "      <td>Femandes,Fernandes,Tony</td>\n",
       "      <td>1</td>\n",
       "      <td>2016-10-24T05:39:14.439Z</td>\n",
       "    </tr>\n",
       "  </tbody>\n",
       "</table>\n",
       "</div>"
      ],
      "text/plain": [
       "  _index _type                   _id  _score  _source.mediaitemid  \\\n",
       "0  demo1  logs  AVf1MzEjpI2L3kY8EWkf       1            232128474   \n",
       "1  demo1  logs  AVf1MzEjpI2L3kY8EWkg       1            232130228   \n",
       "\n",
       "  _source.summaryid  _source.programid  _source.commentatorid  \\\n",
       "0         649151843              79006                   6925   \n",
       "1         649157337              79006                 645731   \n",
       "\n",
       "                                    _source.headline  \\\n",
       "0  Taiwan's budget carrier V Air to cease operations   \n",
       "1                     China high on AirAsia wishlist   \n",
       "\n",
       "        _source.datecreated           _source.airdate  \\\n",
       "0  2016-08-29T17:45:10.873Z  2016-09-01T00:00:00.000Z   \n",
       "1  2016-08-29T18:06:10.700Z  2016-09-01T00:00:00.000Z   \n",
       "\n",
       "                                                                                                                                                                                                                                                                                                                                                                                                                                                                                                _source.searchabletext  \\\n",
       "0  <root><item><id xml:lang=\"en-US\">649151843</id><head xml:lang=\"en-US\">Taiwan's budget carrier V Air to cease operations</head><abs xml:lang=\"en-US\">Taiwanese regional budget carrierV Air will go out of business in October after less than two years of operation because of competition and low passenger loads, pointing to saturation in its homeland's discount aviation market, airline officials and analysts said. V Air's parent company TransAsia Airways said on 9 August it would stop all routes ...   \n",
       "1  <root><item><id xml:lang=\"en-US\">649157337</id><head xml:lang=\"en-US\">China high on AirAsia wishlist</head><abs xml:lang=\"en-US\">AAV European contributor Ian Goold explains why paying for dinner sometimes pays off in business. WHEN AIRASIA GROUP CHIEF EXECUTIVE Tony Femandes paid for a meal with Airbus chief operating officer for customers, John Leahy, in an Iranian restaurant in London last year, he was making a shrewd investment, It was the beginning of talks that led to the Malaysian low-...   \n",
       "\n",
       "                                                                                                                                                                                                                                                                                                                                                                                                                                                                                                      _source.abstract  \\\n",
       "0  Taiwanese regional budget carrierV Air will go out of business in October after less than two years of operation because of competition and low passenger loads, pointing to saturation in its homeland's discount aviation market, airline officials and analysts said. V Air's parent company TransAsia Airways said on 9 August it would stop all routes by the discount carrier that launched in December 2014 as Taiwan's first locally owned budget airline, TransAsia will pick up two of V Air's seven r...   \n",
       "1  AAV European contributor Ian Goold explains why paying for dinner sometimes pays off in business. WHEN AIRASIA GROUP CHIEF EXECUTIVE Tony Femandes paid for a meal with Airbus chief operating officer for customers, John Leahy, in an Iranian restaurant in London last year, he was making a shrewd investment, It was the beginning of talks that led to the Malaysian low-cost carrier (LCC) confirming an order at July's Farnborough International for 100 Airbus A321neos for delivery from 2019, With t...   \n",
       "\n",
       "                                                                                                                                                                                                                                                                                                                                                                                                                                                                                                      _source.fulltext  \\\n",
       "0  \\r\\n    Taiwanese regional budget carrierV Air will go out of business in October after less than two years of operation because of competition and low passenger loads, pointing to saturation in its homeland's discount aviation market, airline officials and analysts said.\\r\\n\\r\\n    V Air's parent company TransAsia Airways said on 9 August it would stop all routes by the discount carrier that launched in December 2014 as Taiwan's first locally owned budget airline, TransAsia will pick up two...   \n",
       "1  \\r\\n    AAV European contributor Ian Goold explains why paying for dinner sometimes pays off in business.\\r\\n\\r\\n    WHEN AIRASIA GROUP CHIEF EXECUTIVE Tony Femandes paid for a meal with Airbus chief operating officer for customers, John Leahy, in an Iranian restaurant in London last year, he was making a shrewd investment, It was the beginning of talks that led to the Malaysian low-cost carrier (LCC) confirming an order at July's Farnborough International for 100 Airbus A321neos for deliver...   \n",
       "\n",
       "  _source.programname _source.sourcename _source.mediatype  \\\n",
       "0        General News     Asian Aviation          Magazine   \n",
       "1        General News     Asian Aviation          Magazine   \n",
       "\n",
       "  _source.commentator _source.articletype _source.sourcesystem _source.state  \\\n",
       "0                None           News Item                Press      National   \n",
       "1           Lan Goold           News Item                Press      National   \n",
       "\n",
       "  _source.country _source.entityname  _source.socialuserid  \\\n",
       "0       Australia     Asian Aviation                   NaN   \n",
       "1       Australia     Asian Aviation                   NaN   \n",
       "\n",
       "   _source.twitterfollowers  _source.twitterfollowing  _source.twitterposts  \\\n",
       "0                       NaN                       NaN                   NaN   \n",
       "1                       NaN                       NaN                   NaN   \n",
       "\n",
       "  _source.buzzresultid _source.username _source.displayname  \\\n",
       "0                 None             None                None   \n",
       "1                 None             None                None   \n",
       "\n",
       "  _source.profileurl _source.picturefolder _source.picturecount  \\\n",
       "0               None                  None                 None   \n",
       "1               None                  None                 None   \n",
       "\n",
       "  _source.hyperlink _source.mediaoutletlogo  _source.mediatypeid  \\\n",
       "0                                      None                   15   \n",
       "1                                      None                   15   \n",
       "\n",
       "  _source.companyname _source.deliverysetname  _source.briefname  \\\n",
       "0      Etihad Airways                 My133 3  Competitors Press   \n",
       "1  Qantas Airways Ltd                 My133 3    Jetstar - Press   \n",
       "\n",
       "                                                                                                   _source.prospectkeyword  \\\n",
       "0  Airways,announced,business,capital,industry,launched,plan,planned,route,routes,service,staff,take over,Tigerair,venture   \n",
       "1                                                                                                  Femandes,Fernandes,Tony   \n",
       "\n",
       "  _source.@version        _source.@timestamp  \n",
       "0                1  2016-10-24T05:39:14.405Z  \n",
       "1                1  2016-10-24T05:39:14.439Z  "
      ]
     },
     "execution_count": 10,
     "metadata": {},
     "output_type": "execute_result"
    }
   ],
   "source": [
    "docs.head(2)"
   ]
  },
  {
   "cell_type": "code",
   "execution_count": 11,
   "id": "1aa7bd72",
   "metadata": {},
   "outputs": [],
   "source": [
    "# clean column names\n",
    "docs.columns = docs.columns.str.replace(r'_source.', '', regex=False)"
   ]
  },
  {
   "cell_type": "code",
   "execution_count": 12,
   "id": "3a2cf57d",
   "metadata": {},
   "outputs": [],
   "source": [
    "# rename columns for better understanding of content\n",
    "docs.rename(columns=(\n",
    "    {\n",
    "        '_index': 'index',\n",
    "        '_type': 'type',\n",
    "        '_id': 'id',\n",
    "        '_score': 'score',\n",
    "        'mediaitemid': 'media_item_id', \n",
    "        'summaryid': 'summary_id',\n",
    "        'programid': 'program_id',\n",
    "        'commentatorid': 'commentator_id',\n",
    "        'datecreated': 'date_created',\n",
    "        'airdate': 'air_date',\n",
    "        'searchabletext': 'searchable_text',\n",
    "        'fulltext': 'full_text',\n",
    "        'programname': 'program_name',\n",
    "        'sourcename': 'source_name',\n",
    "        'mediatype': 'media_type',\n",
    "        'articletype': 'article_type',\n",
    "        'sourcesystem': 'source_system',\n",
    "        'entityname': 'entity_name',\n",
    "        'mediaoutletlogo': 'media_outlet_logo',\n",
    "        'mediatypeid': 'media_type_id',\n",
    "        'companyname': 'company_name',\n",
    "        'deliverysetname': 'delivery_set_name',\n",
    "        'briefname': 'brief_name',\n",
    "        'prospectkeyword': 'prospect_keyword',\n",
    "        '@version': 'version',\n",
    "        '@timestamp': 'time_stamp'\n",
    "    }\n",
    "), inplace=True)"
   ]
  },
  {
   "cell_type": "markdown",
   "id": "afe7383a",
   "metadata": {},
   "source": [
    "There are several columns where over 90 percent of the values are null - columns 23 to 32. They are not useful for the purpose of clustering and will be will be removed. "
   ]
  },
  {
   "cell_type": "code",
   "execution_count": 13,
   "id": "b4af5694",
   "metadata": {},
   "outputs": [],
   "source": [
    "docs.drop(\n",
    "    [\n",
    "        'socialuserid', \n",
    "        'twitterfollowers', \n",
    "        'twitterfollowing', \n",
    "        'twitterposts', \n",
    "        'buzzresultid', \n",
    "        'username', \n",
    "        'displayname',\n",
    "        'profileurl', \n",
    "        'picturefolder',\n",
    "        'picturecount',\n",
    "    ], axis=1, inplace=True)"
   ]
  },
  {
   "cell_type": "code",
   "execution_count": 14,
   "id": "b757bf1c",
   "metadata": {},
   "outputs": [
    {
     "name": "stdout",
     "output_type": "stream",
     "text": [
      "['demo1']\n",
      "['logs']\n",
      "[1]\n",
      "['1']\n"
     ]
    }
   ],
   "source": [
    "print(docs['index'].unique())\n",
    "print(docs['type'].unique())\n",
    "print(docs['score'].unique())\n",
    "print(docs['version'].unique())"
   ]
  },
  {
   "cell_type": "code",
   "execution_count": 15,
   "id": "bfd39796",
   "metadata": {},
   "outputs": [
    {
     "data": {
      "text/html": [
       "<div>\n",
       "<style scoped>\n",
       "    .dataframe tbody tr th:only-of-type {\n",
       "        vertical-align: middle;\n",
       "    }\n",
       "\n",
       "    .dataframe tbody tr th {\n",
       "        vertical-align: top;\n",
       "    }\n",
       "\n",
       "    .dataframe thead th {\n",
       "        text-align: right;\n",
       "    }\n",
       "</style>\n",
       "<table border=\"1\" class=\"dataframe\">\n",
       "  <thead>\n",
       "    <tr style=\"text-align: right;\">\n",
       "      <th></th>\n",
       "      <th>index</th>\n",
       "      <th>type</th>\n",
       "      <th>id</th>\n",
       "      <th>score</th>\n",
       "      <th>media_item_id</th>\n",
       "      <th>summary_id</th>\n",
       "      <th>program_id</th>\n",
       "      <th>commentator_id</th>\n",
       "      <th>headline</th>\n",
       "      <th>date_created</th>\n",
       "      <th>air_date</th>\n",
       "      <th>searchable_text</th>\n",
       "      <th>abstract</th>\n",
       "      <th>full_text</th>\n",
       "      <th>program_name</th>\n",
       "      <th>source_name</th>\n",
       "      <th>media_type</th>\n",
       "      <th>commentator</th>\n",
       "      <th>article_type</th>\n",
       "      <th>source_system</th>\n",
       "      <th>state</th>\n",
       "      <th>country</th>\n",
       "      <th>entity_name</th>\n",
       "      <th>hyperlink</th>\n",
       "      <th>media_outlet_logo</th>\n",
       "      <th>media_type_id</th>\n",
       "      <th>company_name</th>\n",
       "      <th>delivery_set_name</th>\n",
       "      <th>brief_name</th>\n",
       "      <th>prospect_keyword</th>\n",
       "      <th>version</th>\n",
       "      <th>time_stamp</th>\n",
       "    </tr>\n",
       "  </thead>\n",
       "  <tbody>\n",
       "    <tr>\n",
       "      <th>195</th>\n",
       "      <td>demo1</td>\n",
       "      <td>logs</td>\n",
       "      <td>AVf1M2q7pI2L3kY8EXDb</td>\n",
       "      <td>1</td>\n",
       "      <td>232987222</td>\n",
       "      <td>652775603</td>\n",
       "      <td>115331</td>\n",
       "      <td>10702</td>\n",
       "      <td>TravelDEALS</td>\n",
       "      <td>2016-09-06T10:54:11.123Z</td>\n",
       "      <td>2016-09-06T00:00:00.000Z</td>\n",
       "      <td>&lt;root&gt;&lt;item&gt;&lt;id xml:lang=\"en-US\"&gt;652775603&lt;/id&gt;&lt;head xml:lang=\"en-US\"&gt;TravelDEALS&lt;/head&gt;&lt;abs xml:lang=\"en-US\"&gt;NULL&lt;/abs&gt;&lt;prg xml:lang=\"en-US\"&gt;Arts &amp;amp; Entertainment&lt;/prg&gt;&lt;loc xml:lang=\"en-US\"&gt;Singapore&lt;/loc&gt;&lt;src xml:lang=\"en-US\"&gt;The Straits Times&lt;/src&gt;&lt;full xml:lang=\"en-US\"&gt;\\n    j^-jtravelDEALS\\n\\n    Win a car! Planning your next holiday? Visit the three-day ASA Comes Closer to You 82E2B803C6EB4B80A09F212F7176FBCF Junction 8 Travel Fair for destination ideas and attractive promotions, in...</td>\n",
       "      <td>NULL</td>\n",
       "      <td>\\r\\n    j^-jtravelDEALS\\r\\n\\r\\n    Win a car! Planning your next holiday? Visit the three-day ASA Comes Closer to You @ Junction 8 Travel Fair for destination ideas and attractive promotions, including: Holiday &amp; Win Lucky Draw Spend at least $500 for a chance to win the grand prize of a Mercedes- Benz A-Class 180. Other prizes include a 7N Alaska cruise for two from Princess Cruises; an 8D Greece trip for two from Trafalgar; and a pair of Oman Air economy class return air tickets to London....</td>\n",
       "      <td>Arts &amp; Entertainment</td>\n",
       "      <td>The Straits Times</td>\n",
       "      <td>Newspaper</td>\n",
       "      <td>No author available</td>\n",
       "      <td>News Item</td>\n",
       "      <td>Press</td>\n",
       "      <td>SIN</td>\n",
       "      <td>Singapore</td>\n",
       "      <td>The Straits Times</td>\n",
       "      <td></td>\n",
       "      <td>logo_11341.jpg</td>\n",
       "      <td>6</td>\n",
       "      <td>Qantas Airways Ltd</td>\n",
       "      <td>My133 3</td>\n",
       "      <td>T: SEA Monitoring</td>\n",
       "      <td>None</td>\n",
       "      <td>1</td>\n",
       "      <td>2016-10-24T05:39:29.828Z</td>\n",
       "    </tr>\n",
       "    <tr>\n",
       "      <th>230</th>\n",
       "      <td>demo1</td>\n",
       "      <td>logs</td>\n",
       "      <td>AVf1M3g2pI2L3kY8EXMc</td>\n",
       "      <td>1</td>\n",
       "      <td>233119718</td>\n",
       "      <td>653312350</td>\n",
       "      <td>116522</td>\n",
       "      <td>6925</td>\n",
       "      <td>Trade Set To Benefit From EK Changes</td>\n",
       "      <td>2016-09-07T09:45:11.017Z</td>\n",
       "      <td>2016-09-06T00:00:00.000Z</td>\n",
       "      <td>&lt;root&gt;&lt;item&gt;&lt;id xml:lang=\"en-US\"&gt;653312350&lt;/id&gt;&lt;head xml:lang=\"en-US\"&gt;Trade Set To Benefit From EK Changes&lt;/head&gt;&lt;abs xml:lang=\"en-US\"&gt;The main retail chains have welcomed EK's plans to start flying A380 services to Christchurch, and offer a daily A380 Bangkok service ex Auckland (via Sydney), as the travel agent distribution looks set to benefit from the record level of air capacity into New Zealand \"The most positive outcome for the whole industry is that the increasing complexity of airli...</td>\n",
       "      <td>The main retail chains have welcomed EK's plans to start flying A380 services to Christchurch, and offer a daily A380 Bangkok service ex Auckland (via Sydney), as the travel agent distribution looks set to benefit from the record level of air capacity into New Zealand \"The most positive outcome for the whole industry is that the increasing complexity of airlines, products, routings and destination options will undoubtedly drive customers to trusted travel professionals for advice and experti...</td>\n",
       "      <td>\\r\\n    The main retail chains have welcomed EK's plans to start flying A380 services to Christchurch, and offer a daily A380 Bangkok service ex Auckland (via Sydney), as the travel agent distribution looks set to benefit from the record level of air capacity into New Zealand \"The most positive outcome for the whole industry is that the increasing complexity of airlines, products, routings and destination options will undoubtedly drive customers to trusted travel professionals for advice and...</td>\n",
       "      <td>General News</td>\n",
       "      <td>Travel Today</td>\n",
       "      <td>Magazine</td>\n",
       "      <td>None</td>\n",
       "      <td>News Item</td>\n",
       "      <td>Press</td>\n",
       "      <td>NZ</td>\n",
       "      <td>New Zealand</td>\n",
       "      <td>None</td>\n",
       "      <td></td>\n",
       "      <td>None</td>\n",
       "      <td>15</td>\n",
       "      <td>Qantas Airways Ltd</td>\n",
       "      <td>My133 3</td>\n",
       "      <td>A: Qantas</td>\n",
       "      <td>None</td>\n",
       "      <td>1</td>\n",
       "      <td>2016-10-24T05:39:32.879Z</td>\n",
       "    </tr>\n",
       "  </tbody>\n",
       "</table>\n",
       "</div>"
      ],
      "text/plain": [
       "     index  type                    id  score  media_item_id summary_id  \\\n",
       "195  demo1  logs  AVf1M2q7pI2L3kY8EXDb      1      232987222  652775603   \n",
       "230  demo1  logs  AVf1M3g2pI2L3kY8EXMc      1      233119718  653312350   \n",
       "\n",
       "     program_id  commentator_id                              headline  \\\n",
       "195      115331           10702                           TravelDEALS   \n",
       "230      116522            6925  Trade Set To Benefit From EK Changes   \n",
       "\n",
       "                 date_created                  air_date  \\\n",
       "195  2016-09-06T10:54:11.123Z  2016-09-06T00:00:00.000Z   \n",
       "230  2016-09-07T09:45:11.017Z  2016-09-06T00:00:00.000Z   \n",
       "\n",
       "                                                                                                                                                                                                                                                                                                                                                                                                                                                                                                         searchable_text  \\\n",
       "195  <root><item><id xml:lang=\"en-US\">652775603</id><head xml:lang=\"en-US\">TravelDEALS</head><abs xml:lang=\"en-US\">NULL</abs><prg xml:lang=\"en-US\">Arts &amp; Entertainment</prg><loc xml:lang=\"en-US\">Singapore</loc><src xml:lang=\"en-US\">The Straits Times</src><full xml:lang=\"en-US\">\\n    j^-jtravelDEALS\\n\\n    Win a car! Planning your next holiday? Visit the three-day ASA Comes Closer to You 82E2B803C6EB4B80A09F212F7176FBCF Junction 8 Travel Fair for destination ideas and attractive promotions, in...   \n",
       "230  <root><item><id xml:lang=\"en-US\">653312350</id><head xml:lang=\"en-US\">Trade Set To Benefit From EK Changes</head><abs xml:lang=\"en-US\">The main retail chains have welcomed EK's plans to start flying A380 services to Christchurch, and offer a daily A380 Bangkok service ex Auckland (via Sydney), as the travel agent distribution looks set to benefit from the record level of air capacity into New Zealand \"The most positive outcome for the whole industry is that the increasing complexity of airli...   \n",
       "\n",
       "                                                                                                                                                                                                                                                                                                                                                                                                                                                                                                                abstract  \\\n",
       "195                                                                                                                                                                                                                                                                                                                                                                                                                                                                                                                 NULL   \n",
       "230  The main retail chains have welcomed EK's plans to start flying A380 services to Christchurch, and offer a daily A380 Bangkok service ex Auckland (via Sydney), as the travel agent distribution looks set to benefit from the record level of air capacity into New Zealand \"The most positive outcome for the whole industry is that the increasing complexity of airlines, products, routings and destination options will undoubtedly drive customers to trusted travel professionals for advice and experti...   \n",
       "\n",
       "                                                                                                                                                                                                                                                                                                                                                                                                                                                                                                               full_text  \\\n",
       "195  \\r\\n    j^-jtravelDEALS\\r\\n\\r\\n    Win a car! Planning your next holiday? Visit the three-day ASA Comes Closer to You @ Junction 8 Travel Fair for destination ideas and attractive promotions, including: Holiday & Win Lucky Draw Spend at least $500 for a chance to win the grand prize of a Mercedes- Benz A-Class 180. Other prizes include a 7N Alaska cruise for two from Princess Cruises; an 8D Greece trip for two from Trafalgar; and a pair of Oman Air economy class return air tickets to London....   \n",
       "230  \\r\\n    The main retail chains have welcomed EK's plans to start flying A380 services to Christchurch, and offer a daily A380 Bangkok service ex Auckland (via Sydney), as the travel agent distribution looks set to benefit from the record level of air capacity into New Zealand \"The most positive outcome for the whole industry is that the increasing complexity of airlines, products, routings and destination options will undoubtedly drive customers to trusted travel professionals for advice and...   \n",
       "\n",
       "             program_name        source_name media_type          commentator  \\\n",
       "195  Arts & Entertainment  The Straits Times  Newspaper  No author available   \n",
       "230          General News       Travel Today   Magazine                 None   \n",
       "\n",
       "    article_type source_system state      country        entity_name  \\\n",
       "195    News Item         Press   SIN    Singapore  The Straits Times   \n",
       "230    News Item         Press    NZ  New Zealand               None   \n",
       "\n",
       "    hyperlink media_outlet_logo  media_type_id        company_name  \\\n",
       "195              logo_11341.jpg              6  Qantas Airways Ltd   \n",
       "230                        None             15  Qantas Airways Ltd   \n",
       "\n",
       "    delivery_set_name         brief_name prospect_keyword version  \\\n",
       "195           My133 3  T: SEA Monitoring             None       1   \n",
       "230           My133 3          A: Qantas             None       1   \n",
       "\n",
       "                   time_stamp  \n",
       "195  2016-10-24T05:39:29.828Z  \n",
       "230  2016-10-24T05:39:32.879Z  "
      ]
     },
     "execution_count": 15,
     "metadata": {},
     "output_type": "execute_result"
    }
   ],
   "source": [
    "docs[docs['prospect_keyword'].isna()]"
   ]
  },
  {
   "cell_type": "markdown",
   "id": "d281d7bf",
   "metadata": {},
   "source": [
    "We will drop these columns: **index**, **type**, **score**, and **version** since they contain a single value which cannot be used to group the data.\n",
    "\n",
    "**media_outlet_logo** column will not be used since it contains jpg filenames that do not give useful information for grouping the articles. If we had the picture files that would give us the opportunity to think of a way to incorporate computer vision techniques to help cluster documents.\n",
    "\n",
    "The date columns: **date_created**, **air_date**, **time_stamp** are also irrelevant to the task. \n",
    "\n",
    "The columns **full_text** and **entity_name** could be useful but more than one third and respectively more than half of the data is null in these columns. Since it is not a numerical data we cannot impute mean or duplicate values. We cannot afford to drop the rows either since we will be left with very little data to work with.\n",
    "\n",
    "There are only two rows with missing data in **prospect_keyword** column, so we can drop these rows.\n",
    "\n",
    "As for **article_type** we need to explore the possibility to add value based on simillarity with other columns.\n",
    "\n",
    "We also do not need **state** and **country**. \n",
    "\n",
    "We are clustering the articles by the content they provide."
   ]
  },
  {
   "cell_type": "code",
   "execution_count": 16,
   "id": "0051de88",
   "metadata": {},
   "outputs": [],
   "source": [
    "docs.drop(\n",
    "    [\n",
    "        'index', \n",
    "        'type', \n",
    "        'score', \n",
    "        'version', \n",
    "        'media_outlet_logo', \n",
    "        'date_created', \n",
    "        'air_date',\n",
    "        'time_stamp',\n",
    "        'entity_name',\n",
    "        'full_text',\n",
    "        'state', \n",
    "        'country',\n",
    "    ], axis=1, inplace=True)"
   ]
  },
  {
   "cell_type": "code",
   "execution_count": 17,
   "id": "b97ecc72",
   "metadata": {},
   "outputs": [],
   "source": [
    "docs = docs[docs['prospect_keyword'].notna()]"
   ]
  },
  {
   "cell_type": "code",
   "execution_count": 18,
   "id": "60a80cc5",
   "metadata": {},
   "outputs": [
    {
     "name": "stdout",
     "output_type": "stream",
     "text": [
      "<class 'pandas.core.frame.DataFrame'>\n",
      "Int64Index: 298 entries, 0 to 299\n",
      "Data columns (total 20 columns):\n",
      " #   Column             Non-Null Count  Dtype \n",
      "---  ------             --------------  ----- \n",
      " 0   id                 298 non-null    object\n",
      " 1   media_item_id      298 non-null    int64 \n",
      " 2   summary_id         298 non-null    object\n",
      " 3   program_id         298 non-null    int64 \n",
      " 4   commentator_id     298 non-null    int64 \n",
      " 5   headline           298 non-null    object\n",
      " 6   searchable_text    298 non-null    object\n",
      " 7   abstract           298 non-null    object\n",
      " 8   program_name       298 non-null    object\n",
      " 9   source_name        298 non-null    object\n",
      " 10  media_type         298 non-null    object\n",
      " 11  commentator        298 non-null    object\n",
      " 12  article_type       282 non-null    object\n",
      " 13  source_system      298 non-null    object\n",
      " 14  hyperlink          298 non-null    object\n",
      " 15  media_type_id      298 non-null    int64 \n",
      " 16  company_name       298 non-null    object\n",
      " 17  delivery_set_name  298 non-null    object\n",
      " 18  brief_name         298 non-null    object\n",
      " 19  prospect_keyword   298 non-null    object\n",
      "dtypes: int64(4), object(16)\n",
      "memory usage: 48.9+ KB\n"
     ]
    }
   ],
   "source": [
    "docs.info()"
   ]
  },
  {
   "cell_type": "code",
   "execution_count": 19,
   "id": "2f62230f",
   "metadata": {},
   "outputs": [],
   "source": [
    "grouped = pd.DataFrame({'count': docs.groupby(['article_type', 'media_type', 'source_system', 'company_name'], dropna=False).size()}).reset_index()"
   ]
  },
  {
   "cell_type": "code",
   "execution_count": 20,
   "id": "540d143e",
   "metadata": {},
   "outputs": [
    {
     "data": {
      "text/html": [
       "<div>\n",
       "<style scoped>\n",
       "    .dataframe tbody tr th:only-of-type {\n",
       "        vertical-align: middle;\n",
       "    }\n",
       "\n",
       "    .dataframe tbody tr th {\n",
       "        vertical-align: top;\n",
       "    }\n",
       "\n",
       "    .dataframe thead th {\n",
       "        text-align: right;\n",
       "    }\n",
       "</style>\n",
       "<table border=\"1\" class=\"dataframe\">\n",
       "  <thead>\n",
       "    <tr style=\"text-align: right;\">\n",
       "      <th></th>\n",
       "      <th>article_type</th>\n",
       "      <th>media_type</th>\n",
       "      <th>source_system</th>\n",
       "      <th>company_name</th>\n",
       "      <th>count</th>\n",
       "    </tr>\n",
       "  </thead>\n",
       "  <tbody>\n",
       "    <tr>\n",
       "      <th>0</th>\n",
       "      <td>Internet Item</td>\n",
       "      <td>Internet</td>\n",
       "      <td>Internet</td>\n",
       "      <td>Bankwest</td>\n",
       "      <td>1</td>\n",
       "    </tr>\n",
       "    <tr>\n",
       "      <th>1</th>\n",
       "      <td>Internet Item</td>\n",
       "      <td>Internet</td>\n",
       "      <td>Internet</td>\n",
       "      <td>Etihad Airways</td>\n",
       "      <td>36</td>\n",
       "    </tr>\n",
       "    <tr>\n",
       "      <th>2</th>\n",
       "      <td>Internet Item</td>\n",
       "      <td>Internet</td>\n",
       "      <td>Internet</td>\n",
       "      <td>Qantas Airways Ltd</td>\n",
       "      <td>67</td>\n",
       "    </tr>\n",
       "    <tr>\n",
       "      <th>3</th>\n",
       "      <td>Internet Item</td>\n",
       "      <td>Internet</td>\n",
       "      <td>Internet</td>\n",
       "      <td>Volvo Car Australia Pty Ltd</td>\n",
       "      <td>20</td>\n",
       "    </tr>\n",
       "    <tr>\n",
       "      <th>4</th>\n",
       "      <td>Internet Item</td>\n",
       "      <td>Internet</td>\n",
       "      <td>Internet</td>\n",
       "      <td>Volvo Commercial Vehicles Pty Ltd</td>\n",
       "      <td>2</td>\n",
       "    </tr>\n",
       "    <tr>\n",
       "      <th>5</th>\n",
       "      <td>Letter</td>\n",
       "      <td>Newspaper</td>\n",
       "      <td>Press</td>\n",
       "      <td>Bankwest</td>\n",
       "      <td>1</td>\n",
       "    </tr>\n",
       "    <tr>\n",
       "      <th>6</th>\n",
       "      <td>Letter</td>\n",
       "      <td>Newspaper</td>\n",
       "      <td>Press</td>\n",
       "      <td>Etihad Airways</td>\n",
       "      <td>1</td>\n",
       "    </tr>\n",
       "    <tr>\n",
       "      <th>7</th>\n",
       "      <td>Letter</td>\n",
       "      <td>Newspaper</td>\n",
       "      <td>Press</td>\n",
       "      <td>Qantas Airways Ltd</td>\n",
       "      <td>3</td>\n",
       "    </tr>\n",
       "    <tr>\n",
       "      <th>8</th>\n",
       "      <td>News Item</td>\n",
       "      <td>Magazine</td>\n",
       "      <td>Press</td>\n",
       "      <td>Etihad Airways</td>\n",
       "      <td>15</td>\n",
       "    </tr>\n",
       "    <tr>\n",
       "      <th>9</th>\n",
       "      <td>News Item</td>\n",
       "      <td>Magazine</td>\n",
       "      <td>Press</td>\n",
       "      <td>Qantas Airways Ltd</td>\n",
       "      <td>9</td>\n",
       "    </tr>\n",
       "    <tr>\n",
       "      <th>10</th>\n",
       "      <td>News Item</td>\n",
       "      <td>Magazine</td>\n",
       "      <td>Press</td>\n",
       "      <td>Volvo Car Australia Pty Ltd</td>\n",
       "      <td>3</td>\n",
       "    </tr>\n",
       "    <tr>\n",
       "      <th>11</th>\n",
       "      <td>News Item</td>\n",
       "      <td>Newspaper</td>\n",
       "      <td>Press</td>\n",
       "      <td>Bankwest</td>\n",
       "      <td>32</td>\n",
       "    </tr>\n",
       "    <tr>\n",
       "      <th>12</th>\n",
       "      <td>News Item</td>\n",
       "      <td>Newspaper</td>\n",
       "      <td>Press</td>\n",
       "      <td>Etihad Airways</td>\n",
       "      <td>22</td>\n",
       "    </tr>\n",
       "    <tr>\n",
       "      <th>13</th>\n",
       "      <td>News Item</td>\n",
       "      <td>Newspaper</td>\n",
       "      <td>Press</td>\n",
       "      <td>Qantas Airways Ltd</td>\n",
       "      <td>69</td>\n",
       "    </tr>\n",
       "    <tr>\n",
       "      <th>14</th>\n",
       "      <td>News Item</td>\n",
       "      <td>Newspaper</td>\n",
       "      <td>Press</td>\n",
       "      <td>Volvo Car Australia Pty Ltd</td>\n",
       "      <td>1</td>\n",
       "    </tr>\n",
       "    <tr>\n",
       "      <th>15</th>\n",
       "      <td>NaN</td>\n",
       "      <td>Blog</td>\n",
       "      <td>Internet</td>\n",
       "      <td>Etihad Airways</td>\n",
       "      <td>1</td>\n",
       "    </tr>\n",
       "    <tr>\n",
       "      <th>16</th>\n",
       "      <td>NaN</td>\n",
       "      <td>Blog</td>\n",
       "      <td>Internet</td>\n",
       "      <td>Qantas Airways Ltd</td>\n",
       "      <td>3</td>\n",
       "    </tr>\n",
       "    <tr>\n",
       "      <th>17</th>\n",
       "      <td>NaN</td>\n",
       "      <td>Blog</td>\n",
       "      <td>Internet</td>\n",
       "      <td>Volvo Car Australia Pty Ltd</td>\n",
       "      <td>1</td>\n",
       "    </tr>\n",
       "    <tr>\n",
       "      <th>18</th>\n",
       "      <td>NaN</td>\n",
       "      <td>Images and Video</td>\n",
       "      <td>Internet</td>\n",
       "      <td>Bankwest</td>\n",
       "      <td>1</td>\n",
       "    </tr>\n",
       "    <tr>\n",
       "      <th>19</th>\n",
       "      <td>NaN</td>\n",
       "      <td>Social Network</td>\n",
       "      <td>Internet</td>\n",
       "      <td>Bankwest</td>\n",
       "      <td>7</td>\n",
       "    </tr>\n",
       "    <tr>\n",
       "      <th>20</th>\n",
       "      <td>NaN</td>\n",
       "      <td>Social Network</td>\n",
       "      <td>Internet</td>\n",
       "      <td>Qantas Airways Ltd</td>\n",
       "      <td>3</td>\n",
       "    </tr>\n",
       "  </tbody>\n",
       "</table>\n",
       "</div>"
      ],
      "text/plain": [
       "     article_type        media_type source_system  \\\n",
       "0   Internet Item          Internet      Internet   \n",
       "1   Internet Item          Internet      Internet   \n",
       "2   Internet Item          Internet      Internet   \n",
       "3   Internet Item          Internet      Internet   \n",
       "4   Internet Item          Internet      Internet   \n",
       "5          Letter         Newspaper         Press   \n",
       "6          Letter         Newspaper         Press   \n",
       "7          Letter         Newspaper         Press   \n",
       "8       News Item          Magazine         Press   \n",
       "9       News Item          Magazine         Press   \n",
       "10      News Item          Magazine         Press   \n",
       "11      News Item         Newspaper         Press   \n",
       "12      News Item         Newspaper         Press   \n",
       "13      News Item         Newspaper         Press   \n",
       "14      News Item         Newspaper         Press   \n",
       "15            NaN              Blog      Internet   \n",
       "16            NaN              Blog      Internet   \n",
       "17            NaN              Blog      Internet   \n",
       "18            NaN  Images and Video      Internet   \n",
       "19            NaN    Social Network      Internet   \n",
       "20            NaN    Social Network      Internet   \n",
       "\n",
       "                         company_name  count  \n",
       "0                            Bankwest      1  \n",
       "1                      Etihad Airways     36  \n",
       "2                  Qantas Airways Ltd     67  \n",
       "3         Volvo Car Australia Pty Ltd     20  \n",
       "4   Volvo Commercial Vehicles Pty Ltd      2  \n",
       "5                            Bankwest      1  \n",
       "6                      Etihad Airways      1  \n",
       "7                  Qantas Airways Ltd      3  \n",
       "8                      Etihad Airways     15  \n",
       "9                  Qantas Airways Ltd      9  \n",
       "10        Volvo Car Australia Pty Ltd      3  \n",
       "11                           Bankwest     32  \n",
       "12                     Etihad Airways     22  \n",
       "13                 Qantas Airways Ltd     69  \n",
       "14        Volvo Car Australia Pty Ltd      1  \n",
       "15                     Etihad Airways      1  \n",
       "16                 Qantas Airways Ltd      3  \n",
       "17        Volvo Car Australia Pty Ltd      1  \n",
       "18                           Bankwest      1  \n",
       "19                           Bankwest      7  \n",
       "20                 Qantas Airways Ltd      3  "
      ]
     },
     "execution_count": 20,
     "metadata": {},
     "output_type": "execute_result"
    }
   ],
   "source": [
    "grouped"
   ]
  },
  {
   "cell_type": "code",
   "execution_count": 21,
   "id": "ff6c208d",
   "metadata": {},
   "outputs": [
    {
     "data": {
      "text/html": [
       "<div>\n",
       "<style scoped>\n",
       "    .dataframe tbody tr th:only-of-type {\n",
       "        vertical-align: middle;\n",
       "    }\n",
       "\n",
       "    .dataframe tbody tr th {\n",
       "        vertical-align: top;\n",
       "    }\n",
       "\n",
       "    .dataframe thead th {\n",
       "        text-align: right;\n",
       "    }\n",
       "</style>\n",
       "<table border=\"1\" class=\"dataframe\">\n",
       "  <thead>\n",
       "    <tr style=\"text-align: right;\">\n",
       "      <th></th>\n",
       "      <th>id</th>\n",
       "      <th>media_item_id</th>\n",
       "      <th>summary_id</th>\n",
       "      <th>program_id</th>\n",
       "      <th>commentator_id</th>\n",
       "      <th>headline</th>\n",
       "      <th>searchable_text</th>\n",
       "      <th>abstract</th>\n",
       "      <th>program_name</th>\n",
       "      <th>source_name</th>\n",
       "      <th>media_type</th>\n",
       "      <th>commentator</th>\n",
       "      <th>article_type</th>\n",
       "      <th>source_system</th>\n",
       "      <th>hyperlink</th>\n",
       "      <th>media_type_id</th>\n",
       "      <th>company_name</th>\n",
       "      <th>delivery_set_name</th>\n",
       "      <th>brief_name</th>\n",
       "      <th>prospect_keyword</th>\n",
       "    </tr>\n",
       "  </thead>\n",
       "  <tbody>\n",
       "    <tr>\n",
       "      <th>274</th>\n",
       "      <td>AVf1M4HGpI2L3kY8EXPV</td>\n",
       "      <td>233199690</td>\n",
       "      <td>653549116</td>\n",
       "      <td>322837</td>\n",
       "      <td>10034676</td>\n",
       "      <td>Jess and Cam at the BankWest Leading Intergenerational Change Lunch. An event to inspire the leaders</td>\n",
       "      <td>&lt;root&gt;&lt;item&gt;&lt;id xml:lang=\"en-US\"&gt;653549116&lt;/id&gt;&lt;head xml:lang=\"en-US\"&gt;Jess and Cam at the BankWest Leading Intergenerational Change Lunch. An event to inspire the leaders&lt;/head&gt;&lt;abs xml:lang=\"en-US\"&gt;Jess and Cam at the BankWest Leading Intergenerational Change Lunch. An event to inspire the leaders of tomorrow.&lt;/abs&gt;&lt;link xml:lang=\"en-US\"&gt;https://www.instagram.com/p/BKDJcO-htRs/&lt;/link&gt;&lt;comtr xml:lang=\"en-US\"&gt;sproutadl&lt;/comtr&gt;&lt;prg xml:lang=\"en-US\"&gt;Other&lt;/prg&gt;&lt;loc xml:lang=\"en-US\"/&gt;&lt;src xml:la...</td>\n",
       "      <td>Jess and Cam at the BankWest Leading Intergenerational Change Lunch. An event to inspire the leaders of tomorrow.</td>\n",
       "      <td>Other</td>\n",
       "      <td>Instagram</td>\n",
       "      <td>Images and Video</td>\n",
       "      <td>sproutadl</td>\n",
       "      <td>None</td>\n",
       "      <td>Internet</td>\n",
       "      <td>https://www.instagram.com/p/BKDJcO-htRs/</td>\n",
       "      <td>14</td>\n",
       "      <td>Bankwest</td>\n",
       "      <td>My133 3</td>\n",
       "      <td>Bankwest - Social</td>\n",
       "      <td>#bankwest,BankWest</td>\n",
       "    </tr>\n",
       "  </tbody>\n",
       "</table>\n",
       "</div>"
      ],
      "text/plain": [
       "                       id  media_item_id summary_id  program_id  \\\n",
       "274  AVf1M4HGpI2L3kY8EXPV      233199690  653549116      322837   \n",
       "\n",
       "     commentator_id  \\\n",
       "274        10034676   \n",
       "\n",
       "                                                                                                 headline  \\\n",
       "274  Jess and Cam at the BankWest Leading Intergenerational Change Lunch. An event to inspire the leaders   \n",
       "\n",
       "                                                                                                                                                                                                                                                                                                                                                                                                                                                                                                         searchable_text  \\\n",
       "274  <root><item><id xml:lang=\"en-US\">653549116</id><head xml:lang=\"en-US\">Jess and Cam at the BankWest Leading Intergenerational Change Lunch. An event to inspire the leaders</head><abs xml:lang=\"en-US\">Jess and Cam at the BankWest Leading Intergenerational Change Lunch. An event to inspire the leaders of tomorrow.</abs><link xml:lang=\"en-US\">https://www.instagram.com/p/BKDJcO-htRs/</link><comtr xml:lang=\"en-US\">sproutadl</comtr><prg xml:lang=\"en-US\">Other</prg><loc xml:lang=\"en-US\"/><src xml:la...   \n",
       "\n",
       "                                                                                                              abstract  \\\n",
       "274  Jess and Cam at the BankWest Leading Intergenerational Change Lunch. An event to inspire the leaders of tomorrow.   \n",
       "\n",
       "    program_name source_name        media_type commentator article_type  \\\n",
       "274        Other   Instagram  Images and Video   sproutadl         None   \n",
       "\n",
       "    source_system                                 hyperlink  media_type_id  \\\n",
       "274      Internet  https://www.instagram.com/p/BKDJcO-htRs/             14   \n",
       "\n",
       "    company_name delivery_set_name         brief_name    prospect_keyword  \n",
       "274     Bankwest           My133 3  Bankwest - Social  #bankwest,BankWest  "
      ]
     },
     "execution_count": 21,
     "metadata": {},
     "output_type": "execute_result"
    }
   ],
   "source": [
    "docs[docs['media_type']=='Images and Video']"
   ]
  },
  {
   "cell_type": "markdown",
   "id": "4ca8c290",
   "metadata": {},
   "source": [
    "The records with Nan values in **article_type** include media type records such as Blog and Social Network. I will name it Social Media."
   ]
  },
  {
   "cell_type": "code",
   "execution_count": 22,
   "id": "a25c87c4",
   "metadata": {},
   "outputs": [],
   "source": [
    "docs['article_type'].fillna('Social Media', inplace=True)"
   ]
  },
  {
   "cell_type": "code",
   "execution_count": 23,
   "id": "e3561faa",
   "metadata": {},
   "outputs": [],
   "source": [
    "# Plot data\n",
    "def display_groups(df, col_name, title):\n",
    "    types = pd.DataFrame()\n",
    "    types['count'] = df.groupby(col_name)['id'].count()\n",
    "\n",
    "    fig = plt.figure(figsize=(8, 3))\n",
    "    plt.style.use('fivethirtyeight')\n",
    "    ax = fig.add_axes([0,0,1,1])\n",
    "    plt.xticks(rotation=90)\n",
    "    plt.title(title)\n",
    "    ax.bar(types.index, types['count'], color='teal')"
   ]
  },
  {
   "cell_type": "code",
   "execution_count": 24,
   "id": "50bacafd",
   "metadata": {},
   "outputs": [
    {
     "data": {
      "image/png": "[encoded data removed]",
      "text/plain": [
       "<Figure size 576x216 with 1 Axes>"
      ]
     },
     "metadata": {
      "needs_background": "light"
     },
     "output_type": "display_data"
    }
   ],
   "source": [
    "display_groups(docs, 'source_system', 'Source System')"
   ]
  },
  {
   "cell_type": "code",
   "execution_count": 25,
   "id": "c48fd8d7",
   "metadata": {},
   "outputs": [
    {
     "data": {
      "image/png": "[encoded data removed]",
      "text/plain": [
       "<Figure size 576x216 with 1 Axes>"
      ]
     },
     "metadata": {},
     "output_type": "display_data"
    }
   ],
   "source": [
    "display_groups(docs, 'media_type', 'Media Type')"
   ]
  },
  {
   "cell_type": "code",
   "execution_count": 26,
   "id": "da45b598",
   "metadata": {},
   "outputs": [
    {
     "data": {
      "image/png": "[encoded data removed]",
      "text/plain": [
       "<Figure size 576x216 with 1 Axes>"
      ]
     },
     "metadata": {},
     "output_type": "display_data"
    }
   ],
   "source": [
    "display_groups(docs, 'article_type', 'Article Type')"
   ]
  },
  {
   "cell_type": "code",
   "execution_count": 27,
   "id": "ee3fc1b0",
   "metadata": {},
   "outputs": [
    {
     "data": {
      "image/png": "[encoded data removed]",
      "text/plain": [
       "<Figure size 576x216 with 1 Axes>"
      ]
     },
     "metadata": {},
     "output_type": "display_data"
    }
   ],
   "source": [
    "display_groups(docs, 'program_name', 'Program Names')"
   ]
  },
  {
   "cell_type": "code",
   "execution_count": 28,
   "id": "d5ec83bd",
   "metadata": {},
   "outputs": [
    {
     "data": {
      "text/html": [
       "<div>\n",
       "<style scoped>\n",
       "    .dataframe tbody tr th:only-of-type {\n",
       "        vertical-align: middle;\n",
       "    }\n",
       "\n",
       "    .dataframe tbody tr th {\n",
       "        vertical-align: top;\n",
       "    }\n",
       "\n",
       "    .dataframe thead th {\n",
       "        text-align: right;\n",
       "    }\n",
       "</style>\n",
       "<table border=\"1\" class=\"dataframe\">\n",
       "  <thead>\n",
       "    <tr style=\"text-align: right;\">\n",
       "      <th></th>\n",
       "      <th>media_type</th>\n",
       "      <th>media_type_id</th>\n",
       "      <th>0</th>\n",
       "    </tr>\n",
       "  </thead>\n",
       "  <tbody>\n",
       "    <tr>\n",
       "      <th>0</th>\n",
       "      <td>Blog</td>\n",
       "      <td>12</td>\n",
       "      <td>5</td>\n",
       "    </tr>\n",
       "    <tr>\n",
       "      <th>1</th>\n",
       "      <td>Images and Video</td>\n",
       "      <td>14</td>\n",
       "      <td>1</td>\n",
       "    </tr>\n",
       "    <tr>\n",
       "      <th>2</th>\n",
       "      <td>Internet</td>\n",
       "      <td>7</td>\n",
       "      <td>126</td>\n",
       "    </tr>\n",
       "    <tr>\n",
       "      <th>3</th>\n",
       "      <td>Magazine</td>\n",
       "      <td>15</td>\n",
       "      <td>27</td>\n",
       "    </tr>\n",
       "    <tr>\n",
       "      <th>4</th>\n",
       "      <td>Newspaper</td>\n",
       "      <td>6</td>\n",
       "      <td>129</td>\n",
       "    </tr>\n",
       "    <tr>\n",
       "      <th>5</th>\n",
       "      <td>Social Network</td>\n",
       "      <td>10</td>\n",
       "      <td>10</td>\n",
       "    </tr>\n",
       "  </tbody>\n",
       "</table>\n",
       "</div>"
      ],
      "text/plain": [
       "         media_type  media_type_id    0\n",
       "0              Blog             12    5\n",
       "1  Images and Video             14    1\n",
       "2          Internet              7  126\n",
       "3          Magazine             15   27\n",
       "4         Newspaper              6  129\n",
       "5    Social Network             10   10"
      ]
     },
     "execution_count": 28,
     "metadata": {},
     "output_type": "execute_result"
    }
   ],
   "source": [
    "# there are several columns which seem to have a connection and we need to check that\n",
    "docs.groupby(['media_type', 'media_type_id'], dropna=False).size().reset_index()"
   ]
  },
  {
   "cell_type": "code",
   "execution_count": 29,
   "id": "f61f4043",
   "metadata": {},
   "outputs": [
    {
     "data": {
      "text/html": [
       "<div>\n",
       "<style scoped>\n",
       "    .dataframe tbody tr th:only-of-type {\n",
       "        vertical-align: middle;\n",
       "    }\n",
       "\n",
       "    .dataframe tbody tr th {\n",
       "        vertical-align: top;\n",
       "    }\n",
       "\n",
       "    .dataframe thead th {\n",
       "        text-align: right;\n",
       "    }\n",
       "</style>\n",
       "<table border=\"1\" class=\"dataframe\">\n",
       "  <thead>\n",
       "    <tr style=\"text-align: right;\">\n",
       "      <th></th>\n",
       "      <th>commentator</th>\n",
       "      <th>commentator_id</th>\n",
       "      <th>0</th>\n",
       "    </tr>\n",
       "  </thead>\n",
       "  <tbody>\n",
       "    <tr>\n",
       "      <th>0</th>\n",
       "      <td>3news.co.nz editor</td>\n",
       "      <td>4788900</td>\n",
       "      <td>1</td>\n",
       "    </tr>\n",
       "    <tr>\n",
       "      <th>1</th>\n",
       "      <td>AFP</td>\n",
       "      <td>9112</td>\n",
       "      <td>1</td>\n",
       "    </tr>\n",
       "    <tr>\n",
       "      <th>2</th>\n",
       "      <td>AMY HAYDOCK</td>\n",
       "      <td>959737</td>\n",
       "      <td>1</td>\n",
       "    </tr>\n",
       "    <tr>\n",
       "      <th>3</th>\n",
       "      <td>Aaron Greenwood</td>\n",
       "      <td>95472</td>\n",
       "      <td>1</td>\n",
       "    </tr>\n",
       "    <tr>\n",
       "      <th>4</th>\n",
       "      <td>Adele Ferguson Mario Christodoulou</td>\n",
       "      <td>9830684</td>\n",
       "      <td>1</td>\n",
       "    </tr>\n",
       "  </tbody>\n",
       "</table>\n",
       "</div>"
      ],
      "text/plain": [
       "                          commentator  commentator_id  0\n",
       "0                  3news.co.nz editor         4788900  1\n",
       "1                                 AFP            9112  1\n",
       "2                         AMY HAYDOCK          959737  1\n",
       "3                     Aaron Greenwood           95472  1\n",
       "4  Adele Ferguson Mario Christodoulou         9830684  1"
      ]
     },
     "execution_count": 29,
     "metadata": {},
     "output_type": "execute_result"
    }
   ],
   "source": [
    "docs.groupby(['commentator', 'commentator_id'], dropna=False).size().reset_index().head()"
   ]
  },
  {
   "cell_type": "code",
   "execution_count": 30,
   "id": "019e50e2",
   "metadata": {},
   "outputs": [
    {
     "data": {
      "text/html": [
       "<div>\n",
       "<style scoped>\n",
       "    .dataframe tbody tr th:only-of-type {\n",
       "        vertical-align: middle;\n",
       "    }\n",
       "\n",
       "    .dataframe tbody tr th {\n",
       "        vertical-align: top;\n",
       "    }\n",
       "\n",
       "    .dataframe thead th {\n",
       "        text-align: right;\n",
       "    }\n",
       "</style>\n",
       "<table border=\"1\" class=\"dataframe\">\n",
       "  <thead>\n",
       "    <tr style=\"text-align: right;\">\n",
       "      <th></th>\n",
       "      <th>program_name</th>\n",
       "      <th>program_id</th>\n",
       "      <th>0</th>\n",
       "    </tr>\n",
       "  </thead>\n",
       "  <tbody>\n",
       "    <tr>\n",
       "      <th>0</th>\n",
       "      <td>@australian</td>\n",
       "      <td>1239084</td>\n",
       "      <td>1</td>\n",
       "    </tr>\n",
       "    <tr>\n",
       "      <th>1</th>\n",
       "      <td>Accounting</td>\n",
       "      <td>198977</td>\n",
       "      <td>1</td>\n",
       "    </tr>\n",
       "    <tr>\n",
       "      <th>2</th>\n",
       "      <td>Aviation</td>\n",
       "      <td>55252</td>\n",
       "      <td>4</td>\n",
       "    </tr>\n",
       "    <tr>\n",
       "      <th>3</th>\n",
       "      <td>Business Day</td>\n",
       "      <td>78953</td>\n",
       "      <td>2</td>\n",
       "    </tr>\n",
       "    <tr>\n",
       "      <th>4</th>\n",
       "      <td>Business News</td>\n",
       "      <td>47600</td>\n",
       "      <td>2</td>\n",
       "    </tr>\n",
       "    <tr>\n",
       "      <th>5</th>\n",
       "      <td>Business News</td>\n",
       "      <td>47661</td>\n",
       "      <td>2</td>\n",
       "    </tr>\n",
       "    <tr>\n",
       "      <th>6</th>\n",
       "      <td>Business News</td>\n",
       "      <td>47774</td>\n",
       "      <td>1</td>\n",
       "    </tr>\n",
       "    <tr>\n",
       "      <th>7</th>\n",
       "      <td>Business News</td>\n",
       "      <td>47817</td>\n",
       "      <td>3</td>\n",
       "    </tr>\n",
       "    <tr>\n",
       "      <th>8</th>\n",
       "      <td>Business News</td>\n",
       "      <td>47869</td>\n",
       "      <td>4</td>\n",
       "    </tr>\n",
       "    <tr>\n",
       "      <th>9</th>\n",
       "      <td>Business News</td>\n",
       "      <td>47973</td>\n",
       "      <td>1</td>\n",
       "    </tr>\n",
       "  </tbody>\n",
       "</table>\n",
       "</div>"
      ],
      "text/plain": [
       "    program_name  program_id  0\n",
       "0    @australian     1239084  1\n",
       "1     Accounting      198977  1\n",
       "2       Aviation       55252  4\n",
       "3   Business Day       78953  2\n",
       "4  Business News       47600  2\n",
       "5  Business News       47661  2\n",
       "6  Business News       47774  1\n",
       "7  Business News       47817  3\n",
       "8  Business News       47869  4\n",
       "9  Business News       47973  1"
      ]
     },
     "execution_count": 30,
     "metadata": {},
     "output_type": "execute_result"
    }
   ],
   "source": [
    "docs.groupby(['program_name', 'program_id'], dropna=False).size().reset_index().head(10)"
   ]
  },
  {
   "cell_type": "markdown",
   "id": "83aa6a1e",
   "metadata": {},
   "source": [
    "**media_type** and **commentator** columns are linked to the respective **media_type_id** and **commentator_id**. Not the same case for **program_name** where one program name can have multiple program_ids, e.g. Business News generalizes multiple business news programs.\n",
    "\n",
    "I will set the **media_type**, **program_name**, **article_type** and **source_system** columns as category type. I will also drop **media_type_id** and **commentator_id**."
   ]
  },
  {
   "cell_type": "code",
   "execution_count": 31,
   "id": "f949b572",
   "metadata": {},
   "outputs": [],
   "source": [
    "convert_dict = {'media_type': 'category',\n",
    "                'article_type': 'category',\n",
    "                'source_system': 'category',\n",
    "                'program_name': 'category'\n",
    "               }\n",
    "  \n",
    "docs = docs.astype(convert_dict)"
   ]
  },
  {
   "cell_type": "code",
   "execution_count": 32,
   "id": "8eab68d2",
   "metadata": {},
   "outputs": [],
   "source": [
    "docs.drop(\n",
    "    [\n",
    "        'media_type_id', \n",
    "        'commentator_id', \n",
    "    ], axis=1, inplace=True)"
   ]
  },
  {
   "cell_type": "code",
   "execution_count": 33,
   "id": "7c21a101",
   "metadata": {},
   "outputs": [
    {
     "name": "stdout",
     "output_type": "stream",
     "text": [
      "<class 'pandas.core.frame.DataFrame'>\n",
      "Int64Index: 298 entries, 0 to 299\n",
      "Data columns (total 18 columns):\n",
      " #   Column             Non-Null Count  Dtype   \n",
      "---  ------             --------------  -----   \n",
      " 0   id                 298 non-null    object  \n",
      " 1   media_item_id      298 non-null    int64   \n",
      " 2   summary_id         298 non-null    object  \n",
      " 3   program_id         298 non-null    int64   \n",
      " 4   headline           298 non-null    object  \n",
      " 5   searchable_text    298 non-null    object  \n",
      " 6   abstract           298 non-null    object  \n",
      " 7   program_name       298 non-null    category\n",
      " 8   source_name        298 non-null    object  \n",
      " 9   media_type         298 non-null    category\n",
      " 10  commentator        298 non-null    object  \n",
      " 11  article_type       298 non-null    category\n",
      " 12  source_system      298 non-null    category\n",
      " 13  hyperlink          298 non-null    object  \n",
      " 14  company_name       298 non-null    object  \n",
      " 15  delivery_set_name  298 non-null    object  \n",
      " 16  brief_name         298 non-null    object  \n",
      " 17  prospect_keyword   298 non-null    object  \n",
      "dtypes: category(4), int64(2), object(12)\n",
      "memory usage: 37.9+ KB\n"
     ]
    }
   ],
   "source": [
    "docs.info()"
   ]
  },
  {
   "cell_type": "code",
   "execution_count": 34,
   "id": "a76178a0",
   "metadata": {},
   "outputs": [
    {
     "data": {
      "text/plain": [
       "delivery_set_name\n",
       "My133 3                      296\n",
       "Volvo Commercial Vehicles      2\n",
       "Name: id, dtype: int64"
      ]
     },
     "execution_count": 34,
     "metadata": {},
     "output_type": "execute_result"
    }
   ],
   "source": [
    "docs.groupby(['delivery_set_name'])['id'].count()"
   ]
  },
  {
   "cell_type": "code",
   "execution_count": 35,
   "id": "9439c1d5",
   "metadata": {},
   "outputs": [
    {
     "data": {
      "text/plain": [
       "array(['Competitors Press', 'Jetstar - Press', 'Volvo - Press',\n",
       "       'Etihad Airways Press', 'A: Qantas', 'Industry - Press',\n",
       "       'G: Aircraft Manufacturers and Aircraft', 'S:  Tourism',\n",
       "       'X: Qantas', 'Volvo V8 - Internet', 'Volvo - Internet',\n",
       "       'Competitors (aviation columns) Press', 'Bankwest - Press',\n",
       "       'Etihad Airways Online', 'Jetstar - Internet',\n",
       "       'D: Competitor Airlines (Domestic & International)',\n",
       "       'C: QantasLink', 'Etihad Airways Online (Syndication)',\n",
       "       'L: Holidays and Travel Retail',\n",
       "       'E: oneworld Airlines (and Airline Alliances)',\n",
       "       'Competitors - Internet', 'Qantas - Social',\n",
       "       'Qantas (all mentions) - Internet', 'Bankwest - Social',\n",
       "       'U: Credit Card Surcharges', 'P: Safety',\n",
       "       'Qantas Results - Internet', 'H: Airports', 'Q: Security',\n",
       "       'Volvo Group - Internet', 'F: Codeshare Partner Airlines',\n",
       "       'Volvo - Social', 'Bankwest - Internet', 'Volvo Trucks - Internet'],\n",
       "      dtype=object)"
      ]
     },
     "execution_count": 35,
     "metadata": {},
     "output_type": "execute_result"
    }
   ],
   "source": [
    "docs['brief_name'].unique()"
   ]
  },
  {
   "cell_type": "markdown",
   "id": "58015cff",
   "metadata": {},
   "source": [
    "## Data Cleaning\n",
    "\n",
    "The function **_clean_text_** will be used to preprocess text and generate tokens: \n",
    "1. Transform the input into a string and lowercase it\n",
    "2. Remove links from text\n",
    "2. Remove digits and words containing digits\n",
    "3. Remove multiple spaces, tabs, and line breaks\n",
    "4. Remove ellipsis characters\n",
    "5. Replace dashes between words with a space \n",
    "6. Remove punctuation\n",
    "7. Remove new line char\n",
    "8. Tokenize text \n",
    "9. Remove tokens using a list of stop words\n",
    "10. Remove too short tokens"
   ]
  },
  {
   "cell_type": "code",
   "execution_count": 36,
   "id": "f04132c9",
   "metadata": {},
   "outputs": [],
   "source": [
    "def clean_text(text, tokenizer, stopwords):\n",
    "    \"\"\"Pre-process text and generate tokens\n",
    "\n",
    "    Args:\n",
    "        text: Text to tokenize.\n",
    "\n",
    "    Returns:\n",
    "        Tokenized text.\n",
    "    \"\"\"\n",
    "    \n",
    "    text = str(text).lower()  # Lowercase words\n",
    "    text = re.sub(r'http\\S+', ' ', text, flags=re.MULTILINE)  # Remove links from text\n",
    "    text = re.sub('\\w*\\d\\w*','', text)  # Remove digits and words containing digits\n",
    "    text = re.sub(r'\\s+', ' ', text)  # Remove multiple spaces in content\n",
    "    text = re.sub(r'\\w+…|…', '', text)  # Remove ellipsis (and last word)\n",
    "    text = re.sub(r'(?<=\\w)-(?=\\w)', ' ', text)  # Replace dash between words\n",
    "    text = re.sub(f'[{re.escape(string.punctuation)}]', '', text)  # Remove punctuation\n",
    "    text = re.sub('\\n','', text)  # Remove new line char\n",
    "    \n",
    "    tokens = tokenizer(text)  # Get tokens from text\n",
    "    tokens = [t for t in tokens if not t in stopwords]  # Remove stopwords\n",
    "    tokens = [t for t in tokens if len(t) > 1]  # Remove short tokens\n",
    "    \n",
    "    return tokens"
   ]
  },
  {
   "cell_type": "code",
   "execution_count": 37,
   "id": "a95a095d",
   "metadata": {},
   "outputs": [],
   "source": [
    "def remove_html_tags(text):\n",
    "    \"\"\"Remove html tags from a string\n",
    "    \"\"\"\n",
    "    \n",
    "    clean = re.compile('<.*?>')\n",
    "    \n",
    "    return re.sub(clean, ' ', text)"
   ]
  },
  {
   "cell_type": "code",
   "execution_count": 38,
   "id": "df82e844",
   "metadata": {},
   "outputs": [],
   "source": [
    "# load a list of stopwords from nltk\n",
    "stopwords = stopwords.words('english')"
   ]
  },
  {
   "cell_type": "code",
   "execution_count": 39,
   "id": "406fef1f",
   "metadata": {},
   "outputs": [],
   "source": [
    "# define text columns that will be joined in a master text column\n",
    "text_columns = ['headline', 'abstract', 'searchable_text']"
   ]
  },
  {
   "cell_type": "code",
   "execution_count": 40,
   "id": "aee01fc0",
   "metadata": {},
   "outputs": [],
   "source": [
    "docs_text = docs.copy()"
   ]
  },
  {
   "cell_type": "code",
   "execution_count": 41,
   "id": "22bbcf21",
   "metadata": {},
   "outputs": [],
   "source": [
    "for col in text_columns:\n",
    "    docs_text[col] = docs_text[col].astype(str)"
   ]
  },
  {
   "cell_type": "code",
   "execution_count": 42,
   "id": "91e91181",
   "metadata": {},
   "outputs": [],
   "source": [
    "# clean html tags from searchable_text\n",
    "docs_text['searchable_text'] = docs_text['searchable_text'].map(lambda x: remove_html_tags(x))"
   ]
  },
  {
   "cell_type": "code",
   "execution_count": 43,
   "id": "e10c6d18",
   "metadata": {},
   "outputs": [],
   "source": [
    "docs_text['text'] = docs_text[text_columns].apply(lambda x: \" | \".join(x), axis=1)"
   ]
  },
  {
   "cell_type": "code",
   "execution_count": 44,
   "id": "fc5962af",
   "metadata": {},
   "outputs": [],
   "source": [
    "docs_text['tokens'] = docs_text['text'].map(lambda x: clean_text(x, word_tokenize, stopwords))"
   ]
  },
  {
   "cell_type": "code",
   "execution_count": 45,
   "id": "b3a53e7b",
   "metadata": {},
   "outputs": [
    {
     "name": "stdout",
     "output_type": "stream",
     "text": [
      "Review 1:\n",
      " ['tourism', 'booming', 'record', 'million', 'international', 'visitors', 'arrived', 'australia', 'year', 'june', 'increase', 'international', 'visitor', 'survey', 'tourism', 'research', 'australia', 'shows', 'tourism', 'industry', 'growing', 'three', 'times', 'fast', 'rest', 'economy', 'international', 'tourists', 'spent', 'billion', 'financial', 'year', 'increase', 'billion', 'year', 'thirteen', 'australias', 'top', 'tourist', 'sources', 'saw', 'record', 'visitor', 'arrivals', 'including', 'new', 'zealand', 'china', 'usa', 'singapore', 'taiwan', 'hong', 'kong', 'indonesia', 'india', 'germany', 'switzerland', 'tragovau', 'tourism', 'booming', 'record', 'million', 'international', 'visitors', 'arrived', 'australia', 'year', 'june', 'increase', 'international', 'visitor', 'survey', 'tourism', 'research', 'australia', 'shows', 'tourism', 'industry', 'growing', 'three', 'times', 'fast', 'rest', 'economy', 'international', 'tourists', 'spent', 'billion', 'financial', 'year', 'increase', 'billion', 'year', 'thirteen', 'australias', 'top', 'tourist', 'sources', 'saw', 'record', 'visitor', 'arrivals', 'including', 'new', 'zealand', 'china', 'usa', 'singapore', 'taiwan', 'hong', 'kong', 'indonesia', 'india', 'germany', 'switzerland', 'tragovau', 'none', 'general', 'news', 'mackay', 'qld', 'daily', 'mercury', 'record', 'million', 'international', 'visitors', 'arrived', 'australia', 'year', 'june', 'increase', 'international', 'visitor', 'survey', 'tourism', 'research', 'australia', 'shows', 'tourism', 'industry', 'growing', 'three', 'times', 'fast', 'rest', 'economy', 'international', 'tourists', 'spent', 'billion', 'financial', 'year', 'increase', 'billion', 'year', 'thirteen', 'australias', 'top', 'tourist', 'sources', 'saw', 'record', 'visitor', 'arrivals', 'including', 'new', 'zealand', 'china', 'usa', 'singapore', 'taiwan', 'hong', 'kong', 'indonesia', 'india', 'germany', 'switzerland', 'tragovau', 'caption', 'text', 'photo', 'aap', 'image']\n"
     ]
    }
   ],
   "source": [
    "for index, text in enumerate(docs_text['tokens'][12:13]):\n",
    "    print('Review %d:\\n'%(index+1),text)"
   ]
  },
  {
   "cell_type": "code",
   "execution_count": 46,
   "id": "460c5ff5",
   "metadata": {},
   "outputs": [
    {
     "data": {
      "text/html": [
       "<div>\n",
       "<style scoped>\n",
       "    .dataframe tbody tr th:only-of-type {\n",
       "        vertical-align: middle;\n",
       "    }\n",
       "\n",
       "    .dataframe tbody tr th {\n",
       "        vertical-align: top;\n",
       "    }\n",
       "\n",
       "    .dataframe thead th {\n",
       "        text-align: right;\n",
       "    }\n",
       "</style>\n",
       "<table border=\"1\" class=\"dataframe\">\n",
       "  <thead>\n",
       "    <tr style=\"text-align: right;\">\n",
       "      <th></th>\n",
       "      <th>headline</th>\n",
       "      <th>text</th>\n",
       "      <th>tokens</th>\n",
       "    </tr>\n",
       "  </thead>\n",
       "  <tbody>\n",
       "    <tr>\n",
       "      <th>0</th>\n",
       "      <td>Taiwan's budget carrier V Air to cease operations</td>\n",
       "      <td>Taiwan's budget carrier V Air to cease operations | Taiwanese regional budget carrierV Air will go out of business in October after less than two years of operation because of competition and low passenger loads, pointing to saturation in its homeland's discount aviation market, airline officials and analysts said. V Air's parent company TransAsia Airways said on 9 August it would stop all routes by the discount carrier that launched in December 2014 as Taiwan's first locally owned budget ai...</td>\n",
       "      <td>[taiwans, budget, carrier, air, cease, operations, taiwanese, regional, budget, carrierv, air, go, business, october, less, two, years, operation, competition, low, passenger, loads, pointing, saturation, homelands, discount, aviation, market, airline, officials, analysts, said, airs, parent, company, transasia, airways, said, august, would, stop, routes, discount, carrier, launched, december, taiwans, first, locally, owned, budget, airline, transasia, pick, two, airs, seven, routes, try, re...</td>\n",
       "    </tr>\n",
       "    <tr>\n",
       "      <th>1</th>\n",
       "      <td>China high on AirAsia wishlist</td>\n",
       "      <td>China high on AirAsia wishlist | AAV European contributor Ian Goold explains why paying for dinner sometimes pays off in business. WHEN AIRASIA GROUP CHIEF EXECUTIVE Tony Femandes paid for a meal with Airbus chief operating officer for customers, John Leahy, in an Iranian restaurant in London last year, he was making a shrewd investment, It was the beginning of talks that led to the Malaysian low-cost carrier (LCC) confirming an order at July's Farnborough International for 100 Airbus A321ne...</td>\n",
       "      <td>[china, high, airasia, wishlist, aav, european, contributor, ian, goold, explains, paying, dinner, sometimes, pays, business, airasia, group, chief, executive, tony, femandes, paid, meal, airbus, chief, operating, officer, customers, john, leahy, iranian, restaurant, london, last, year, making, shrewd, investment, beginning, talks, led, malaysian, low, cost, carrier, lcc, confirming, order, julys, farnborough, international, airbus, delivery, agreement, making, airasia, largest, family, cust...</td>\n",
       "    </tr>\n",
       "  </tbody>\n",
       "</table>\n",
       "</div>"
      ],
      "text/plain": [
       "                                            headline  \\\n",
       "0  Taiwan's budget carrier V Air to cease operations   \n",
       "1                     China high on AirAsia wishlist   \n",
       "\n",
       "                                                                                                                                                                                                                                                                                                                                                                                                                                                                                                                  text  \\\n",
       "0  Taiwan's budget carrier V Air to cease operations | Taiwanese regional budget carrierV Air will go out of business in October after less than two years of operation because of competition and low passenger loads, pointing to saturation in its homeland's discount aviation market, airline officials and analysts said. V Air's parent company TransAsia Airways said on 9 August it would stop all routes by the discount carrier that launched in December 2014 as Taiwan's first locally owned budget ai...   \n",
       "1  China high on AirAsia wishlist | AAV European contributor Ian Goold explains why paying for dinner sometimes pays off in business. WHEN AIRASIA GROUP CHIEF EXECUTIVE Tony Femandes paid for a meal with Airbus chief operating officer for customers, John Leahy, in an Iranian restaurant in London last year, he was making a shrewd investment, It was the beginning of talks that led to the Malaysian low-cost carrier (LCC) confirming an order at July's Farnborough International for 100 Airbus A321ne...   \n",
       "\n",
       "                                                                                                                                                                                                                                                                                                                                                                                                                                                                                                                tokens  \n",
       "0  [taiwans, budget, carrier, air, cease, operations, taiwanese, regional, budget, carrierv, air, go, business, october, less, two, years, operation, competition, low, passenger, loads, pointing, saturation, homelands, discount, aviation, market, airline, officials, analysts, said, airs, parent, company, transasia, airways, said, august, would, stop, routes, discount, carrier, launched, december, taiwans, first, locally, owned, budget, airline, transasia, pick, two, airs, seven, routes, try, re...  \n",
       "1  [china, high, airasia, wishlist, aav, european, contributor, ian, goold, explains, paying, dinner, sometimes, pays, business, airasia, group, chief, executive, tony, femandes, paid, meal, airbus, chief, operating, officer, customers, john, leahy, iranian, restaurant, london, last, year, making, shrewd, investment, beginning, talks, led, malaysian, low, cost, carrier, lcc, confirming, order, julys, farnborough, international, airbus, delivery, agreement, making, airasia, largest, family, cust...  "
      ]
     },
     "execution_count": 46,
     "metadata": {},
     "output_type": "execute_result"
    }
   ],
   "source": [
    "docs_text[['headline', 'text', 'tokens']].head(2)"
   ]
  },
  {
   "cell_type": "code",
   "execution_count": 47,
   "id": "8ceee92c",
   "metadata": {},
   "outputs": [],
   "source": [
    "# Remove duplicate tokens after preprocessing\n",
    "_, idx = np.unique(docs_text[\"tokens\"], return_index=True)\n",
    "docs_text = docs_text.iloc[idx, :]"
   ]
  },
  {
   "cell_type": "code",
   "execution_count": 48,
   "id": "aeff13f2",
   "metadata": {},
   "outputs": [
    {
     "name": "stdout",
     "output_type": "stream",
     "text": [
      "Review 1:\n",
      " ['airbus', 'rolls', 'paint', 'shop', 'airbus', 'rolled', 'first', 'completed', 'toulouse', 'manufacturing', 'facility', 'aircraft', 'production', 'number', 'temporary', 'registration', 'wmil', 'emerged', 'paint', 'shop', 'friday', 'july', 'minus', 'powerplants', 'airbus', 'rolls', 'paint', 'shop', 'airbus', 'rolled', 'first', 'completed', 'toulouse', 'manufacturing', 'facility', 'aircraft', 'production', 'number', 'temporary', 'registration', 'wmil', 'emerged', 'paint', 'shop', 'friday', 'july', 'minus', 'powerplants', 'none', 'general', 'news', 'national', 'australian', 'aviation', 'airbus', 'rolled', 'first', 'completed', 'toulouse', 'manufacturing', 'facility', 'aircraft', 'production', 'number', 'temporary', 'registration', 'wmil', 'emerged', 'paint', 'shop', 'friday', 'july', 'minus', 'powerplants', 'airbus', 'said', 'first', 'flight', 'test', 'program', 'expected', 'comprise', 'three', 'aircraft', 'forecast', 'take', 'place', 'final', 'three', 'months', 'calendar', 'australian', 'operator', 'ordered', 'airlines', 'tha', 'serve', 'part', 'world', 'qatar', 'airways', 'orders', 'united', 'cathay', 'pacific', 'orders', 'etihad', 'significant', 'number', 'type', 'due', 'delivery', 'years', 'ahead', 'launch', 'customer', 'qatar', 'expected', 'take', 'delivery', 'first', 'mid', 'british', 'airways', 'japan', 'airlines', 'latam', 'asiana', 'also', 'fly', 'australia', 'also', 'customers', 'garnered', 'orders', 'customers']\n"
     ]
    }
   ],
   "source": [
    "for index,text in enumerate(docs_text['tokens'][12:13]):\n",
    "    print('Review %d:\\n'%(index+1),text)"
   ]
  },
  {
   "cell_type": "code",
   "execution_count": 52,
   "id": "1ca9cee6",
   "metadata": {},
   "outputs": [],
   "source": [
    "# Remove empty values and keep relevant columns\n",
    "docs_text = docs_text.loc[docs_text.tokens.map(lambda x: len(x) > 0), [\"text\", \"tokens\"]]\n",
    "\n",
    "docs_text_val = docs_text[\"text\"].values\n",
    "tokenized_docs = docs_text[\"tokens\"].values"
   ]
  },
  {
   "cell_type": "code",
   "execution_count": 53,
   "id": "7813e4c1",
   "metadata": {},
   "outputs": [
    {
     "name": "stdout",
     "output_type": "stream",
     "text": [
      "Original dataframe: (298, 18)\n",
      "Pre-processed dataframe: (285, 2)\n"
     ]
    }
   ],
   "source": [
    "print(f\"Original dataframe: {docs.shape}\")\n",
    "print(f\"Pre-processed dataframe: {docs_text.shape}\")"
   ]
  },
  {
   "cell_type": "code",
   "execution_count": 61,
   "id": "6f8e1606",
   "metadata": {},
   "outputs": [],
   "source": [
    "# stem words\n",
    "snow_stemmer = SnowballStemmer(language='english')"
   ]
  },
  {
   "cell_type": "code",
   "execution_count": 62,
   "id": "463ec0fd",
   "metadata": {},
   "outputs": [],
   "source": [
    "def word_stemmer(text):\n",
    "    stem_words = []\n",
    "    for w in text:\n",
    "        x = snow_stemmer.stem(w)\n",
    "        stem_words.append(x)\n",
    "    return stem_words"
   ]
  },
  {
   "cell_type": "code",
   "execution_count": 65,
   "id": "ec0de84c",
   "metadata": {},
   "outputs": [],
   "source": [
    "tokenized_stems = docs_text[\"tokens\"].map(lambda x: word_stemmer(x))"
   ]
  },
  {
   "cell_type": "code",
   "execution_count": 68,
   "id": "17cffcf3",
   "metadata": {},
   "outputs": [
    {
     "data": {
      "text/plain": [
       "15    [accc, call, excess, fee, tip, off, consum, urg, dob, big, busi, still, charg, exorbit, fee, credit, card, transact, new, ban, excess, payment, surcharg, begin, today, domest, airlin, cut, credit, card, surcharg, event, ticket, agenc, believ, scrap, complet, accc, call, excess, fee, tip, off, consum, urg, dob, big, busi, still, charg, exorbit, fee, credit, card, transact, new, ban, excess, payment, surcharg, begin, today, domest, airlin, cut, credit, card, surcharg, event, ticket, agenc, bel...\n",
       "Name: tokens, dtype: object"
      ]
     },
     "execution_count": 68,
     "metadata": {},
     "output_type": "execute_result"
    }
   ],
   "source": [
    "tokenized_stems.head(1)"
   ]
  },
  {
   "cell_type": "markdown",
   "id": "f85d0272",
   "metadata": {},
   "source": [
    "## Generate Document Vectors using Word2Vec"
   ]
  },
  {
   "cell_type": "markdown",
   "id": "59fba998",
   "metadata": {},
   "source": [
    "\n"
   ]
  },
  {
   "cell_type": "code",
   "execution_count": 69,
   "id": "88e0fdbc",
   "metadata": {},
   "outputs": [],
   "source": [
    "model = Word2Vec(sentences=tokenized_stems, vector_size=100, workers=1, seed=SEED)\n",
    "\n",
    "# sentences expects a list of lists with the tokenized documents.\n",
    "# vector_size defines the size of the word vectors. In this case, you set it to 100.\n",
    "# workers defines how many cores you use for training. I set it to 1 to make sure the code is deterministically reproducible.\n",
    "# seed seed for random number generator. It's set to the constant SEED you defined in the first cell."
   ]
  },
  {
   "cell_type": "code",
   "execution_count": 71,
   "id": "0982675c",
   "metadata": {},
   "outputs": [
    {
     "data": {
      "text/plain": [
       "[('new', 0.9996709227561951),\n",
       " ('oper', 0.9990302324295044),\n",
       " ('plane', 0.9989804029464722),\n",
       " ('airlin', 0.9989014267921448),\n",
       " ('servic', 0.9988524913787842),\n",
       " ('singapor', 0.998814046382904),\n",
       " ('dreamlin', 0.9987919330596924),\n",
       " ('carrier', 0.9987809658050537),\n",
       " ('asia', 0.9987679719924927),\n",
       " ('virgin', 0.9987413883209229)]"
      ]
     },
     "execution_count": 71,
     "metadata": {},
     "output_type": "execute_result"
    }
   ],
   "source": [
    "model.wv.most_similar('air')"
   ]
  },
  {
   "cell_type": "markdown",
   "id": "dea6ed9b",
   "metadata": {},
   "source": [
    "What I want to do next is to cluster by the topics of the articles. For this clustering I may use the headline, searchable text, abstract (cleaned) and prospect keywords.\n",
    "\n",
    "In one column combine abstract, headling, program_name, source_name, media_type, article_type, source_system, brief_name.\n",
    "- using word2vec\n",
    "- using TfIdf - https://towardsdatascience.com/all-the-news-17fa34b52b9d\n",
    "- stemming, tfidf, good documentation: https://github.com/parkervg/news-article-clustering\n",
    "- keyword extraction: https://www.analyticsvidhya.com/blog/2022/03/keyword-extraction-methods-from-documents-in-nlp/\n",
    "- nlp: https://www.analyticsvidhya.com/blog/2022/03/learn-basics-of-natural-language-processing-nlp-using-gensim-part-1/\n",
    "- see what else from cleaning is missing (stop words, apostrophes, getting the roots of the words): https://www.analyticsvidhya.com/blog/2014/11/text-data-cleaning-steps-python/"
   ]
  },
  {
   "cell_type": "code",
   "execution_count": null,
   "id": "b3173cae",
   "metadata": {},
   "outputs": [],
   "source": []
  },
  {
   "cell_type": "code",
   "execution_count": null,
   "id": "29504f99",
   "metadata": {},
   "outputs": [],
   "source": []
  },
  {
   "cell_type": "code",
   "execution_count": null,
   "id": "b0cbddb5",
   "metadata": {},
   "outputs": [],
   "source": []
  },
  {
   "cell_type": "code",
   "execution_count": null,
   "id": "ad6de958",
   "metadata": {},
   "outputs": [],
   "source": []
  },
  {
   "cell_type": "code",
   "execution_count": null,
   "id": "0e836c0a",
   "metadata": {},
   "outputs": [],
   "source": []
  },
  {
   "cell_type": "code",
   "execution_count": null,
   "id": "d8033c8d",
   "metadata": {},
   "outputs": [],
   "source": []
  },
  {
   "cell_type": "code",
   "execution_count": null,
   "id": "58e4bf25",
   "metadata": {},
   "outputs": [],
   "source": []
  },
  {
   "cell_type": "code",
   "execution_count": null,
   "id": "600992e7",
   "metadata": {},
   "outputs": [],
   "source": []
  },
  {
   "cell_type": "code",
   "execution_count": null,
   "id": "10546594",
   "metadata": {},
   "outputs": [],
   "source": []
  },
  {
   "cell_type": "code",
   "execution_count": null,
   "id": "280500c8",
   "metadata": {},
   "outputs": [],
   "source": []
  }
 ],
 "metadata": {
  "kernelspec": {
   "display_name": "Python 3",
   "language": "python",
   "name": "python3"
  },
  "language_info": {
   "codemirror_mode": {
    "name": "ipython",
    "version": 3
   },
   "file_extension": ".py",
   "mimetype": "text/x-python",
   "name": "python",
   "nbconvert_exporter": "python",
   "pygments_lexer": "ipython3",
   "version": "3.7.6"
  }
 },
 "nbformat": 4,
 "nbformat_minor": 5
}
