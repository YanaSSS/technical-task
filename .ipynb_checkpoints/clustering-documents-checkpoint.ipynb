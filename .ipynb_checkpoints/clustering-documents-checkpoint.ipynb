{
 "cells": [
  {
   "cell_type": "code",
   "execution_count": 75,
   "id": "6a77a40a",
   "metadata": {},
   "outputs": [],
   "source": [
    "import json\n",
    "import numpy as np\n",
    "import pandas as pd\n",
    "from pandas import json_normalize\n",
    "import matplotlib.pyplot as plt\n",
    "\n",
    "pd.options.display.max_colwidth=100"
   ]
  },
  {
   "cell_type": "code",
   "execution_count": 55,
   "id": "74d794ce",
   "metadata": {},
   "outputs": [],
   "source": [
    "with open('docs.json') as f:\n",
    "    data = json.load(f)\n",
    "# print(data)"
   ]
  },
  {
   "cell_type": "code",
   "execution_count": 58,
   "id": "9444cf41",
   "metadata": {},
   "outputs": [],
   "source": [
    "df2 = json_normalize(data['hits']['hits'])"
   ]
  },
  {
   "cell_type": "code",
   "execution_count": 60,
   "id": "fbb733ba",
   "metadata": {},
   "outputs": [
    {
     "data": {
      "text/plain": [
       "(300, 42)"
      ]
     },
     "execution_count": 60,
     "metadata": {},
     "output_type": "execute_result"
    }
   ],
   "source": [
    "df2.shape"
   ]
  },
  {
   "cell_type": "code",
   "execution_count": 61,
   "id": "29980494",
   "metadata": {},
   "outputs": [
    {
     "name": "stdout",
     "output_type": "stream",
     "text": [
      "<class 'pandas.core.frame.DataFrame'>\n",
      "RangeIndex: 300 entries, 0 to 299\n",
      "Data columns (total 42 columns):\n",
      " #   Column                    Non-Null Count  Dtype  \n",
      "---  ------                    --------------  -----  \n",
      " 0   _index                    300 non-null    object \n",
      " 1   _type                     300 non-null    object \n",
      " 2   _id                       300 non-null    object \n",
      " 3   _score                    300 non-null    int64  \n",
      " 4   _source.mediaitemid       300 non-null    int64  \n",
      " 5   _source.summaryid         300 non-null    object \n",
      " 6   _source.programid         300 non-null    int64  \n",
      " 7   _source.commentatorid     300 non-null    int64  \n",
      " 8   _source.headline          300 non-null    object \n",
      " 9   _source.datecreated       300 non-null    object \n",
      " 10  _source.airdate           300 non-null    object \n",
      " 11  _source.searchabletext    300 non-null    object \n",
      " 12  _source.abstract          300 non-null    object \n",
      " 13  _source.fulltext          158 non-null    object \n",
      " 14  _source.programname       300 non-null    object \n",
      " 15  _source.sourcename        300 non-null    object \n",
      " 16  _source.mediatype         300 non-null    object \n",
      " 17  _source.commentator       300 non-null    object \n",
      " 18  _source.articletype       284 non-null    object \n",
      " 19  _source.sourcesystem      300 non-null    object \n",
      " 20  _source.state             300 non-null    object \n",
      " 21  _source.country           300 non-null    object \n",
      " 22  _source.entityname        186 non-null    object \n",
      " 23  _source.socialuserid      12 non-null     float64\n",
      " 24  _source.twitterfollowers  16 non-null     float64\n",
      " 25  _source.twitterfollowing  16 non-null     float64\n",
      " 26  _source.twitterposts      16 non-null     float64\n",
      " 27  _source.buzzresultid      16 non-null     object \n",
      " 28  _source.username          12 non-null     object \n",
      " 29  _source.displayname       12 non-null     object \n",
      " 30  _source.profileurl        12 non-null     object \n",
      " 31  _source.picturefolder     0 non-null      object \n",
      " 32  _source.picturecount      0 non-null      object \n",
      " 33  _source.hyperlink         300 non-null    object \n",
      " 34  _source.mediaoutletlogo   179 non-null    object \n",
      " 35  _source.mediatypeid       300 non-null    int64  \n",
      " 36  _source.companyname       300 non-null    object \n",
      " 37  _source.deliverysetname   300 non-null    object \n",
      " 38  _source.briefname         300 non-null    object \n",
      " 39  _source.prospectkeyword   298 non-null    object \n",
      " 40  _source.@version          300 non-null    object \n",
      " 41  _source.@timestamp        300 non-null    object \n",
      "dtypes: float64(4), int64(5), object(33)\n",
      "memory usage: 98.6+ KB\n"
     ]
    }
   ],
   "source": [
    "df2.info()"
   ]
  },
  {
   "cell_type": "code",
   "execution_count": 89,
   "id": "1bc9512c",
   "metadata": {},
   "outputs": [],
   "source": [
    "df2.columns = df2.columns.str.lstrip(\"_source.\")"
   ]
  },
  {
   "cell_type": "code",
   "execution_count": 90,
   "id": "5399be64",
   "metadata": {},
   "outputs": [
    {
     "name": "stdout",
     "output_type": "stream",
     "text": [
      "<class 'pandas.core.frame.DataFrame'>\n",
      "RangeIndex: 300 entries, 0 to 299\n",
      "Data columns (total 42 columns):\n",
      " #   Column            Non-Null Count  Dtype  \n",
      "---  ------            --------------  -----  \n",
      " 0   index             300 non-null    object \n",
      " 1   typ               300 non-null    object \n",
      " 2   id                300 non-null    object \n",
      " 3                     300 non-null    int64  \n",
      " 4   mediaitemid       300 non-null    int64  \n",
      " 5   mmaryid           300 non-null    object \n",
      " 6   programid         300 non-null    int64  \n",
      " 7   mmentatorid       300 non-null    int64  \n",
      " 8   headlin           300 non-null    object \n",
      " 9   datecreated       300 non-null    object \n",
      " 10  airdat            300 non-null    object \n",
      " 11  archabletext      300 non-null    object \n",
      " 12  abstract          300 non-null    object \n",
      " 13  fulltext          158 non-null    object \n",
      " 14  programnam        300 non-null    object \n",
      " 15  nam               300 non-null    object \n",
      " 16  mediatyp          300 non-null    object \n",
      " 17  mmentat           300 non-null    object \n",
      " 18  articletyp        284 non-null    object \n",
      " 19  ystem             300 non-null    object \n",
      " 20  tat               300 non-null    object \n",
      " 21  ntry              300 non-null    object \n",
      " 22  ntitynam          186 non-null    object \n",
      " 23  ialuserid         12 non-null     float64\n",
      " 24  twitterfollow     16 non-null     float64\n",
      " 25  twitterfollowing  16 non-null     float64\n",
      " 26  twitterpost       16 non-null     float64\n",
      " 27  buzzresultid      16 non-null     object \n",
      " 28  nam               12 non-null     object \n",
      " 29  displaynam        12 non-null     object \n",
      " 30  profileurl        12 non-null     object \n",
      " 31  picturefold       0 non-null      object \n",
      " 32  picturecount      0 non-null      object \n",
      " 33  hyperlink         300 non-null    object \n",
      " 34  mediaoutletlog    179 non-null    object \n",
      " 35  mediatypeid       300 non-null    int64  \n",
      " 36  mpanynam          300 non-null    object \n",
      " 37  deliverysetnam    300 non-null    object \n",
      " 38  briefnam          300 non-null    object \n",
      " 39  prospectkeyword   298 non-null    object \n",
      " 40  @version          300 non-null    object \n",
      " 41  @timestamp        300 non-null    object \n",
      "dtypes: float64(4), int64(5), object(33)\n",
      "memory usage: 98.6+ KB\n"
     ]
    }
   ],
   "source": [
    "df2.info()"
   ]
  },
  {
   "cell_type": "markdown",
   "id": "ee5487fd",
   "metadata": {},
   "source": [
    "1. Rename columns - remove source in front it kills me\n",
    "2. Data clean - why I am going to remove some columns - too many nulls, no way to interpolate\n",
    "3. Change column types - for dates\n",
    "4. Determine category columns\n",
    "5. Possible clusters linked to the number of media types where the texts come from and or article type"
   ]
  },
  {
   "cell_type": "code",
   "execution_count": 85,
   "id": "e6163db2",
   "metadata": {},
   "outputs": [
    {
     "data": {
      "text/plain": [
       "array(['News Item', None, 'Internet Item', 'Letter'], dtype=object)"
      ]
     },
     "execution_count": 85,
     "metadata": {},
     "output_type": "execute_result"
    }
   ],
   "source": [
    "df2['_source.articletype'].unique()"
   ]
  },
  {
   "cell_type": "code",
   "execution_count": null,
   "id": "3c97555d",
   "metadata": {},
   "outputs": [],
   "source": []
  },
  {
   "cell_type": "code",
   "execution_count": null,
   "id": "dbe841dd",
   "metadata": {},
   "outputs": [],
   "source": []
  },
  {
   "cell_type": "code",
   "execution_count": null,
   "id": "d7ef6405",
   "metadata": {},
   "outputs": [],
   "source": []
  },
  {
   "cell_type": "code",
   "execution_count": null,
   "id": "7b92cdfd",
   "metadata": {},
   "outputs": [],
   "source": []
  }
 ],
 "metadata": {
  "kernelspec": {
   "display_name": "Python 3",
   "language": "python",
   "name": "python3"
  },
  "language_info": {
   "codemirror_mode": {
    "name": "ipython",
    "version": 3
   },
   "file_extension": ".py",
   "mimetype": "text/x-python",
   "name": "python",
   "nbconvert_exporter": "python",
   "pygments_lexer": "ipython3",
   "version": "3.7.6"
  }
 },
 "nbformat": 4,
 "nbformat_minor": 5
}
