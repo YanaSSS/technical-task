{
 "cells": [
  {
   "cell_type": "code",
   "execution_count": 56,
   "id": "f02c027b",
   "metadata": {},
   "outputs": [],
   "source": [
    "# !pip install tldextract"
   ]
  },
  {
   "cell_type": "code",
   "execution_count": 57,
   "id": "3d5f3b85",
   "metadata": {},
   "outputs": [],
   "source": [
    "# !pip install kmodes"
   ]
  },
  {
   "cell_type": "code",
   "execution_count": 3,
   "id": "bd5e4989",
   "metadata": {},
   "outputs": [],
   "source": [
    "%matplotlib inline"
   ]
  },
  {
   "cell_type": "code",
   "execution_count": 4,
   "id": "89d0c0ae",
   "metadata": {},
   "outputs": [],
   "source": [
    "# don't forget to add explanations for libraries: https://dylancastillo.co/nlp-snippets-cluster-documents-using-word2vec/ \n",
    "# - also here see the function for data cleaning - good idea and what have I missed so far.\n",
    "# work with data\n",
    "import json\n",
    "import numpy as np\n",
    "import pandas as pd\n",
    "from pandas import json_normalize\n",
    "\n",
    "# data clean\n",
    "import re\n",
    "import string\n",
    "import tldextract\n",
    "import itertools\n",
    "from nltk import word_tokenize\n",
    "from nltk.corpus import stopwords\n",
    "\n",
    "from gensim.models import Word2Vec\n",
    "\n",
    "# visualizations\n",
    "import seaborn as sns\n",
    "import matplotlib.pyplot as plt\n",
    "\n",
    "# clustering libraries\n",
    "from kmodes.kmodes import KModes\n",
    "\n",
    "pd.options.display.max_colwidth=100\n",
    "pd.set_option('display.max_columns', None)\n",
    "pd.set_option('display.max_rows', None)"
   ]
  },
  {
   "cell_type": "code",
   "execution_count": 5,
   "id": "a402abe3",
   "metadata": {},
   "outputs": [],
   "source": [
    "with open('docs.json', encoding=\"utf8\") as f:\n",
    "    data = json.load(f)\n",
    "# print(data)"
   ]
  },
  {
   "cell_type": "code",
   "execution_count": 6,
   "id": "159e5b24",
   "metadata": {},
   "outputs": [],
   "source": [
    "docs = json_normalize(data['hits']['hits'])"
   ]
  },
  {
   "cell_type": "code",
   "execution_count": 7,
   "id": "9bfde99c",
   "metadata": {},
   "outputs": [
    {
     "data": {
      "text/plain": [
       "(300, 42)"
      ]
     },
     "execution_count": 7,
     "metadata": {},
     "output_type": "execute_result"
    }
   ],
   "source": [
    "docs.shape"
   ]
  },
  {
   "cell_type": "code",
   "execution_count": 8,
   "id": "ac72352a",
   "metadata": {},
   "outputs": [],
   "source": [
    "# docs.info()"
   ]
  },
  {
   "cell_type": "code",
   "execution_count": 9,
   "id": "1aa7bd72",
   "metadata": {},
   "outputs": [],
   "source": [
    "docs.columns = docs.columns.str.replace(r'_source.', '', regex=False)"
   ]
  },
  {
   "cell_type": "markdown",
   "id": "3d2e82c4",
   "metadata": {},
   "source": [
    "1. Rename columns - remove source in front it kills me - **done**\n",
    "2. Data clean - why I am going to remove some columns - too many nulls, no way to interpolate\n",
    "3. Change column types - for dates - **not needed**, columns are removed \n",
    "4. Determine category columns\n",
    "5. Possible clusters linked to the number of media types where the texts come from and or article type\n",
    "6. Choose alghorithms: Word2Vec, Word2Word, Word2Document, TF/IDF other\n",
    "7. Add documentation with explanations about my approach\n",
    "8. Name clusters\n",
    "9. Upload in Github - **done**\n",
    "\n",
    "Useful links:\n",
    "- https://towardsdatascience.com/simplify-your-dataset-cleaning-with-pandas-75951b23568e\n",
    "- http://brandonrose.org/clustering\n",
    "- https://radimrehurek.com/gensim/models/word2vec.html\n",
    "- https://towardsdatascience.com/a-friendly-introduction-to-text-clustering-fa996bcefd04\n",
    "- https://link.springer.com/chapter/10.1007/978-3-030-45439-5_1\n",
    "- https://dylancastillo.co/nlp-snippets-cluster-documents-using-word2vec/\n",
    "- https://towardsdatascience.com/creating-word-embeddings-coding-the-word2vec-algorithm-in-python-using-deep-learning-b337d0ba17a8\n",
    "- https://www.kaggle.com/code/arashnic/eda-and-clustering/notebook\n",
    "- https://www.analyticsvidhya.com/blog/2020/04/beginners-guide-exploratory-data-analysis-text-data/"
   ]
  },
  {
   "cell_type": "code",
   "execution_count": 10,
   "id": "3a2cf57d",
   "metadata": {},
   "outputs": [],
   "source": [
    "docs.rename(columns=(\n",
    "    {\n",
    "        '_index': 'index',\n",
    "        '_type': 'type',\n",
    "        '_id': 'id',\n",
    "        '_score': 'score',\n",
    "        'mediaitemid': 'media_item_id', \n",
    "        'summaryid': 'summary_id',\n",
    "        'programid': 'program_id',\n",
    "        'commentatorid': 'commentator_id',\n",
    "        'datecreated': 'date_created',\n",
    "        'airdate': 'air_date',\n",
    "        'searchabletext': 'searchable_text',\n",
    "        'fulltext': 'full_text',\n",
    "        'programname': 'program_name',\n",
    "        'sourcename': 'source_name',\n",
    "        'mediatype': 'media_type',\n",
    "        'articletype': 'article_type',\n",
    "        'sourcesystem': 'source_system',\n",
    "        'entityname': 'entity_name',\n",
    "        'mediaoutletlogo': 'media_outlet_logo',\n",
    "        'mediatypeid': 'media_type_id',\n",
    "        'companyname': 'company_name',\n",
    "        'deliverysetname': 'delivery_set_name',\n",
    "        'briefname': 'brief_name',\n",
    "        'prospectkeyword': 'prospect_keyword',\n",
    "        '@version': 'version',\n",
    "        '@timestamp': 'time_stamp'\n",
    "    }\n",
    "), inplace=True)"
   ]
  },
  {
   "cell_type": "code",
   "execution_count": 11,
   "id": "cb8b3116",
   "metadata": {},
   "outputs": [],
   "source": [
    "# docs.info()"
   ]
  },
  {
   "cell_type": "markdown",
   "id": "afe7383a",
   "metadata": {},
   "source": [
    "The task is to cluster documents. \n",
    "First things first, There are several columns where over 90 percent of the values are null - columns 23 to 32. We cannot remove null rows or perform data imputation. These columns will be removed. \n",
    "\n",
    "The following columns we need to explore before we decide their future: 13, 18, 22, 34, 39"
   ]
  },
  {
   "cell_type": "code",
   "execution_count": 12,
   "id": "b4af5694",
   "metadata": {},
   "outputs": [],
   "source": [
    "docs.drop(\n",
    "    [\n",
    "        'socialuserid', \n",
    "        'twitterfollowers', \n",
    "        'twitterfollowing', \n",
    "        'twitterposts', \n",
    "        'buzzresultid', \n",
    "        'username', \n",
    "        'displayname',\n",
    "        'profileurl', \n",
    "        'picturefolder',\n",
    "        'picturecount',\n",
    "    ], axis=1, inplace=True)"
   ]
  },
  {
   "cell_type": "code",
   "execution_count": 13,
   "id": "7570643a",
   "metadata": {},
   "outputs": [],
   "source": [
    "# docs.info()\n",
    "# docs.isnull().sum()"
   ]
  },
  {
   "cell_type": "code",
   "execution_count": 14,
   "id": "b757bf1c",
   "metadata": {},
   "outputs": [
    {
     "name": "stdout",
     "output_type": "stream",
     "text": [
      "['demo1']\n",
      "['logs']\n",
      "[1]\n",
      "['1']\n"
     ]
    }
   ],
   "source": [
    "print(docs['index'].unique())\n",
    "print(docs['type'].unique())\n",
    "print(docs['score'].unique())\n",
    "print(docs['version'].unique())"
   ]
  },
  {
   "cell_type": "code",
   "execution_count": 15,
   "id": "bfd39796",
   "metadata": {},
   "outputs": [
    {
     "data": {
      "text/html": [
       "<div>\n",
       "<style scoped>\n",
       "    .dataframe tbody tr th:only-of-type {\n",
       "        vertical-align: middle;\n",
       "    }\n",
       "\n",
       "    .dataframe tbody tr th {\n",
       "        vertical-align: top;\n",
       "    }\n",
       "\n",
       "    .dataframe thead th {\n",
       "        text-align: right;\n",
       "    }\n",
       "</style>\n",
       "<table border=\"1\" class=\"dataframe\">\n",
       "  <thead>\n",
       "    <tr style=\"text-align: right;\">\n",
       "      <th></th>\n",
       "      <th>index</th>\n",
       "      <th>type</th>\n",
       "      <th>id</th>\n",
       "      <th>score</th>\n",
       "      <th>media_item_id</th>\n",
       "      <th>summary_id</th>\n",
       "      <th>program_id</th>\n",
       "      <th>commentator_id</th>\n",
       "      <th>headline</th>\n",
       "      <th>date_created</th>\n",
       "      <th>air_date</th>\n",
       "      <th>searchable_text</th>\n",
       "      <th>abstract</th>\n",
       "      <th>full_text</th>\n",
       "      <th>program_name</th>\n",
       "      <th>source_name</th>\n",
       "      <th>media_type</th>\n",
       "      <th>commentator</th>\n",
       "      <th>article_type</th>\n",
       "      <th>source_system</th>\n",
       "      <th>state</th>\n",
       "      <th>country</th>\n",
       "      <th>entity_name</th>\n",
       "      <th>hyperlink</th>\n",
       "      <th>media_outlet_logo</th>\n",
       "      <th>media_type_id</th>\n",
       "      <th>company_name</th>\n",
       "      <th>delivery_set_name</th>\n",
       "      <th>brief_name</th>\n",
       "      <th>prospect_keyword</th>\n",
       "      <th>version</th>\n",
       "      <th>time_stamp</th>\n",
       "    </tr>\n",
       "  </thead>\n",
       "  <tbody>\n",
       "    <tr>\n",
       "      <th>195</th>\n",
       "      <td>demo1</td>\n",
       "      <td>logs</td>\n",
       "      <td>AVf1M2q7pI2L3kY8EXDb</td>\n",
       "      <td>1</td>\n",
       "      <td>232987222</td>\n",
       "      <td>652775603</td>\n",
       "      <td>115331</td>\n",
       "      <td>10702</td>\n",
       "      <td>TravelDEALS</td>\n",
       "      <td>2016-09-06T10:54:11.123Z</td>\n",
       "      <td>2016-09-06T00:00:00.000Z</td>\n",
       "      <td>&lt;root&gt;&lt;item&gt;&lt;id xml:lang=\"en-US\"&gt;652775603&lt;/id&gt;&lt;head xml:lang=\"en-US\"&gt;TravelDEALS&lt;/head&gt;&lt;abs xml...</td>\n",
       "      <td>NULL</td>\n",
       "      <td>\\r\\n    j^-jtravelDEALS\\r\\n\\r\\n    Win a car! Planning your next holiday? Visit the three-day AS...</td>\n",
       "      <td>Arts &amp; Entertainment</td>\n",
       "      <td>The Straits Times</td>\n",
       "      <td>Newspaper</td>\n",
       "      <td>No author available</td>\n",
       "      <td>News Item</td>\n",
       "      <td>Press</td>\n",
       "      <td>SIN</td>\n",
       "      <td>Singapore</td>\n",
       "      <td>The Straits Times</td>\n",
       "      <td></td>\n",
       "      <td>logo_11341.jpg</td>\n",
       "      <td>6</td>\n",
       "      <td>Qantas Airways Ltd</td>\n",
       "      <td>My133 3</td>\n",
       "      <td>T: SEA Monitoring</td>\n",
       "      <td>None</td>\n",
       "      <td>1</td>\n",
       "      <td>2016-10-24T05:39:29.828Z</td>\n",
       "    </tr>\n",
       "    <tr>\n",
       "      <th>230</th>\n",
       "      <td>demo1</td>\n",
       "      <td>logs</td>\n",
       "      <td>AVf1M3g2pI2L3kY8EXMc</td>\n",
       "      <td>1</td>\n",
       "      <td>233119718</td>\n",
       "      <td>653312350</td>\n",
       "      <td>116522</td>\n",
       "      <td>6925</td>\n",
       "      <td>Trade Set To Benefit From EK Changes</td>\n",
       "      <td>2016-09-07T09:45:11.017Z</td>\n",
       "      <td>2016-09-06T00:00:00.000Z</td>\n",
       "      <td>&lt;root&gt;&lt;item&gt;&lt;id xml:lang=\"en-US\"&gt;653312350&lt;/id&gt;&lt;head xml:lang=\"en-US\"&gt;Trade Set To Benefit From ...</td>\n",
       "      <td>The main retail chains have welcomed EK's plans to start flying A380 services to Christchurch, a...</td>\n",
       "      <td>\\r\\n    The main retail chains have welcomed EK's plans to start flying A380 services to Christc...</td>\n",
       "      <td>General News</td>\n",
       "      <td>Travel Today</td>\n",
       "      <td>Magazine</td>\n",
       "      <td>None</td>\n",
       "      <td>News Item</td>\n",
       "      <td>Press</td>\n",
       "      <td>NZ</td>\n",
       "      <td>New Zealand</td>\n",
       "      <td>None</td>\n",
       "      <td></td>\n",
       "      <td>None</td>\n",
       "      <td>15</td>\n",
       "      <td>Qantas Airways Ltd</td>\n",
       "      <td>My133 3</td>\n",
       "      <td>A: Qantas</td>\n",
       "      <td>None</td>\n",
       "      <td>1</td>\n",
       "      <td>2016-10-24T05:39:32.879Z</td>\n",
       "    </tr>\n",
       "  </tbody>\n",
       "</table>\n",
       "</div>"
      ],
      "text/plain": [
       "     index  type                    id  score  media_item_id summary_id  \\\n",
       "195  demo1  logs  AVf1M2q7pI2L3kY8EXDb      1      232987222  652775603   \n",
       "230  demo1  logs  AVf1M3g2pI2L3kY8EXMc      1      233119718  653312350   \n",
       "\n",
       "     program_id  commentator_id                              headline  \\\n",
       "195      115331           10702                           TravelDEALS   \n",
       "230      116522            6925  Trade Set To Benefit From EK Changes   \n",
       "\n",
       "                 date_created                  air_date  \\\n",
       "195  2016-09-06T10:54:11.123Z  2016-09-06T00:00:00.000Z   \n",
       "230  2016-09-07T09:45:11.017Z  2016-09-06T00:00:00.000Z   \n",
       "\n",
       "                                                                                         searchable_text  \\\n",
       "195  <root><item><id xml:lang=\"en-US\">652775603</id><head xml:lang=\"en-US\">TravelDEALS</head><abs xml...   \n",
       "230  <root><item><id xml:lang=\"en-US\">653312350</id><head xml:lang=\"en-US\">Trade Set To Benefit From ...   \n",
       "\n",
       "                                                                                                abstract  \\\n",
       "195                                                                                                 NULL   \n",
       "230  The main retail chains have welcomed EK's plans to start flying A380 services to Christchurch, a...   \n",
       "\n",
       "                                                                                               full_text  \\\n",
       "195  \\r\\n    j^-jtravelDEALS\\r\\n\\r\\n    Win a car! Planning your next holiday? Visit the three-day AS...   \n",
       "230  \\r\\n    The main retail chains have welcomed EK's plans to start flying A380 services to Christc...   \n",
       "\n",
       "             program_name        source_name media_type          commentator  \\\n",
       "195  Arts & Entertainment  The Straits Times  Newspaper  No author available   \n",
       "230          General News       Travel Today   Magazine                 None   \n",
       "\n",
       "    article_type source_system state      country        entity_name  \\\n",
       "195    News Item         Press   SIN    Singapore  The Straits Times   \n",
       "230    News Item         Press    NZ  New Zealand               None   \n",
       "\n",
       "    hyperlink media_outlet_logo  media_type_id        company_name  \\\n",
       "195              logo_11341.jpg              6  Qantas Airways Ltd   \n",
       "230                        None             15  Qantas Airways Ltd   \n",
       "\n",
       "    delivery_set_name         brief_name prospect_keyword version  \\\n",
       "195           My133 3  T: SEA Monitoring             None       1   \n",
       "230           My133 3          A: Qantas             None       1   \n",
       "\n",
       "                   time_stamp  \n",
       "195  2016-10-24T05:39:29.828Z  \n",
       "230  2016-10-24T05:39:32.879Z  "
      ]
     },
     "execution_count": 15,
     "metadata": {},
     "output_type": "execute_result"
    }
   ],
   "source": [
    "docs[docs['prospect_keyword'].isna()]"
   ]
  },
  {
   "cell_type": "markdown",
   "id": "d281d7bf",
   "metadata": {},
   "source": [
    "We will drop these columns: index, type, score, and version since they contain a single value which cannot be used to group the data.\n",
    "\n",
    "media_outlet_logo column will not be used since it contains jpg filenames that do not give useful information for grouping the articles. If we had the picture files that would give us the opportunity to think of a way to incorporate computer vision techniques to help cluster documents.\n",
    "\n",
    "The date columns: date_created, air_date, time_stamp are also irrelevant to the task. \n",
    "\n",
    "The columns full_text and entity_name could be useful but again, there are more than one third and more than half of the data missing. Since it is not a numerical data we cannot impute mean or duplicate values. We cannot afford to drop the rows either. since we will be left with very little data to work with.\n",
    "\n",
    "There are only two rows with missing data in prospect_keyword column, so we can drop these rows.\n",
    "\n",
    "As for article_type we need to explore the possibility to add value based on simillarity with other columns.\n",
    "\n",
    "We also do not need state and country. We are clustering the articles by the content they provide."
   ]
  },
  {
   "cell_type": "code",
   "execution_count": 16,
   "id": "0051de88",
   "metadata": {},
   "outputs": [],
   "source": [
    "docs.drop(\n",
    "    [\n",
    "        'index', \n",
    "        'type', \n",
    "        'score', \n",
    "        'version', \n",
    "        'media_outlet_logo', \n",
    "        'date_created', \n",
    "        'air_date',\n",
    "        'time_stamp',\n",
    "        'entity_name',\n",
    "        'full_text',\n",
    "        'state', \n",
    "        'country',\n",
    "    ], axis=1, inplace=True)"
   ]
  },
  {
   "cell_type": "code",
   "execution_count": 17,
   "id": "b97ecc72",
   "metadata": {},
   "outputs": [],
   "source": [
    "docs = docs[docs['prospect_keyword'].notna()]"
   ]
  },
  {
   "cell_type": "code",
   "execution_count": 18,
   "id": "60a80cc5",
   "metadata": {},
   "outputs": [],
   "source": [
    "# docs.info()"
   ]
  },
  {
   "cell_type": "code",
   "execution_count": 19,
   "id": "2f62230f",
   "metadata": {},
   "outputs": [],
   "source": [
    "grouped = pd.DataFrame({'count': docs.groupby(['article_type', 'media_type', 'source_system', 'company_name'], dropna=False).size()}).reset_index()"
   ]
  },
  {
   "cell_type": "code",
   "execution_count": 20,
   "id": "540d143e",
   "metadata": {},
   "outputs": [
    {
     "data": {
      "text/html": [
       "<div>\n",
       "<style scoped>\n",
       "    .dataframe tbody tr th:only-of-type {\n",
       "        vertical-align: middle;\n",
       "    }\n",
       "\n",
       "    .dataframe tbody tr th {\n",
       "        vertical-align: top;\n",
       "    }\n",
       "\n",
       "    .dataframe thead th {\n",
       "        text-align: right;\n",
       "    }\n",
       "</style>\n",
       "<table border=\"1\" class=\"dataframe\">\n",
       "  <thead>\n",
       "    <tr style=\"text-align: right;\">\n",
       "      <th></th>\n",
       "      <th>article_type</th>\n",
       "      <th>media_type</th>\n",
       "      <th>source_system</th>\n",
       "      <th>company_name</th>\n",
       "      <th>count</th>\n",
       "    </tr>\n",
       "  </thead>\n",
       "  <tbody>\n",
       "    <tr>\n",
       "      <th>0</th>\n",
       "      <td>Internet Item</td>\n",
       "      <td>Internet</td>\n",
       "      <td>Internet</td>\n",
       "      <td>Bankwest</td>\n",
       "      <td>1</td>\n",
       "    </tr>\n",
       "    <tr>\n",
       "      <th>1</th>\n",
       "      <td>Internet Item</td>\n",
       "      <td>Internet</td>\n",
       "      <td>Internet</td>\n",
       "      <td>Etihad Airways</td>\n",
       "      <td>36</td>\n",
       "    </tr>\n",
       "    <tr>\n",
       "      <th>2</th>\n",
       "      <td>Internet Item</td>\n",
       "      <td>Internet</td>\n",
       "      <td>Internet</td>\n",
       "      <td>Qantas Airways Ltd</td>\n",
       "      <td>67</td>\n",
       "    </tr>\n",
       "    <tr>\n",
       "      <th>3</th>\n",
       "      <td>Internet Item</td>\n",
       "      <td>Internet</td>\n",
       "      <td>Internet</td>\n",
       "      <td>Volvo Car Australia Pty Ltd</td>\n",
       "      <td>20</td>\n",
       "    </tr>\n",
       "    <tr>\n",
       "      <th>4</th>\n",
       "      <td>Internet Item</td>\n",
       "      <td>Internet</td>\n",
       "      <td>Internet</td>\n",
       "      <td>Volvo Commercial Vehicles Pty Ltd</td>\n",
       "      <td>2</td>\n",
       "    </tr>\n",
       "    <tr>\n",
       "      <th>5</th>\n",
       "      <td>Letter</td>\n",
       "      <td>Newspaper</td>\n",
       "      <td>Press</td>\n",
       "      <td>Bankwest</td>\n",
       "      <td>1</td>\n",
       "    </tr>\n",
       "    <tr>\n",
       "      <th>6</th>\n",
       "      <td>Letter</td>\n",
       "      <td>Newspaper</td>\n",
       "      <td>Press</td>\n",
       "      <td>Etihad Airways</td>\n",
       "      <td>1</td>\n",
       "    </tr>\n",
       "    <tr>\n",
       "      <th>7</th>\n",
       "      <td>Letter</td>\n",
       "      <td>Newspaper</td>\n",
       "      <td>Press</td>\n",
       "      <td>Qantas Airways Ltd</td>\n",
       "      <td>3</td>\n",
       "    </tr>\n",
       "    <tr>\n",
       "      <th>8</th>\n",
       "      <td>News Item</td>\n",
       "      <td>Magazine</td>\n",
       "      <td>Press</td>\n",
       "      <td>Etihad Airways</td>\n",
       "      <td>15</td>\n",
       "    </tr>\n",
       "    <tr>\n",
       "      <th>9</th>\n",
       "      <td>News Item</td>\n",
       "      <td>Magazine</td>\n",
       "      <td>Press</td>\n",
       "      <td>Qantas Airways Ltd</td>\n",
       "      <td>9</td>\n",
       "    </tr>\n",
       "    <tr>\n",
       "      <th>10</th>\n",
       "      <td>News Item</td>\n",
       "      <td>Magazine</td>\n",
       "      <td>Press</td>\n",
       "      <td>Volvo Car Australia Pty Ltd</td>\n",
       "      <td>3</td>\n",
       "    </tr>\n",
       "    <tr>\n",
       "      <th>11</th>\n",
       "      <td>News Item</td>\n",
       "      <td>Newspaper</td>\n",
       "      <td>Press</td>\n",
       "      <td>Bankwest</td>\n",
       "      <td>32</td>\n",
       "    </tr>\n",
       "    <tr>\n",
       "      <th>12</th>\n",
       "      <td>News Item</td>\n",
       "      <td>Newspaper</td>\n",
       "      <td>Press</td>\n",
       "      <td>Etihad Airways</td>\n",
       "      <td>22</td>\n",
       "    </tr>\n",
       "    <tr>\n",
       "      <th>13</th>\n",
       "      <td>News Item</td>\n",
       "      <td>Newspaper</td>\n",
       "      <td>Press</td>\n",
       "      <td>Qantas Airways Ltd</td>\n",
       "      <td>69</td>\n",
       "    </tr>\n",
       "    <tr>\n",
       "      <th>14</th>\n",
       "      <td>News Item</td>\n",
       "      <td>Newspaper</td>\n",
       "      <td>Press</td>\n",
       "      <td>Volvo Car Australia Pty Ltd</td>\n",
       "      <td>1</td>\n",
       "    </tr>\n",
       "    <tr>\n",
       "      <th>15</th>\n",
       "      <td>NaN</td>\n",
       "      <td>Blog</td>\n",
       "      <td>Internet</td>\n",
       "      <td>Etihad Airways</td>\n",
       "      <td>1</td>\n",
       "    </tr>\n",
       "    <tr>\n",
       "      <th>16</th>\n",
       "      <td>NaN</td>\n",
       "      <td>Blog</td>\n",
       "      <td>Internet</td>\n",
       "      <td>Qantas Airways Ltd</td>\n",
       "      <td>3</td>\n",
       "    </tr>\n",
       "    <tr>\n",
       "      <th>17</th>\n",
       "      <td>NaN</td>\n",
       "      <td>Blog</td>\n",
       "      <td>Internet</td>\n",
       "      <td>Volvo Car Australia Pty Ltd</td>\n",
       "      <td>1</td>\n",
       "    </tr>\n",
       "    <tr>\n",
       "      <th>18</th>\n",
       "      <td>NaN</td>\n",
       "      <td>Images and Video</td>\n",
       "      <td>Internet</td>\n",
       "      <td>Bankwest</td>\n",
       "      <td>1</td>\n",
       "    </tr>\n",
       "    <tr>\n",
       "      <th>19</th>\n",
       "      <td>NaN</td>\n",
       "      <td>Social Network</td>\n",
       "      <td>Internet</td>\n",
       "      <td>Bankwest</td>\n",
       "      <td>7</td>\n",
       "    </tr>\n",
       "    <tr>\n",
       "      <th>20</th>\n",
       "      <td>NaN</td>\n",
       "      <td>Social Network</td>\n",
       "      <td>Internet</td>\n",
       "      <td>Qantas Airways Ltd</td>\n",
       "      <td>3</td>\n",
       "    </tr>\n",
       "  </tbody>\n",
       "</table>\n",
       "</div>"
      ],
      "text/plain": [
       "     article_type        media_type source_system  \\\n",
       "0   Internet Item          Internet      Internet   \n",
       "1   Internet Item          Internet      Internet   \n",
       "2   Internet Item          Internet      Internet   \n",
       "3   Internet Item          Internet      Internet   \n",
       "4   Internet Item          Internet      Internet   \n",
       "5          Letter         Newspaper         Press   \n",
       "6          Letter         Newspaper         Press   \n",
       "7          Letter         Newspaper         Press   \n",
       "8       News Item          Magazine         Press   \n",
       "9       News Item          Magazine         Press   \n",
       "10      News Item          Magazine         Press   \n",
       "11      News Item         Newspaper         Press   \n",
       "12      News Item         Newspaper         Press   \n",
       "13      News Item         Newspaper         Press   \n",
       "14      News Item         Newspaper         Press   \n",
       "15            NaN              Blog      Internet   \n",
       "16            NaN              Blog      Internet   \n",
       "17            NaN              Blog      Internet   \n",
       "18            NaN  Images and Video      Internet   \n",
       "19            NaN    Social Network      Internet   \n",
       "20            NaN    Social Network      Internet   \n",
       "\n",
       "                         company_name  count  \n",
       "0                            Bankwest      1  \n",
       "1                      Etihad Airways     36  \n",
       "2                  Qantas Airways Ltd     67  \n",
       "3         Volvo Car Australia Pty Ltd     20  \n",
       "4   Volvo Commercial Vehicles Pty Ltd      2  \n",
       "5                            Bankwest      1  \n",
       "6                      Etihad Airways      1  \n",
       "7                  Qantas Airways Ltd      3  \n",
       "8                      Etihad Airways     15  \n",
       "9                  Qantas Airways Ltd      9  \n",
       "10        Volvo Car Australia Pty Ltd      3  \n",
       "11                           Bankwest     32  \n",
       "12                     Etihad Airways     22  \n",
       "13                 Qantas Airways Ltd     69  \n",
       "14        Volvo Car Australia Pty Ltd      1  \n",
       "15                     Etihad Airways      1  \n",
       "16                 Qantas Airways Ltd      3  \n",
       "17        Volvo Car Australia Pty Ltd      1  \n",
       "18                           Bankwest      1  \n",
       "19                           Bankwest      7  \n",
       "20                 Qantas Airways Ltd      3  "
      ]
     },
     "execution_count": 20,
     "metadata": {},
     "output_type": "execute_result"
    }
   ],
   "source": [
    "# The records with Nan values in article_type include media type records such as Blog and Social Network. \n",
    "# I can either name the article_type Social Media or go to the more general which is Internet Item. \n",
    "# As seen below the record with a media_type='Images and Video' comes from Instagram\n",
    "\n",
    "grouped"
   ]
  },
  {
   "cell_type": "code",
   "execution_count": 21,
   "id": "ff6c208d",
   "metadata": {},
   "outputs": [
    {
     "data": {
      "text/html": [
       "<div>\n",
       "<style scoped>\n",
       "    .dataframe tbody tr th:only-of-type {\n",
       "        vertical-align: middle;\n",
       "    }\n",
       "\n",
       "    .dataframe tbody tr th {\n",
       "        vertical-align: top;\n",
       "    }\n",
       "\n",
       "    .dataframe thead th {\n",
       "        text-align: right;\n",
       "    }\n",
       "</style>\n",
       "<table border=\"1\" class=\"dataframe\">\n",
       "  <thead>\n",
       "    <tr style=\"text-align: right;\">\n",
       "      <th></th>\n",
       "      <th>id</th>\n",
       "      <th>media_item_id</th>\n",
       "      <th>summary_id</th>\n",
       "      <th>program_id</th>\n",
       "      <th>commentator_id</th>\n",
       "      <th>headline</th>\n",
       "      <th>searchable_text</th>\n",
       "      <th>abstract</th>\n",
       "      <th>program_name</th>\n",
       "      <th>source_name</th>\n",
       "      <th>media_type</th>\n",
       "      <th>commentator</th>\n",
       "      <th>article_type</th>\n",
       "      <th>source_system</th>\n",
       "      <th>hyperlink</th>\n",
       "      <th>media_type_id</th>\n",
       "      <th>company_name</th>\n",
       "      <th>delivery_set_name</th>\n",
       "      <th>brief_name</th>\n",
       "      <th>prospect_keyword</th>\n",
       "    </tr>\n",
       "  </thead>\n",
       "  <tbody>\n",
       "    <tr>\n",
       "      <th>274</th>\n",
       "      <td>AVf1M4HGpI2L3kY8EXPV</td>\n",
       "      <td>233199690</td>\n",
       "      <td>653549116</td>\n",
       "      <td>322837</td>\n",
       "      <td>10034676</td>\n",
       "      <td>Jess and Cam at the BankWest Leading Intergenerational Change Lunch. An event to inspire the lea...</td>\n",
       "      <td>&lt;root&gt;&lt;item&gt;&lt;id xml:lang=\"en-US\"&gt;653549116&lt;/id&gt;&lt;head xml:lang=\"en-US\"&gt;Jess and Cam at the BankWe...</td>\n",
       "      <td>Jess and Cam at the BankWest Leading Intergenerational Change Lunch. An event to inspire the lea...</td>\n",
       "      <td>Other</td>\n",
       "      <td>Instagram</td>\n",
       "      <td>Images and Video</td>\n",
       "      <td>sproutadl</td>\n",
       "      <td>None</td>\n",
       "      <td>Internet</td>\n",
       "      <td>https://www.instagram.com/p/BKDJcO-htRs/</td>\n",
       "      <td>14</td>\n",
       "      <td>Bankwest</td>\n",
       "      <td>My133 3</td>\n",
       "      <td>Bankwest - Social</td>\n",
       "      <td>#bankwest,BankWest</td>\n",
       "    </tr>\n",
       "  </tbody>\n",
       "</table>\n",
       "</div>"
      ],
      "text/plain": [
       "                       id  media_item_id summary_id  program_id  \\\n",
       "274  AVf1M4HGpI2L3kY8EXPV      233199690  653549116      322837   \n",
       "\n",
       "     commentator_id  \\\n",
       "274        10034676   \n",
       "\n",
       "                                                                                                headline  \\\n",
       "274  Jess and Cam at the BankWest Leading Intergenerational Change Lunch. An event to inspire the lea...   \n",
       "\n",
       "                                                                                         searchable_text  \\\n",
       "274  <root><item><id xml:lang=\"en-US\">653549116</id><head xml:lang=\"en-US\">Jess and Cam at the BankWe...   \n",
       "\n",
       "                                                                                                abstract  \\\n",
       "274  Jess and Cam at the BankWest Leading Intergenerational Change Lunch. An event to inspire the lea...   \n",
       "\n",
       "    program_name source_name        media_type commentator article_type  \\\n",
       "274        Other   Instagram  Images and Video   sproutadl         None   \n",
       "\n",
       "    source_system                                 hyperlink  media_type_id  \\\n",
       "274      Internet  https://www.instagram.com/p/BKDJcO-htRs/             14   \n",
       "\n",
       "    company_name delivery_set_name         brief_name    prospect_keyword  \n",
       "274     Bankwest           My133 3  Bankwest - Social  #bankwest,BankWest  "
      ]
     },
     "execution_count": 21,
     "metadata": {},
     "output_type": "execute_result"
    }
   ],
   "source": [
    "docs[docs['media_type']=='Images and Video']"
   ]
  },
  {
   "cell_type": "code",
   "execution_count": 22,
   "id": "a25c87c4",
   "metadata": {},
   "outputs": [],
   "source": [
    "docs['article_type'].fillna('Social Media', inplace=True)"
   ]
  },
  {
   "cell_type": "code",
   "execution_count": 23,
   "id": "0b089e60",
   "metadata": {},
   "outputs": [],
   "source": [
    "# extract link names in \n",
    "docs['link_title'] = docs['hyperlink'].apply(lambda x: tldextract.extract(x).domain)"
   ]
  },
  {
   "cell_type": "code",
   "execution_count": 24,
   "id": "c7582e5b",
   "metadata": {},
   "outputs": [
    {
     "data": {
      "text/plain": [
       "array(['', 'pointhacks', 'supercars', 'caradvice', 'goauto',\n",
       "       'thenational', 'ausbt', 'theguardian', 'bandt', 'isentialink',\n",
       "       'news', 'nbr', 'travelweekly', 'travelandtourworld', 'gxpress',\n",
       "       'redlandcitybulletin', 'signedevents', 'bernama', 'bestadsontv',\n",
       "       'luxuryholidaybargains', 'ibtimes', 'the-retiree', 'thestar',\n",
       "       'twitter', 'theage', 'abc', 'sbs', 'smh', 'mynewshub',\n",
       "       'canberratimes', 'wazzuppilipinas', 'campaignbrief', 'autoguide',\n",
       "       'eurosport', 'performancedrive', 'nzherald', 'okezone', 'salient',\n",
       "       'behindthewheel', 'executivestyle', 'cricket', 'arnnet', 'emsnow',\n",
       "       'hrdaily', 'yourlifechoices', 'voxy', 'centreforaviation',\n",
       "       'businesseventsnews', 'afp', 'yahoo', 'flightglobal', 'ipotnews',\n",
       "       'mb', '4-traders', 'antaranews', 'gulf-times', 'newshub',\n",
       "       'eventfinda', 'talkvietnam', 'dtinews', 'prwire', 'kotaku',\n",
       "       'kidspot', 'energymatters', 'viw', 'australasianlawyer',\n",
       "       'ehotelier', 'bloomberg', 'dailymail', 'theartofbusinesstravel',\n",
       "       'drivespark', 'australianaviation', 'thailand-business-news',\n",
       "       'morningstar', 'whichcar', 'instagram', 'msn', 'azomining',\n",
       "       'businessinsider', 'traveldailymedia'], dtype=object)"
      ]
     },
     "execution_count": 24,
     "metadata": {},
     "output_type": "execute_result"
    }
   ],
   "source": [
    "docs['link_title'].unique()"
   ]
  },
  {
   "cell_type": "code",
   "execution_count": 25,
   "id": "7c55c2ce",
   "metadata": {},
   "outputs": [],
   "source": [
    "# https://www.analyticsvidhya.com/blog/2020/04/beginners-guide-exploratory-data-analysis-text-data/\n",
    "# text to lowercase\n",
    "docs['abstract_cleaned']=docs['abstract'].apply(lambda x: x.lower())"
   ]
  },
  {
   "cell_type": "code",
   "execution_count": 26,
   "id": "4d843405",
   "metadata": {},
   "outputs": [],
   "source": [
    "# remove digists\n",
    "docs['abstract_cleaned']=docs['abstract_cleaned'].apply(lambda x: re.sub('\\w*\\d\\w*','', x))"
   ]
  },
  {
   "cell_type": "code",
   "execution_count": 27,
   "id": "d3fba372",
   "metadata": {},
   "outputs": [],
   "source": [
    "# remove punctuation\n",
    "docs['abstract_cleaned']=docs['abstract_cleaned'].apply(lambda x: re.sub('[%s]' % re.escape(string.punctuation), '', x))"
   ]
  },
  {
   "cell_type": "code",
   "execution_count": 28,
   "id": "357c45bf",
   "metadata": {},
   "outputs": [],
   "source": [
    "# remove extra spaces\n",
    "docs['abstract_cleaned']=docs['abstract_cleaned'].apply(lambda x: re.sub(' +',' ',x))"
   ]
  },
  {
   "cell_type": "code",
   "execution_count": 29,
   "id": "412a9251",
   "metadata": {},
   "outputs": [],
   "source": [
    "# remove new line char from text\n",
    "docs['abstract_cleaned']=docs['abstract_cleaned'].apply(lambda x: re.sub('\\n','',x))"
   ]
  },
  {
   "cell_type": "code",
   "execution_count": 30,
   "id": "0f7ee21b",
   "metadata": {},
   "outputs": [
    {
     "data": {
      "text/html": [
       "<div>\n",
       "<style scoped>\n",
       "    .dataframe tbody tr th:only-of-type {\n",
       "        vertical-align: middle;\n",
       "    }\n",
       "\n",
       "    .dataframe tbody tr th {\n",
       "        vertical-align: top;\n",
       "    }\n",
       "\n",
       "    .dataframe thead th {\n",
       "        text-align: right;\n",
       "    }\n",
       "</style>\n",
       "<table border=\"1\" class=\"dataframe\">\n",
       "  <thead>\n",
       "    <tr style=\"text-align: right;\">\n",
       "      <th></th>\n",
       "      <th>abstract</th>\n",
       "      <th>abstract_cleaned</th>\n",
       "    </tr>\n",
       "  </thead>\n",
       "  <tbody>\n",
       "    <tr>\n",
       "      <th>0</th>\n",
       "      <td>Taiwanese regional budget carrierV Air will go out of business in October after less than two ye...</td>\n",
       "      <td>taiwanese regional budget carrierv air will go out of business in october after less than two ye...</td>\n",
       "    </tr>\n",
       "    <tr>\n",
       "      <th>1</th>\n",
       "      <td>AAV European contributor Ian Goold explains why paying for dinner sometimes pays off in business...</td>\n",
       "      <td>aav european contributor ian goold explains why paying for dinner sometimes pays off in business...</td>\n",
       "    </tr>\n",
       "    <tr>\n",
       "      <th>2</th>\n",
       "      <td>Research in the US has found that automatic braking systems on cars reduced crashes by 39 per ce...</td>\n",
       "      <td>research in the us has found that automatic braking systems on cars reduced crashes by per cent ...</td>\n",
       "    </tr>\n",
       "    <tr>\n",
       "      <th>3</th>\n",
       "      <td>Virgin Australia has confirmed that it will launch in-flight WiFi on its domestic and internatio...</td>\n",
       "      <td>virgin australia has confirmed that it will launch inflight wifi on its domestic and internation...</td>\n",
       "    </tr>\n",
       "    <tr>\n",
       "      <th>4</th>\n",
       "      <td>It may just be the people I follow on Instagram, but it seems like everyone is going to Puglia i...</td>\n",
       "      <td>it may just be the people i follow on instagram but it seems like everyone is going to puglia in...</td>\n",
       "    </tr>\n",
       "  </tbody>\n",
       "</table>\n",
       "</div>"
      ],
      "text/plain": [
       "                                                                                              abstract  \\\n",
       "0  Taiwanese regional budget carrierV Air will go out of business in October after less than two ye...   \n",
       "1  AAV European contributor Ian Goold explains why paying for dinner sometimes pays off in business...   \n",
       "2  Research in the US has found that automatic braking systems on cars reduced crashes by 39 per ce...   \n",
       "3  Virgin Australia has confirmed that it will launch in-flight WiFi on its domestic and internatio...   \n",
       "4  It may just be the people I follow on Instagram, but it seems like everyone is going to Puglia i...   \n",
       "\n",
       "                                                                                      abstract_cleaned  \n",
       "0  taiwanese regional budget carrierv air will go out of business in october after less than two ye...  \n",
       "1  aav european contributor ian goold explains why paying for dinner sometimes pays off in business...  \n",
       "2  research in the us has found that automatic braking systems on cars reduced crashes by per cent ...  \n",
       "3  virgin australia has confirmed that it will launch inflight wifi on its domestic and internation...  \n",
       "4  it may just be the people i follow on instagram but it seems like everyone is going to puglia in...  "
      ]
     },
     "execution_count": 30,
     "metadata": {},
     "output_type": "execute_result"
    }
   ],
   "source": [
    "docs[['abstract', 'abstract_cleaned']].head()"
   ]
  },
  {
   "cell_type": "code",
   "execution_count": 31,
   "id": "19067a1e",
   "metadata": {},
   "outputs": [
    {
     "name": "stdout",
     "output_type": "stream",
     "text": [
      "Abstract 1:\n",
      " AIRLINES QANTAS boss Alan Joyce's annual pay soared to $12.96 million in the year to June 30 as he steered the airline to a record profit. Mr Joyce was paid a cash bonus of $3.3 million in the year, and awarded shares worth $1.6 million, for exceeding the company's cost-cutting targets, delivering on fuel costs and improving customer satisfaction. His previous year's cash bonus was $1.9 million, and the main factor in Mr Joyce's total remuneration rising from the previous year's $11.9 million.\n",
      "Abstract 2:\n",
      " BRADDON MHR Justine Keay has called on Primary Industries and Water Minister Jeremy Rockliff to investigate whether biosecurity measures at Burnie airport are up to scratch. The new member said checks and processes at the Burnie and Devonport airports seem inadequate given the increase in passenger numbers.\n"
     ]
    }
   ],
   "source": [
    "for index,text in enumerate(docs['abstract'][110:112]):\n",
    "    print('Abstract %d:\\n'%(index+1),text)"
   ]
  },
  {
   "cell_type": "code",
   "execution_count": 32,
   "id": "2ab2b054",
   "metadata": {},
   "outputs": [
    {
     "name": "stdout",
     "output_type": "stream",
     "text": [
      "Abstract 1:\n",
      " airlines qantas boss alan joyces annual pay soared to million in the year to june as he steered the airline to a record profit mr joyce was paid a cash bonus of million in the year and awarded shares worth million for exceeding the companys costcutting targets delivering on fuel costs and improving customer satisfaction his previous years cash bonus was million and the main factor in mr joyces total remuneration rising from the previous years million\n",
      "Abstract 2:\n",
      " braddon mhr justine keay has called on primary industries and water minister jeremy rockliff to investigate whether biosecurity measures at burnie airport are up to scratch the new member said checks and processes at the burnie and devonport airports seem inadequate given the increase in passenger numbers\n"
     ]
    }
   ],
   "source": [
    "for index,text in enumerate(docs['abstract_cleaned'][110:112]):\n",
    "    print('Abstract %d:\\n'%(index+1),text)"
   ]
  },
  {
   "cell_type": "code",
   "execution_count": 33,
   "id": "b3a53e7b",
   "metadata": {},
   "outputs": [
    {
     "name": "stdout",
     "output_type": "stream",
     "text": [
      "<class 'pandas.core.frame.DataFrame'>\n",
      "Int64Index: 298 entries, 0 to 299\n",
      "Data columns (total 22 columns):\n",
      " #   Column             Non-Null Count  Dtype \n",
      "---  ------             --------------  ----- \n",
      " 0   id                 298 non-null    object\n",
      " 1   media_item_id      298 non-null    int64 \n",
      " 2   summary_id         298 non-null    object\n",
      " 3   program_id         298 non-null    int64 \n",
      " 4   commentator_id     298 non-null    int64 \n",
      " 5   headline           298 non-null    object\n",
      " 6   searchable_text    298 non-null    object\n",
      " 7   abstract           298 non-null    object\n",
      " 8   program_name       298 non-null    object\n",
      " 9   source_name        298 non-null    object\n",
      " 10  media_type         298 non-null    object\n",
      " 11  commentator        298 non-null    object\n",
      " 12  article_type       298 non-null    object\n",
      " 13  source_system      298 non-null    object\n",
      " 14  hyperlink          298 non-null    object\n",
      " 15  media_type_id      298 non-null    int64 \n",
      " 16  company_name       298 non-null    object\n",
      " 17  delivery_set_name  298 non-null    object\n",
      " 18  brief_name         298 non-null    object\n",
      " 19  prospect_keyword   298 non-null    object\n",
      " 20  link_title         298 non-null    object\n",
      " 21  abstract_cleaned   298 non-null    object\n",
      "dtypes: int64(4), object(18)\n",
      "memory usage: 53.5+ KB\n"
     ]
    }
   ],
   "source": [
    "docs.info()"
   ]
  },
  {
   "cell_type": "code",
   "execution_count": 34,
   "id": "460c5ff5",
   "metadata": {},
   "outputs": [
    {
     "data": {
      "text/html": [
       "<div>\n",
       "<style scoped>\n",
       "    .dataframe tbody tr th:only-of-type {\n",
       "        vertical-align: middle;\n",
       "    }\n",
       "\n",
       "    .dataframe tbody tr th {\n",
       "        vertical-align: top;\n",
       "    }\n",
       "\n",
       "    .dataframe thead th {\n",
       "        text-align: right;\n",
       "    }\n",
       "</style>\n",
       "<table border=\"1\" class=\"dataframe\">\n",
       "  <thead>\n",
       "    <tr style=\"text-align: right;\">\n",
       "      <th></th>\n",
       "      <th>media_type</th>\n",
       "      <th>media_type_id</th>\n",
       "      <th>0</th>\n",
       "    </tr>\n",
       "  </thead>\n",
       "  <tbody>\n",
       "    <tr>\n",
       "      <th>0</th>\n",
       "      <td>Blog</td>\n",
       "      <td>12</td>\n",
       "      <td>5</td>\n",
       "    </tr>\n",
       "    <tr>\n",
       "      <th>1</th>\n",
       "      <td>Images and Video</td>\n",
       "      <td>14</td>\n",
       "      <td>1</td>\n",
       "    </tr>\n",
       "    <tr>\n",
       "      <th>2</th>\n",
       "      <td>Internet</td>\n",
       "      <td>7</td>\n",
       "      <td>126</td>\n",
       "    </tr>\n",
       "    <tr>\n",
       "      <th>3</th>\n",
       "      <td>Magazine</td>\n",
       "      <td>15</td>\n",
       "      <td>27</td>\n",
       "    </tr>\n",
       "    <tr>\n",
       "      <th>4</th>\n",
       "      <td>Newspaper</td>\n",
       "      <td>6</td>\n",
       "      <td>129</td>\n",
       "    </tr>\n",
       "    <tr>\n",
       "      <th>5</th>\n",
       "      <td>Social Network</td>\n",
       "      <td>10</td>\n",
       "      <td>10</td>\n",
       "    </tr>\n",
       "  </tbody>\n",
       "</table>\n",
       "</div>"
      ],
      "text/plain": [
       "         media_type  media_type_id    0\n",
       "0              Blog             12    5\n",
       "1  Images and Video             14    1\n",
       "2          Internet              7  126\n",
       "3          Magazine             15   27\n",
       "4         Newspaper              6  129\n",
       "5    Social Network             10   10"
      ]
     },
     "execution_count": 34,
     "metadata": {},
     "output_type": "execute_result"
    }
   ],
   "source": [
    "# there are several columns which seem to have a connection and we need to check that\n",
    "docs.groupby(['media_type', 'media_type_id'], dropna=False).size().reset_index()"
   ]
  },
  {
   "cell_type": "code",
   "execution_count": 35,
   "id": "8ceee92c",
   "metadata": {},
   "outputs": [
    {
     "data": {
      "text/html": [
       "<div>\n",
       "<style scoped>\n",
       "    .dataframe tbody tr th:only-of-type {\n",
       "        vertical-align: middle;\n",
       "    }\n",
       "\n",
       "    .dataframe tbody tr th {\n",
       "        vertical-align: top;\n",
       "    }\n",
       "\n",
       "    .dataframe thead th {\n",
       "        text-align: right;\n",
       "    }\n",
       "</style>\n",
       "<table border=\"1\" class=\"dataframe\">\n",
       "  <thead>\n",
       "    <tr style=\"text-align: right;\">\n",
       "      <th></th>\n",
       "      <th>commentator</th>\n",
       "      <th>commentator_id</th>\n",
       "      <th>0</th>\n",
       "    </tr>\n",
       "  </thead>\n",
       "  <tbody>\n",
       "    <tr>\n",
       "      <th>0</th>\n",
       "      <td>3news.co.nz editor</td>\n",
       "      <td>4788900</td>\n",
       "      <td>1</td>\n",
       "    </tr>\n",
       "    <tr>\n",
       "      <th>1</th>\n",
       "      <td>AFP</td>\n",
       "      <td>9112</td>\n",
       "      <td>1</td>\n",
       "    </tr>\n",
       "    <tr>\n",
       "      <th>2</th>\n",
       "      <td>AMY HAYDOCK</td>\n",
       "      <td>959737</td>\n",
       "      <td>1</td>\n",
       "    </tr>\n",
       "    <tr>\n",
       "      <th>3</th>\n",
       "      <td>Aaron Greenwood</td>\n",
       "      <td>95472</td>\n",
       "      <td>1</td>\n",
       "    </tr>\n",
       "    <tr>\n",
       "      <th>4</th>\n",
       "      <td>Adele Ferguson Mario Christodoulou</td>\n",
       "      <td>9830684</td>\n",
       "      <td>1</td>\n",
       "    </tr>\n",
       "  </tbody>\n",
       "</table>\n",
       "</div>"
      ],
      "text/plain": [
       "                          commentator  commentator_id  0\n",
       "0                  3news.co.nz editor         4788900  1\n",
       "1                                 AFP            9112  1\n",
       "2                         AMY HAYDOCK          959737  1\n",
       "3                     Aaron Greenwood           95472  1\n",
       "4  Adele Ferguson Mario Christodoulou         9830684  1"
      ]
     },
     "execution_count": 35,
     "metadata": {},
     "output_type": "execute_result"
    }
   ],
   "source": [
    "docs.groupby(['commentator', 'commentator_id'], dropna=False).size().reset_index().head()"
   ]
  },
  {
   "cell_type": "code",
   "execution_count": 36,
   "id": "1ca9cee6",
   "metadata": {},
   "outputs": [
    {
     "data": {
      "text/html": [
       "<div>\n",
       "<style scoped>\n",
       "    .dataframe tbody tr th:only-of-type {\n",
       "        vertical-align: middle;\n",
       "    }\n",
       "\n",
       "    .dataframe tbody tr th {\n",
       "        vertical-align: top;\n",
       "    }\n",
       "\n",
       "    .dataframe thead th {\n",
       "        text-align: right;\n",
       "    }\n",
       "</style>\n",
       "<table border=\"1\" class=\"dataframe\">\n",
       "  <thead>\n",
       "    <tr style=\"text-align: right;\">\n",
       "      <th></th>\n",
       "      <th>program_name</th>\n",
       "      <th>program_id</th>\n",
       "      <th>0</th>\n",
       "    </tr>\n",
       "  </thead>\n",
       "  <tbody>\n",
       "    <tr>\n",
       "      <th>0</th>\n",
       "      <td>@australian</td>\n",
       "      <td>1239084</td>\n",
       "      <td>1</td>\n",
       "    </tr>\n",
       "    <tr>\n",
       "      <th>1</th>\n",
       "      <td>Accounting</td>\n",
       "      <td>198977</td>\n",
       "      <td>1</td>\n",
       "    </tr>\n",
       "    <tr>\n",
       "      <th>2</th>\n",
       "      <td>Aviation</td>\n",
       "      <td>55252</td>\n",
       "      <td>4</td>\n",
       "    </tr>\n",
       "    <tr>\n",
       "      <th>3</th>\n",
       "      <td>Business Day</td>\n",
       "      <td>78953</td>\n",
       "      <td>2</td>\n",
       "    </tr>\n",
       "    <tr>\n",
       "      <th>4</th>\n",
       "      <td>Business News</td>\n",
       "      <td>47600</td>\n",
       "      <td>2</td>\n",
       "    </tr>\n",
       "    <tr>\n",
       "      <th>5</th>\n",
       "      <td>Business News</td>\n",
       "      <td>47661</td>\n",
       "      <td>2</td>\n",
       "    </tr>\n",
       "    <tr>\n",
       "      <th>6</th>\n",
       "      <td>Business News</td>\n",
       "      <td>47774</td>\n",
       "      <td>1</td>\n",
       "    </tr>\n",
       "    <tr>\n",
       "      <th>7</th>\n",
       "      <td>Business News</td>\n",
       "      <td>47817</td>\n",
       "      <td>3</td>\n",
       "    </tr>\n",
       "    <tr>\n",
       "      <th>8</th>\n",
       "      <td>Business News</td>\n",
       "      <td>47869</td>\n",
       "      <td>4</td>\n",
       "    </tr>\n",
       "    <tr>\n",
       "      <th>9</th>\n",
       "      <td>Business News</td>\n",
       "      <td>47973</td>\n",
       "      <td>1</td>\n",
       "    </tr>\n",
       "  </tbody>\n",
       "</table>\n",
       "</div>"
      ],
      "text/plain": [
       "    program_name  program_id  0\n",
       "0    @australian     1239084  1\n",
       "1     Accounting      198977  1\n",
       "2       Aviation       55252  4\n",
       "3   Business Day       78953  2\n",
       "4  Business News       47600  2\n",
       "5  Business News       47661  2\n",
       "6  Business News       47774  1\n",
       "7  Business News       47817  3\n",
       "8  Business News       47869  4\n",
       "9  Business News       47973  1"
      ]
     },
     "execution_count": 36,
     "metadata": {},
     "output_type": "execute_result"
    }
   ],
   "source": [
    "docs.groupby(['program_name', 'program_id'], dropna=False).size().reset_index().head(10)"
   ]
  },
  {
   "cell_type": "code",
   "execution_count": 37,
   "id": "8ba443a2",
   "metadata": {},
   "outputs": [],
   "source": [
    "def display_groups(df, col_name, title):\n",
    "    types = pd.DataFrame()\n",
    "    types['count'] = df.groupby(col_name)['id'].count()\n",
    "\n",
    "    fig = plt.figure(figsize=(10, 4))\n",
    "    plt.style.use('fivethirtyeight')\n",
    "    ax = fig.add_axes([0,0,1,1])\n",
    "    plt.xticks(rotation=90)\n",
    "    plt.title(title)\n",
    "    ax.bar(types.index, types['count'], color='teal')"
   ]
  },
  {
   "cell_type": "code",
   "execution_count": 38,
   "id": "222300cb",
   "metadata": {},
   "outputs": [
    {
     "data": {
      "image/png": "[encoded data removed]",
      "text/plain": [
       "<Figure size 720x288 with 1 Axes>"
      ]
     },
     "metadata": {
      "needs_background": "light"
     },
     "output_type": "display_data"
    }
   ],
   "source": [
    "display_groups(docs, 'source_system', 'Source System')"
   ]
  },
  {
   "cell_type": "markdown",
   "id": "8d91c12a",
   "metadata": {},
   "source": [
    "We can cluster either by article type, by media type or prospect keywords. The number of articles differs highly among different categories."
   ]
  },
  {
   "cell_type": "code",
   "execution_count": 39,
   "id": "7813e4c1",
   "metadata": {},
   "outputs": [
    {
     "data": {
      "image/png": "[encoded data removed]",
      "text/plain": [
       "<Figure size 720x288 with 1 Axes>"
      ]
     },
     "metadata": {},
     "output_type": "display_data"
    }
   ],
   "source": [
    "display_groups(docs, 'media_type', 'Media Type')"
   ]
  },
  {
   "cell_type": "code",
   "execution_count": 40,
   "id": "d195707f",
   "metadata": {},
   "outputs": [
    {
     "data": {
      "image/png": "[encoded data removed]",
      "text/plain": [
       "<Figure size 720x288 with 1 Axes>"
      ]
     },
     "metadata": {},
     "output_type": "display_data"
    }
   ],
   "source": [
    "display_groups(docs, 'article_type', 'Article Type')"
   ]
  },
  {
   "cell_type": "code",
   "execution_count": 41,
   "id": "59e0fe69",
   "metadata": {},
   "outputs": [
    {
     "data": {
      "image/png": "[encoded data removed]",
      "text/plain": [
       "<Figure size 720x288 with 1 Axes>"
      ]
     },
     "metadata": {},
     "output_type": "display_data"
    }
   ],
   "source": [
    "display_groups(docs, 'program_name', 'Program Names')"
   ]
  },
  {
   "cell_type": "markdown",
   "id": "59fba998",
   "metadata": {},
   "source": [
    "media_type and commentator columns are linked to the respective media_type_id and commentator_id. Not the same case for program_name where one program name can have multiple program_ids, e.g. Business News generalizes multiple business news programs.\n",
    "\n",
    "I will set the media_type, program_name, article_type and source_system columns as category type\n",
    "\n",
    "Test kmode for clustering categorical data: \n",
    "- https://datascience.stackexchange.com/questions/48473/kmeans-clustering-with-multiple-columns-containing-strings\n",
    "- https://www.analyticsvidhya.com/blog/2021/06/kmodes-clustering-algorithm-for-categorical-data/\n",
    "- https://towardsdatascience.com/clustering-on-numerical-and-categorical-features-6e0ebcf1cbad\n",
    "\n",
    "Use word2vec and kmeans as a main clustering algorithm.\n",
    "Compare results."
   ]
  },
  {
   "cell_type": "code",
   "execution_count": 42,
   "id": "88e0fdbc",
   "metadata": {},
   "outputs": [],
   "source": [
    "convert_dict = {'media_type': 'category',\n",
    "                'article_type': 'category',\n",
    "                'source_system': 'category'\n",
    "               }\n",
    "  \n",
    "docs = docs.astype(convert_dict)\n",
    "# docs.info()"
   ]
  },
  {
   "cell_type": "code",
   "execution_count": 43,
   "id": "62ae786e",
   "metadata": {},
   "outputs": [],
   "source": [
    "kmode_data = docs[['id', 'media_type', 'article_type', 'source_system']]"
   ]
  },
  {
   "cell_type": "code",
   "execution_count": 44,
   "id": "d838468e",
   "metadata": {},
   "outputs": [
    {
     "name": "stdout",
     "output_type": "stream",
     "text": [
      "Init: initializing centroids\n",
      "Init: initializing clusters\n",
      "Starting iterations...\n",
      "Run 1, iteration: 1/100, moves: 0, cost: 755.0\n",
      "Init: initializing centroids\n",
      "Init: initializing clusters\n",
      "Starting iterations...\n",
      "Run 2, iteration: 1/100, moves: 0, cost: 755.0\n",
      "Init: initializing centroids\n",
      "Init: initializing clusters\n",
      "Starting iterations...\n",
      "Run 3, iteration: 1/100, moves: 0, cost: 755.0\n",
      "Init: initializing centroids\n",
      "Init: initializing clusters\n",
      "Starting iterations...\n",
      "Run 4, iteration: 1/100, moves: 0, cost: 755.0\n",
      "Init: initializing centroids\n",
      "Init: initializing clusters\n",
      "Starting iterations...\n",
      "Run 5, iteration: 1/100, moves: 0, cost: 755.0\n",
      "Best run was number 1\n",
      "Init: initializing centroids\n",
      "Init: initializing clusters\n",
      "Starting iterations...\n",
      "Run 1, iteration: 1/100, moves: 140, cost: 361.0\n",
      "Init: initializing centroids\n",
      "Init: initializing clusters\n",
      "Starting iterations...\n",
      "Run 2, iteration: 1/100, moves: 0, cost: 360.0\n",
      "Init: initializing centroids\n",
      "Init: initializing clusters\n",
      "Starting iterations...\n",
      "Run 3, iteration: 1/100, moves: 27, cost: 360.0\n",
      "Init: initializing centroids\n",
      "Init: initializing clusters\n",
      "Starting iterations...\n",
      "Run 4, iteration: 1/100, moves: 0, cost: 360.0\n",
      "Init: initializing centroids\n",
      "Init: initializing clusters\n",
      "Starting iterations...\n",
      "Run 5, iteration: 1/100, moves: 0, cost: 360.0\n",
      "Best run was number 2\n",
      "Init: initializing centroids\n",
      "Init: initializing clusters\n",
      "Starting iterations...\n",
      "Run 1, iteration: 1/100, moves: 0, cost: 359.0\n",
      "Init: initializing centroids\n",
      "Init: initializing clusters\n",
      "Starting iterations...\n",
      "Run 2, iteration: 1/100, moves: 0, cost: 333.0\n",
      "Init: initializing centroids\n",
      "Init: initializing clusters\n",
      "Starting iterations...\n",
      "Run 3, iteration: 1/100, moves: 0, cost: 359.0\n",
      "Init: initializing centroids\n",
      "Init: initializing clusters\n",
      "Starting iterations...\n",
      "Run 4, iteration: 1/100, moves: 0, cost: 333.0\n",
      "Init: initializing centroids\n",
      "Init: initializing clusters\n",
      "Starting iterations...\n",
      "Run 5, iteration: 1/100, moves: 0, cost: 359.0\n",
      "Best run was number 2\n",
      "Init: initializing centroids\n",
      "Init: initializing clusters\n",
      "Starting iterations...\n",
      "Run 1, iteration: 1/100, moves: 0, cost: 353.0\n",
      "Init: initializing centroids\n",
      "Init: initializing clusters\n",
      "Starting iterations...\n",
      "Run 2, iteration: 1/100, moves: 0, cost: 358.0\n",
      "Init: initializing centroids\n",
      "Init: initializing clusters\n",
      "Starting iterations...\n",
      "Run 3, iteration: 1/100, moves: 0, cost: 358.0\n",
      "Init: initializing centroids\n",
      "Init: initializing clusters\n",
      "Starting iterations...\n",
      "Run 4, iteration: 1/100, moves: 0, cost: 359.0\n",
      "Init: initializing centroids\n",
      "Init: initializing clusters\n",
      "Starting iterations...\n",
      "Run 5, iteration: 1/100, moves: 0, cost: 358.0\n",
      "Best run was number 1\n"
     ]
    },
    {
     "data": {
      "image/png": "[encoded data removed]",
      "text/plain": [
       "<Figure size 432x288 with 1 Axes>"
      ]
     },
     "metadata": {},
     "output_type": "display_data"
    }
   ],
   "source": [
    "# Elbow curve to find optimal K\n",
    "cost = []\n",
    "K = range(1,5)\n",
    "for num_clusters in list(K):\n",
    "    kmode = KModes(n_clusters=num_clusters, init = \"random\", n_init = 5, verbose=1)\n",
    "    kmode.fit_predict(kmode_data)\n",
    "    cost.append(kmode.cost_)\n",
    "    \n",
    "plt.plot(K, cost, 'bx-')\n",
    "plt.xlabel('No. of clusters')\n",
    "plt.ylabel('Cost')\n",
    "plt.title('Elbow Method For Optimal k')\n",
    "plt.show()"
   ]
  },
  {
   "cell_type": "code",
   "execution_count": 45,
   "id": "e5d6c51e",
   "metadata": {},
   "outputs": [
    {
     "name": "stdout",
     "output_type": "stream",
     "text": [
      "Init: initializing centroids\n",
      "Init: initializing clusters\n",
      "Starting iterations...\n",
      "Run 1, iteration: 1/100, moves: 140, cost: 361.0\n",
      "Init: initializing centroids\n",
      "Init: initializing clusters\n",
      "Starting iterations...\n",
      "Run 2, iteration: 1/100, moves: 27, cost: 360.0\n",
      "Init: initializing centroids\n",
      "Init: initializing clusters\n",
      "Starting iterations...\n",
      "Run 3, iteration: 1/100, moves: 15, cost: 361.0\n",
      "Init: initializing centroids\n",
      "Init: initializing clusters\n",
      "Starting iterations...\n",
      "Run 4, iteration: 1/100, moves: 0, cost: 360.0\n",
      "Init: initializing centroids\n",
      "Init: initializing clusters\n",
      "Starting iterations...\n",
      "Run 5, iteration: 1/100, moves: 0, cost: 754.0\n",
      "Best run was number 2\n"
     ]
    },
    {
     "data": {
      "text/plain": [
       "array([1, 1, 1, 1, 1, 1, 1, 1, 1, 1, 1, 1, 1, 1, 1, 1, 1, 1, 1, 1, 0, 0,\n",
       "       1, 1, 0, 0, 0, 1, 0, 1, 1, 1, 1, 0, 0, 0, 0, 0, 0, 0, 0, 1, 1, 1,\n",
       "       1, 1, 1, 0, 1, 1, 1, 1, 1, 1, 1, 1, 1, 1, 0, 1, 0, 0, 0, 1, 1, 1,\n",
       "       0, 0, 1, 0, 0, 1, 1, 0, 0, 0, 0, 0, 0, 0, 1, 0, 0, 0, 0, 0, 0, 0,\n",
       "       1, 1, 0, 1, 1, 1, 1, 1, 1, 1, 1, 1, 1, 1, 1, 1, 1, 1, 0, 0, 0, 0,\n",
       "       1, 1, 0, 1, 1, 1, 1, 1, 1, 1, 1, 1, 1, 1, 0, 0, 0, 0, 0, 0, 0, 0,\n",
       "       0, 0, 0, 1, 0, 1, 0, 0, 0, 0, 0, 1, 1, 1, 1, 1, 1, 1, 1, 0, 1, 0,\n",
       "       0, 1, 0, 1, 1, 1, 1, 1, 0, 1, 1, 1, 1, 1, 1, 1, 1, 1, 1, 1, 1, 1,\n",
       "       1, 1, 1, 0, 1, 1, 1, 1, 1, 0, 0, 0, 0, 0, 0, 0, 0, 0, 0, 0, 0, 0,\n",
       "       0, 0, 0, 1, 0, 0, 0, 1, 0, 0, 0, 0, 0, 0, 0, 0, 0, 0, 0, 0, 0, 0,\n",
       "       0, 0, 1, 1, 1, 0, 1, 1, 0, 0, 0, 1, 1, 1, 1, 1, 1, 1, 0, 1, 1, 1,\n",
       "       0, 0, 0, 0, 1, 1, 0, 0, 0, 0, 0, 0, 0, 0, 0, 0, 1, 0, 0, 0, 0, 0,\n",
       "       0, 0, 0, 0, 0, 0, 0, 0, 0, 1, 1, 1, 0, 0, 1, 1, 1, 1, 0, 0, 0, 1,\n",
       "       1, 1, 0, 0, 1, 0, 1, 1, 1, 1, 1, 1], dtype=uint16)"
      ]
     },
     "execution_count": 45,
     "metadata": {},
     "output_type": "execute_result"
    }
   ],
   "source": [
    "# Building the model with 2 clusters\n",
    "kmode = KModes(n_clusters=2, init = \"random\", n_init = 5, verbose=1)\n",
    "clusters = kmode.fit_predict(kmode_data)\n",
    "clusters"
   ]
  },
  {
   "cell_type": "code",
   "execution_count": 46,
   "id": "b0408913",
   "metadata": {},
   "outputs": [],
   "source": [
    "kmode_data.insert(0, \"Cluster\", clusters, True)\n",
    "# kmode_data.head()"
   ]
  },
  {
   "cell_type": "code",
   "execution_count": 47,
   "id": "4c1bc816",
   "metadata": {},
   "outputs": [],
   "source": [
    "cluster_one = pd.DataFrame(kmode_data[kmode_data['Cluster']==1].groupby(['media_type', 'article_type', 'source_system']).count())"
   ]
  },
  {
   "cell_type": "code",
   "execution_count": 48,
   "id": "eab99523",
   "metadata": {},
   "outputs": [],
   "source": [
    "cluster_one = cluster_one[cluster_one['id']>0]"
   ]
  },
  {
   "cell_type": "code",
   "execution_count": 49,
   "id": "c5b7d3e8",
   "metadata": {},
   "outputs": [
    {
     "data": {
      "text/html": [
       "<div>\n",
       "<style scoped>\n",
       "    .dataframe tbody tr th:only-of-type {\n",
       "        vertical-align: middle;\n",
       "    }\n",
       "\n",
       "    .dataframe tbody tr th {\n",
       "        vertical-align: top;\n",
       "    }\n",
       "\n",
       "    .dataframe thead th {\n",
       "        text-align: right;\n",
       "    }\n",
       "</style>\n",
       "<table border=\"1\" class=\"dataframe\">\n",
       "  <thead>\n",
       "    <tr style=\"text-align: right;\">\n",
       "      <th></th>\n",
       "      <th></th>\n",
       "      <th></th>\n",
       "      <th>Cluster</th>\n",
       "      <th>id</th>\n",
       "    </tr>\n",
       "    <tr>\n",
       "      <th>media_type</th>\n",
       "      <th>article_type</th>\n",
       "      <th>source_system</th>\n",
       "      <th></th>\n",
       "      <th></th>\n",
       "    </tr>\n",
       "  </thead>\n",
       "  <tbody>\n",
       "    <tr>\n",
       "      <th>Magazine</th>\n",
       "      <th>News Item</th>\n",
       "      <th>Press</th>\n",
       "      <td>27</td>\n",
       "      <td>27</td>\n",
       "    </tr>\n",
       "    <tr>\n",
       "      <th rowspan=\"2\" valign=\"top\">Newspaper</th>\n",
       "      <th>Letter</th>\n",
       "      <th>Press</th>\n",
       "      <td>5</td>\n",
       "      <td>5</td>\n",
       "    </tr>\n",
       "    <tr>\n",
       "      <th>News Item</th>\n",
       "      <th>Press</th>\n",
       "      <td>124</td>\n",
       "      <td>124</td>\n",
       "    </tr>\n",
       "  </tbody>\n",
       "</table>\n",
       "</div>"
      ],
      "text/plain": [
       "                                       Cluster   id\n",
       "media_type article_type source_system              \n",
       "Magazine   News Item    Press               27   27\n",
       "Newspaper  Letter       Press                5    5\n",
       "           News Item    Press              124  124"
      ]
     },
     "execution_count": 49,
     "metadata": {},
     "output_type": "execute_result"
    }
   ],
   "source": [
    "cluster_one"
   ]
  },
  {
   "cell_type": "code",
   "execution_count": 50,
   "id": "e36a94cf",
   "metadata": {},
   "outputs": [],
   "source": [
    "cluster_zero = pd.DataFrame(kmode_data[kmode_data['Cluster']==0].groupby(['media_type', 'article_type', 'source_system']).count())"
   ]
  },
  {
   "cell_type": "code",
   "execution_count": 51,
   "id": "d991bdef",
   "metadata": {},
   "outputs": [],
   "source": [
    "cluster_zero = cluster_zero[cluster_zero['id']>0]"
   ]
  },
  {
   "cell_type": "code",
   "execution_count": 52,
   "id": "1569e216",
   "metadata": {},
   "outputs": [
    {
     "data": {
      "text/html": [
       "<div>\n",
       "<style scoped>\n",
       "    .dataframe tbody tr th:only-of-type {\n",
       "        vertical-align: middle;\n",
       "    }\n",
       "\n",
       "    .dataframe tbody tr th {\n",
       "        vertical-align: top;\n",
       "    }\n",
       "\n",
       "    .dataframe thead th {\n",
       "        text-align: right;\n",
       "    }\n",
       "</style>\n",
       "<table border=\"1\" class=\"dataframe\">\n",
       "  <thead>\n",
       "    <tr style=\"text-align: right;\">\n",
       "      <th></th>\n",
       "      <th></th>\n",
       "      <th></th>\n",
       "      <th>Cluster</th>\n",
       "      <th>id</th>\n",
       "    </tr>\n",
       "    <tr>\n",
       "      <th>media_type</th>\n",
       "      <th>article_type</th>\n",
       "      <th>source_system</th>\n",
       "      <th></th>\n",
       "      <th></th>\n",
       "    </tr>\n",
       "  </thead>\n",
       "  <tbody>\n",
       "    <tr>\n",
       "      <th>Blog</th>\n",
       "      <th>Social Media</th>\n",
       "      <th>Internet</th>\n",
       "      <td>5</td>\n",
       "      <td>5</td>\n",
       "    </tr>\n",
       "    <tr>\n",
       "      <th>Images and Video</th>\n",
       "      <th>Social Media</th>\n",
       "      <th>Internet</th>\n",
       "      <td>1</td>\n",
       "      <td>1</td>\n",
       "    </tr>\n",
       "    <tr>\n",
       "      <th>Internet</th>\n",
       "      <th>Internet Item</th>\n",
       "      <th>Internet</th>\n",
       "      <td>126</td>\n",
       "      <td>126</td>\n",
       "    </tr>\n",
       "    <tr>\n",
       "      <th>Social Network</th>\n",
       "      <th>Social Media</th>\n",
       "      <th>Internet</th>\n",
       "      <td>10</td>\n",
       "      <td>10</td>\n",
       "    </tr>\n",
       "  </tbody>\n",
       "</table>\n",
       "</div>"
      ],
      "text/plain": [
       "                                              Cluster   id\n",
       "media_type       article_type  source_system              \n",
       "Blog             Social Media  Internet             5    5\n",
       "Images and Video Social Media  Internet             1    1\n",
       "Internet         Internet Item Internet           126  126\n",
       "Social Network   Social Media  Internet            10   10"
      ]
     },
     "execution_count": 52,
     "metadata": {},
     "output_type": "execute_result"
    }
   ],
   "source": [
    "cluster_zero"
   ]
  },
  {
   "cell_type": "code",
   "execution_count": 53,
   "id": "99ffb837",
   "metadata": {},
   "outputs": [
    {
     "name": "stderr",
     "output_type": "stream",
     "text": [
      "C:\\Users\\PC\\anaconda3\\lib\\site-packages\\ipykernel_launcher.py:5: SettingWithCopyWarning: \n",
      "A value is trying to be set on a copy of a slice from a DataFrame.\n",
      "Try using .loc[row_indexer,col_indexer] = value instead\n",
      "\n",
      "See the caveats in the documentation: https://pandas.pydata.org/pandas-docs/stable/user_guide/indexing.html#returning-a-view-versus-a-copy\n",
      "  \"\"\"\n"
     ]
    }
   ],
   "source": [
    "# Ignoring the warning. I did not want to create a new data frame for adding this one column. \n",
    "# Usually, copy() should be used because this data frame is created using a filter on top of another \n",
    "# data frame\n",
    "\n",
    "kmode_data['cluster_name'] = np.where(kmode_data['Cluster'] == 1,'Printed Press', 'Online Media')"
   ]
  },
  {
   "cell_type": "code",
   "execution_count": 54,
   "id": "eec192f5",
   "metadata": {},
   "outputs": [],
   "source": [
    "docs = pd.merge(docs, kmode_data[['id', 'cluster_name']], on=['id'], how='left')     "
   ]
  },
  {
   "cell_type": "code",
   "execution_count": 55,
   "id": "05bdac08",
   "metadata": {},
   "outputs": [
    {
     "data": {
      "text/html": [
       "<div>\n",
       "<style scoped>\n",
       "    .dataframe tbody tr th:only-of-type {\n",
       "        vertical-align: middle;\n",
       "    }\n",
       "\n",
       "    .dataframe tbody tr th {\n",
       "        vertical-align: top;\n",
       "    }\n",
       "\n",
       "    .dataframe thead th {\n",
       "        text-align: right;\n",
       "    }\n",
       "</style>\n",
       "<table border=\"1\" class=\"dataframe\">\n",
       "  <thead>\n",
       "    <tr style=\"text-align: right;\">\n",
       "      <th></th>\n",
       "      <th>id</th>\n",
       "      <th>media_item_id</th>\n",
       "      <th>summary_id</th>\n",
       "      <th>program_id</th>\n",
       "      <th>commentator_id</th>\n",
       "      <th>headline</th>\n",
       "      <th>searchable_text</th>\n",
       "      <th>abstract</th>\n",
       "      <th>program_name</th>\n",
       "      <th>source_name</th>\n",
       "      <th>media_type</th>\n",
       "      <th>commentator</th>\n",
       "      <th>article_type</th>\n",
       "      <th>source_system</th>\n",
       "      <th>hyperlink</th>\n",
       "      <th>media_type_id</th>\n",
       "      <th>company_name</th>\n",
       "      <th>delivery_set_name</th>\n",
       "      <th>brief_name</th>\n",
       "      <th>prospect_keyword</th>\n",
       "      <th>link_title</th>\n",
       "      <th>abstract_cleaned</th>\n",
       "      <th>cluster_name</th>\n",
       "    </tr>\n",
       "  </thead>\n",
       "  <tbody>\n",
       "    <tr>\n",
       "      <th>0</th>\n",
       "      <td>AVf1MzEjpI2L3kY8EWkf</td>\n",
       "      <td>232128474</td>\n",
       "      <td>649151843</td>\n",
       "      <td>79006</td>\n",
       "      <td>6925</td>\n",
       "      <td>Taiwan's budget carrier V Air to cease operations</td>\n",
       "      <td>&lt;root&gt;&lt;item&gt;&lt;id xml:lang=\"en-US\"&gt;649151843&lt;/id&gt;&lt;head xml:lang=\"en-US\"&gt;Taiwan's budget carrier V ...</td>\n",
       "      <td>Taiwanese regional budget carrierV Air will go out of business in October after less than two ye...</td>\n",
       "      <td>General News</td>\n",
       "      <td>Asian Aviation</td>\n",
       "      <td>Magazine</td>\n",
       "      <td>None</td>\n",
       "      <td>News Item</td>\n",
       "      <td>Press</td>\n",
       "      <td></td>\n",
       "      <td>15</td>\n",
       "      <td>Etihad Airways</td>\n",
       "      <td>My133 3</td>\n",
       "      <td>Competitors Press</td>\n",
       "      <td>Airways,announced,business,capital,industry,launched,plan,planned,route,routes,service,staff,tak...</td>\n",
       "      <td></td>\n",
       "      <td>taiwanese regional budget carrierv air will go out of business in october after less than two ye...</td>\n",
       "      <td>Printed Press</td>\n",
       "    </tr>\n",
       "  </tbody>\n",
       "</table>\n",
       "</div>"
      ],
      "text/plain": [
       "                     id  media_item_id summary_id  program_id  commentator_id  \\\n",
       "0  AVf1MzEjpI2L3kY8EWkf      232128474  649151843       79006            6925   \n",
       "\n",
       "                                            headline  \\\n",
       "0  Taiwan's budget carrier V Air to cease operations   \n",
       "\n",
       "                                                                                       searchable_text  \\\n",
       "0  <root><item><id xml:lang=\"en-US\">649151843</id><head xml:lang=\"en-US\">Taiwan's budget carrier V ...   \n",
       "\n",
       "                                                                                              abstract  \\\n",
       "0  Taiwanese regional budget carrierV Air will go out of business in October after less than two ye...   \n",
       "\n",
       "   program_name     source_name media_type commentator article_type  \\\n",
       "0  General News  Asian Aviation   Magazine        None    News Item   \n",
       "\n",
       "  source_system hyperlink  media_type_id    company_name delivery_set_name  \\\n",
       "0         Press                       15  Etihad Airways           My133 3   \n",
       "\n",
       "          brief_name  \\\n",
       "0  Competitors Press   \n",
       "\n",
       "                                                                                      prospect_keyword  \\\n",
       "0  Airways,announced,business,capital,industry,launched,plan,planned,route,routes,service,staff,tak...   \n",
       "\n",
       "  link_title  \\\n",
       "0              \n",
       "\n",
       "                                                                                      abstract_cleaned  \\\n",
       "0  taiwanese regional budget carrierv air will go out of business in october after less than two ye...   \n",
       "\n",
       "    cluster_name  \n",
       "0  Printed Press  "
      ]
     },
     "execution_count": 55,
     "metadata": {},
     "output_type": "execute_result"
    }
   ],
   "source": [
    "# Using kmode I clustered the articles in relation to the media and article types as well as the source system.\n",
    "docs.head(1)"
   ]
  },
  {
   "cell_type": "markdown",
   "id": "dea6ed9b",
   "metadata": {},
   "source": [
    "What I want to do next is to cluster by the topics of the articles. For this clustering I may use the headline, searchable text, abstract (cleaned) and prospect keywords.\n",
    "\n",
    "In one column combine abstract, headling, program_name, source_name, media_type, article_type, source_system, brief_name.\n",
    "- using word2vec\n",
    "- using TfIdf - https://towardsdatascience.com/all-the-news-17fa34b52b9d\n",
    "- stemming, tfidf, good documentation: https://github.com/parkervg/news-article-clustering\n",
    "- keyword extraction: https://www.analyticsvidhya.com/blog/2022/03/keyword-extraction-methods-from-documents-in-nlp/\n",
    "- nlp: https://www.analyticsvidhya.com/blog/2022/03/learn-basics-of-natural-language-processing-nlp-using-gensim-part-1/\n",
    "- see what else from cleaning is missing (stop words, apostrophes, getting the roots of the words): https://www.analyticsvidhya.com/blog/2014/11/text-data-cleaning-steps-python/"
   ]
  },
  {
   "cell_type": "code",
   "execution_count": null,
   "id": "b3173cae",
   "metadata": {},
   "outputs": [],
   "source": []
  },
  {
   "cell_type": "code",
   "execution_count": null,
   "id": "29504f99",
   "metadata": {},
   "outputs": [],
   "source": []
  },
  {
   "cell_type": "code",
   "execution_count": null,
   "id": "b0cbddb5",
   "metadata": {},
   "outputs": [],
   "source": []
  },
  {
   "cell_type": "code",
   "execution_count": null,
   "id": "ad6de958",
   "metadata": {},
   "outputs": [],
   "source": []
  },
  {
   "cell_type": "code",
   "execution_count": null,
   "id": "0e836c0a",
   "metadata": {},
   "outputs": [],
   "source": []
  },
  {
   "cell_type": "code",
   "execution_count": null,
   "id": "d8033c8d",
   "metadata": {},
   "outputs": [],
   "source": []
  },
  {
   "cell_type": "code",
   "execution_count": null,
   "id": "58e4bf25",
   "metadata": {},
   "outputs": [],
   "source": []
  },
  {
   "cell_type": "code",
   "execution_count": null,
   "id": "600992e7",
   "metadata": {},
   "outputs": [],
   "source": []
  },
  {
   "cell_type": "code",
   "execution_count": null,
   "id": "10546594",
   "metadata": {},
   "outputs": [],
   "source": []
  },
  {
   "cell_type": "code",
   "execution_count": null,
   "id": "280500c8",
   "metadata": {},
   "outputs": [],
   "source": []
  }
 ],
 "metadata": {
  "kernelspec": {
   "display_name": "Python 3",
   "language": "python",
   "name": "python3"
  },
  "language_info": {
   "codemirror_mode": {
    "name": "ipython",
    "version": 3
   },
   "file_extension": ".py",
   "mimetype": "text/x-python",
   "name": "python",
   "nbconvert_exporter": "python",
   "pygments_lexer": "ipython3",
   "version": "3.7.6"
  }
 },
 "nbformat": 4,
 "nbformat_minor": 5
}
